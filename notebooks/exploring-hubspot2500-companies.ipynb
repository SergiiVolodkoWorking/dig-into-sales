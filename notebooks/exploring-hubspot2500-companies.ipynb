{
 "cells": [
  {
   "cell_type": "markdown",
   "metadata": {},
   "source": [
    "# Load data"
   ]
  },
  {
   "cell_type": "code",
   "execution_count": 28,
   "metadata": {},
   "outputs": [],
   "source": [
    "import pandas as pd\n",
    "import numpy as numpy\n",
    "import os.path\n",
    "\n",
    "data_folder = \"../data\""
   ]
  },
  {
   "cell_type": "code",
   "execution_count": 29,
   "metadata": {},
   "outputs": [
    {
     "output_type": "stream",
     "name": "stdout",
     "text": "<class 'pandas.core.frame.DataFrame'>\nInt64Index: 639 entries, 0 to 673\nData columns (total 17 columns):\nAssociated Company ID      639 non-null object\nAssociated Company         639 non-null object\nDirector                   467 non-null object\nHubspot url                639 non-null object\nLinkedIn url               603 non-null object\nLinkedIn size              580 non-null object\nLinkedIn specialties       427 non-null object\nLinkedIn Industry          596 non-null object\nIndustry                   235 non-null object\nAggregated Industry        639 non-null object\nDeal Stage                 639 non-null object\nLinkedIn website           569 non-null object\nLinkedIn favicon           0 non-null float64\nLinkedIn temporary logo    533 non-null object\nLinkedIn headquarter       551 non-null object\nUnnamed: 16                0 non-null float64\nLinkedIn site favicon      569 non-null object\ndtypes: float64(2), object(15)\nmemory usage: 89.9+ KB\n"
    }
   ],
   "source": [
    "existing_companies_file = os.path.join(data_folder, 'companies-with-extended-linkedin-data-and-aggregated-findep-industry-and-directors.csv')\n",
    "existing_df = pd.read_csv(existing_companies_file, index_col=0)\n",
    "\n",
    "existing_df.info()"
   ]
  },
  {
   "cell_type": "code",
   "execution_count": 30,
   "metadata": {},
   "outputs": [
    {
     "output_type": "stream",
     "name": "stdout",
     "text": "<class 'pandas.core.frame.DataFrame'>\nInt64Index: 190 entries, 4 to 765\nData columns (total 5 columns):\nAssociated Company ID    190 non-null object\nAssociated Company       190 non-null object\nIndustry                 62 non-null object\nDeal Name                190 non-null object\nDeal Stage               190 non-null object\ndtypes: object(5)\nmemory usage: 8.9+ KB\n"
    }
   ],
   "source": [
    "unrecogniezed_companies_file = os.path.join(data_folder, 'unrecognized-companies.csv')\n",
    "unrecogniezed_df = pd.read_csv(unrecogniezed_companies_file, index_col=0)\n",
    "\n",
    "unrecogniezed_df.info()"
   ]
  },
  {
   "cell_type": "code",
   "execution_count": 31,
   "metadata": {},
   "outputs": [
    {
     "output_type": "execute_result",
     "data": {
      "text/plain": "   Company ID         Associated Company     Industry  \\\n0  1005828045        Big Radical Limited   Non Profit   \n1  1006470667               psygro.co.za          NaN   \n2  1006849789  Care Coordination Systems  Health Care   \n3  1011074056           KOS Services LLC          NaN   \n4  1013701003                  Dan Bocik          NaN   \n\n                                           Deal Name Deal Stage  \n0                              Web Community Project          0  \n1               Trudy  Tanner - 8thlight.com contact          0  \n2  CCS Pathways -- Admin Modules and Web Educatio...          0  \n3            Erin  Steinhardt - 8thlight.com contact          0  \n4                  Dan  Bocik - 8thlight.com contact          0  ",
      "text/html": "<div>\n<style scoped>\n    .dataframe tbody tr th:only-of-type {\n        vertical-align: middle;\n    }\n\n    .dataframe tbody tr th {\n        vertical-align: top;\n    }\n\n    .dataframe thead th {\n        text-align: right;\n    }\n</style>\n<table border=\"1\" class=\"dataframe\">\n  <thead>\n    <tr style=\"text-align: right;\">\n      <th></th>\n      <th>Company ID</th>\n      <th>Associated Company</th>\n      <th>Industry</th>\n      <th>Deal Name</th>\n      <th>Deal Stage</th>\n    </tr>\n  </thead>\n  <tbody>\n    <tr>\n      <td>0</td>\n      <td>1005828045</td>\n      <td>Big Radical Limited</td>\n      <td>Non Profit</td>\n      <td>Web Community Project</td>\n      <td>0</td>\n    </tr>\n    <tr>\n      <td>1</td>\n      <td>1006470667</td>\n      <td>psygro.co.za</td>\n      <td>NaN</td>\n      <td>Trudy  Tanner - 8thlight.com contact</td>\n      <td>0</td>\n    </tr>\n    <tr>\n      <td>2</td>\n      <td>1006849789</td>\n      <td>Care Coordination Systems</td>\n      <td>Health Care</td>\n      <td>CCS Pathways -- Admin Modules and Web Educatio...</td>\n      <td>0</td>\n    </tr>\n    <tr>\n      <td>3</td>\n      <td>1011074056</td>\n      <td>KOS Services LLC</td>\n      <td>NaN</td>\n      <td>Erin  Steinhardt - 8thlight.com contact</td>\n      <td>0</td>\n    </tr>\n    <tr>\n      <td>4</td>\n      <td>1013701003</td>\n      <td>Dan Bocik</td>\n      <td>NaN</td>\n      <td>Dan  Bocik - 8thlight.com contact</td>\n      <td>0</td>\n    </tr>\n  </tbody>\n</table>\n</div>"
     },
     "metadata": {},
     "execution_count": 31
    }
   ],
   "source": [
    "all_companies_file = os.path.join(data_folder, 'companies-from-deals.csv')\n",
    "all_df = pd.read_csv(all_companies_file, index_col=0)\n",
    "\n",
    "all_df = all_df.rename(columns={\"Associated Company ID\": \"Company ID\"})\n",
    "\n",
    "all_df.head()"
   ]
  },
  {
   "cell_type": "code",
   "execution_count": 32,
   "metadata": {},
   "outputs": [
    {
     "output_type": "execute_result",
     "data": {
      "text/plain": "   Company ID                 Name                    Company owner  \\\n0  3907984598  Topexplainers, Inc.  Dennis Moore (Deactivated User)   \n1  3902130754   DeveloperTown, LLC                      Rich Feller   \n2  3899370619     Cove Markets Inc                       Paul Pagel   \n3  3895972740            ROVERPASS                   Justin Herrick   \n4  3874116280   California Forward  Dennis Moore (Deactivated User)   \n\n       Phone Number                    City Country/Region  \\\n0   +1 760-563-4014                  Newark  United States   \n1      855-338-8696            Indianapolis  United States   \n2               NaN                 Chicago  United States   \n3     (512)887-3932  Oljato-Monument Valley  United States   \n4       19164910022              Sacramento  United States   \n\n                      Industry  \\\n0                          NaN   \n1            Computer Software   \n2                          NaN   \n3            Computer Software   \n4  Civic & Social Organization   \n\n                               LinkedIn Company Page  \n0     https://www.linkedin.com/company/topexplainers  \n1     https://www.linkedin.com/company/developertown  \n2                                                NaN  \n3         https://www.linkedin.com/company/roverpass  \n4  https://www.linkedin.com/company/california-fo...  ",
      "text/html": "<div>\n<style scoped>\n    .dataframe tbody tr th:only-of-type {\n        vertical-align: middle;\n    }\n\n    .dataframe tbody tr th {\n        vertical-align: top;\n    }\n\n    .dataframe thead th {\n        text-align: right;\n    }\n</style>\n<table border=\"1\" class=\"dataframe\">\n  <thead>\n    <tr style=\"text-align: right;\">\n      <th></th>\n      <th>Company ID</th>\n      <th>Name</th>\n      <th>Company owner</th>\n      <th>Phone Number</th>\n      <th>City</th>\n      <th>Country/Region</th>\n      <th>Industry</th>\n      <th>LinkedIn Company Page</th>\n    </tr>\n  </thead>\n  <tbody>\n    <tr>\n      <td>0</td>\n      <td>3907984598</td>\n      <td>Topexplainers, Inc.</td>\n      <td>Dennis Moore (Deactivated User)</td>\n      <td>+1 760-563-4014</td>\n      <td>Newark</td>\n      <td>United States</td>\n      <td>NaN</td>\n      <td>https://www.linkedin.com/company/topexplainers</td>\n    </tr>\n    <tr>\n      <td>1</td>\n      <td>3902130754</td>\n      <td>DeveloperTown, LLC</td>\n      <td>Rich Feller</td>\n      <td>855-338-8696</td>\n      <td>Indianapolis</td>\n      <td>United States</td>\n      <td>Computer Software</td>\n      <td>https://www.linkedin.com/company/developertown</td>\n    </tr>\n    <tr>\n      <td>2</td>\n      <td>3899370619</td>\n      <td>Cove Markets Inc</td>\n      <td>Paul Pagel</td>\n      <td>NaN</td>\n      <td>Chicago</td>\n      <td>United States</td>\n      <td>NaN</td>\n      <td>NaN</td>\n    </tr>\n    <tr>\n      <td>3</td>\n      <td>3895972740</td>\n      <td>ROVERPASS</td>\n      <td>Justin Herrick</td>\n      <td>(512)887-3932</td>\n      <td>Oljato-Monument Valley</td>\n      <td>United States</td>\n      <td>Computer Software</td>\n      <td>https://www.linkedin.com/company/roverpass</td>\n    </tr>\n    <tr>\n      <td>4</td>\n      <td>3874116280</td>\n      <td>California Forward</td>\n      <td>Dennis Moore (Deactivated User)</td>\n      <td>19164910022</td>\n      <td>Sacramento</td>\n      <td>United States</td>\n      <td>Civic &amp; Social Organization</td>\n      <td>https://www.linkedin.com/company/california-fo...</td>\n    </tr>\n  </tbody>\n</table>\n</div>"
     },
     "metadata": {},
     "execution_count": 32
    }
   ],
   "source": [
    "input_companies_file = os.path.join(data_folder, 'Hubspot Company Export 20200527.csv')\n",
    "hubspot_df = pd.read_csv(input_companies_file)\n",
    "\n",
    "hubspot_df.head()"
   ]
  },
  {
   "cell_type": "code",
   "execution_count": 33,
   "metadata": {},
   "outputs": [
    {
     "output_type": "execute_result",
     "data": {
      "text/plain": "727079872    1\n814078932    1\n727320922    1\n727321222    1\n727202646    1\n            ..\n730472941    1\n727320991    1\n726952507    1\n727202479    1\n730426024    1\nName: Company ID, Length: 2512, dtype: int64"
     },
     "metadata": {},
     "execution_count": 33
    }
   ],
   "source": [
    "hubspot_df['Company ID'] = hubspot_df['Company ID'].apply(str)\n",
    "hubspot_df['Company ID'].value_counts()"
   ]
  },
  {
   "cell_type": "code",
   "execution_count": 34,
   "metadata": {},
   "outputs": [
    {
     "output_type": "execute_result",
     "data": {
      "text/plain": "      Company ID                 Name                    Company owner  \\\n0     3907984598  Topexplainers, Inc.  Dennis Moore (Deactivated User)   \n1     3902130754   DeveloperTown, LLC                      Rich Feller   \n2     3899370619     Cove Markets Inc                       Paul Pagel   \n3     3895972740            ROVERPASS                   Justin Herrick   \n4     3874116280   California Forward  Dennis Moore (Deactivated User)   \n...          ...                  ...                              ...   \n2505   598256021                 IEEE                   Margaret Pagel   \n2506   598256019        Norad Limited                   Margaret Pagel   \n2507   597686649    4C Insights, Inc.                      Ryan Verner   \n2508   730444815    DePaul University                       Paul Pagel   \n2511   598254423      Collective Idea                      Ryan Verner   \n\n          Phone Number                    City Country/Region  \\\n0      +1 760-563-4014                  Newark  United States   \n1         855-338-8696            Indianapolis  United States   \n2                  NaN                 Chicago  United States   \n3        (512)887-3932  Oljato-Monument Valley  United States   \n4          19164910022              Sacramento  United States   \n...                ...                     ...            ...   \n2505   +1 732-562-6343                     NaN  United States   \n2506       18479468286             Gibson City  United States   \n2507      312-756-7771                 Chicago  United States   \n2508        3123628000                 Chicago  United States   \n2511        6164992122                 Holland  United States   \n\n                       Industry_x  \\\n0                             NaN   \n1               Computer Software   \n2                             NaN   \n3               Computer Software   \n4     Civic & Social Organization   \n...                           ...   \n2505                          NaN   \n2506                          NaN   \n2507            Computer Software   \n2508             Higher Education   \n2511            Computer Software   \n\n                                  LinkedIn Company Page Associated Company  \\\n0        https://www.linkedin.com/company/topexplainers                NaN   \n1        https://www.linkedin.com/company/developertown                NaN   \n2                                                   NaN                NaN   \n3            https://www.linkedin.com/company/roverpass                NaN   \n4     https://www.linkedin.com/company/california-fo...                NaN   \n...                                                 ...                ...   \n2505              https://www.linkedin.com/company/ieee                NaN   \n2506                                                NaN                NaN   \n2507       https://www.linkedin.com/company/4c-insights                NaN   \n2508  https://www.linkedin.com/company/depaul-univer...                NaN   \n2511   https://www.linkedin.com/company/collective-idea                NaN   \n\n     Industry_y Deal Name Deal Stage     _merge  \n0           NaN       NaN        NaN  left_only  \n1           NaN       NaN        NaN  left_only  \n2           NaN       NaN        NaN  left_only  \n3           NaN       NaN        NaN  left_only  \n4           NaN       NaN        NaN  left_only  \n...         ...       ...        ...        ...  \n2505        NaN       NaN        NaN  left_only  \n2506        NaN       NaN        NaN  left_only  \n2507        NaN       NaN        NaN  left_only  \n2508        NaN       NaN        NaN  left_only  \n2511        NaN       NaN        NaN  left_only  \n\n[1724 rows x 13 columns]",
      "text/html": "<div>\n<style scoped>\n    .dataframe tbody tr th:only-of-type {\n        vertical-align: middle;\n    }\n\n    .dataframe tbody tr th {\n        vertical-align: top;\n    }\n\n    .dataframe thead th {\n        text-align: right;\n    }\n</style>\n<table border=\"1\" class=\"dataframe\">\n  <thead>\n    <tr style=\"text-align: right;\">\n      <th></th>\n      <th>Company ID</th>\n      <th>Name</th>\n      <th>Company owner</th>\n      <th>Phone Number</th>\n      <th>City</th>\n      <th>Country/Region</th>\n      <th>Industry_x</th>\n      <th>LinkedIn Company Page</th>\n      <th>Associated Company</th>\n      <th>Industry_y</th>\n      <th>Deal Name</th>\n      <th>Deal Stage</th>\n      <th>_merge</th>\n    </tr>\n  </thead>\n  <tbody>\n    <tr>\n      <td>0</td>\n      <td>3907984598</td>\n      <td>Topexplainers, Inc.</td>\n      <td>Dennis Moore (Deactivated User)</td>\n      <td>+1 760-563-4014</td>\n      <td>Newark</td>\n      <td>United States</td>\n      <td>NaN</td>\n      <td>https://www.linkedin.com/company/topexplainers</td>\n      <td>NaN</td>\n      <td>NaN</td>\n      <td>NaN</td>\n      <td>NaN</td>\n      <td>left_only</td>\n    </tr>\n    <tr>\n      <td>1</td>\n      <td>3902130754</td>\n      <td>DeveloperTown, LLC</td>\n      <td>Rich Feller</td>\n      <td>855-338-8696</td>\n      <td>Indianapolis</td>\n      <td>United States</td>\n      <td>Computer Software</td>\n      <td>https://www.linkedin.com/company/developertown</td>\n      <td>NaN</td>\n      <td>NaN</td>\n      <td>NaN</td>\n      <td>NaN</td>\n      <td>left_only</td>\n    </tr>\n    <tr>\n      <td>2</td>\n      <td>3899370619</td>\n      <td>Cove Markets Inc</td>\n      <td>Paul Pagel</td>\n      <td>NaN</td>\n      <td>Chicago</td>\n      <td>United States</td>\n      <td>NaN</td>\n      <td>NaN</td>\n      <td>NaN</td>\n      <td>NaN</td>\n      <td>NaN</td>\n      <td>NaN</td>\n      <td>left_only</td>\n    </tr>\n    <tr>\n      <td>3</td>\n      <td>3895972740</td>\n      <td>ROVERPASS</td>\n      <td>Justin Herrick</td>\n      <td>(512)887-3932</td>\n      <td>Oljato-Monument Valley</td>\n      <td>United States</td>\n      <td>Computer Software</td>\n      <td>https://www.linkedin.com/company/roverpass</td>\n      <td>NaN</td>\n      <td>NaN</td>\n      <td>NaN</td>\n      <td>NaN</td>\n      <td>left_only</td>\n    </tr>\n    <tr>\n      <td>4</td>\n      <td>3874116280</td>\n      <td>California Forward</td>\n      <td>Dennis Moore (Deactivated User)</td>\n      <td>19164910022</td>\n      <td>Sacramento</td>\n      <td>United States</td>\n      <td>Civic &amp; Social Organization</td>\n      <td>https://www.linkedin.com/company/california-fo...</td>\n      <td>NaN</td>\n      <td>NaN</td>\n      <td>NaN</td>\n      <td>NaN</td>\n      <td>left_only</td>\n    </tr>\n    <tr>\n      <td>...</td>\n      <td>...</td>\n      <td>...</td>\n      <td>...</td>\n      <td>...</td>\n      <td>...</td>\n      <td>...</td>\n      <td>...</td>\n      <td>...</td>\n      <td>...</td>\n      <td>...</td>\n      <td>...</td>\n      <td>...</td>\n      <td>...</td>\n    </tr>\n    <tr>\n      <td>2505</td>\n      <td>598256021</td>\n      <td>IEEE</td>\n      <td>Margaret Pagel</td>\n      <td>+1 732-562-6343</td>\n      <td>NaN</td>\n      <td>United States</td>\n      <td>NaN</td>\n      <td>https://www.linkedin.com/company/ieee</td>\n      <td>NaN</td>\n      <td>NaN</td>\n      <td>NaN</td>\n      <td>NaN</td>\n      <td>left_only</td>\n    </tr>\n    <tr>\n      <td>2506</td>\n      <td>598256019</td>\n      <td>Norad Limited</td>\n      <td>Margaret Pagel</td>\n      <td>18479468286</td>\n      <td>Gibson City</td>\n      <td>United States</td>\n      <td>NaN</td>\n      <td>NaN</td>\n      <td>NaN</td>\n      <td>NaN</td>\n      <td>NaN</td>\n      <td>NaN</td>\n      <td>left_only</td>\n    </tr>\n    <tr>\n      <td>2507</td>\n      <td>597686649</td>\n      <td>4C Insights, Inc.</td>\n      <td>Ryan Verner</td>\n      <td>312-756-7771</td>\n      <td>Chicago</td>\n      <td>United States</td>\n      <td>Computer Software</td>\n      <td>https://www.linkedin.com/company/4c-insights</td>\n      <td>NaN</td>\n      <td>NaN</td>\n      <td>NaN</td>\n      <td>NaN</td>\n      <td>left_only</td>\n    </tr>\n    <tr>\n      <td>2508</td>\n      <td>730444815</td>\n      <td>DePaul University</td>\n      <td>Paul Pagel</td>\n      <td>3123628000</td>\n      <td>Chicago</td>\n      <td>United States</td>\n      <td>Higher Education</td>\n      <td>https://www.linkedin.com/company/depaul-univer...</td>\n      <td>NaN</td>\n      <td>NaN</td>\n      <td>NaN</td>\n      <td>NaN</td>\n      <td>left_only</td>\n    </tr>\n    <tr>\n      <td>2511</td>\n      <td>598254423</td>\n      <td>Collective Idea</td>\n      <td>Ryan Verner</td>\n      <td>6164992122</td>\n      <td>Holland</td>\n      <td>United States</td>\n      <td>Computer Software</td>\n      <td>https://www.linkedin.com/company/collective-idea</td>\n      <td>NaN</td>\n      <td>NaN</td>\n      <td>NaN</td>\n      <td>NaN</td>\n      <td>left_only</td>\n    </tr>\n  </tbody>\n</table>\n<p>1724 rows × 13 columns</p>\n</div>"
     },
     "metadata": {},
     "execution_count": 34
    }
   ],
   "source": [
    "new_incoming_companies_df = pd.merge(hubspot_df, all_df, on=['Company ID'], how='outer', indicator=True).query('_merge==\"left_only\"')\n",
    "new_incoming_companies_df"
   ]
  },
  {
   "cell_type": "code",
   "execution_count": 35,
   "metadata": {},
   "outputs": [
    {
     "output_type": "execute_result",
     "data": {
      "text/plain": "      Company ID                 Name                    Company owner  \\\n0     3907984598  Topexplainers, Inc.  Dennis Moore (Deactivated User)   \n1     3902130754   DeveloperTown, LLC                      Rich Feller   \n3     3895972740            ROVERPASS                   Justin Herrick   \n4     3874116280   California Forward  Dennis Moore (Deactivated User)   \n5     3869752703      Belgravia Group                  Malcolm Newsome   \n...          ...                  ...                              ...   \n2504   598256022        Autodesk Inc.                   Margaret Pagel   \n2505   598256021                 IEEE                   Margaret Pagel   \n2507   597686649    4C Insights, Inc.                      Ryan Verner   \n2508   730444815    DePaul University                       Paul Pagel   \n2511   598254423      Collective Idea                      Ryan Verner   \n\n          Phone Number                    City Country/Region  \\\n0      +1 760-563-4014                  Newark  United States   \n1         855-338-8696            Indianapolis  United States   \n3        (512)887-3932  Oljato-Monument Valley  United States   \n4          19164910022              Sacramento  United States   \n5       (312) 751-2777                 Chicago  United States   \n...                ...                     ...            ...   \n2504   +1 415-507-5000              San Rafael  United States   \n2505   +1 732-562-6343                     NaN  United States   \n2507      312-756-7771                 Chicago  United States   \n2508        3123628000                 Chicago  United States   \n2511        6164992122                 Holland  United States   \n\n                       Industry_x  \\\n0                             NaN   \n1               Computer Software   \n3               Computer Software   \n4     Civic & Social Organization   \n5                     Real Estate   \n...                           ...   \n2504            Computer Software   \n2505                          NaN   \n2507            Computer Software   \n2508             Higher Education   \n2511            Computer Software   \n\n                                  LinkedIn Company Page Associated Company  \\\n0        https://www.linkedin.com/company/topexplainers                NaN   \n1        https://www.linkedin.com/company/developertown                NaN   \n3            https://www.linkedin.com/company/roverpass                NaN   \n4     https://www.linkedin.com/company/california-fo...                NaN   \n5      https://www.linkedin.com/company/belgravia-group                NaN   \n...                                                 ...                ...   \n2504          https://www.linkedin.com/company/autodesk                NaN   \n2505              https://www.linkedin.com/company/ieee                NaN   \n2507       https://www.linkedin.com/company/4c-insights                NaN   \n2508  https://www.linkedin.com/company/depaul-univer...                NaN   \n2511   https://www.linkedin.com/company/collective-idea                NaN   \n\n     Industry_y Deal Name Deal Stage     _merge  \n0           NaN       NaN        NaN  left_only  \n1           NaN       NaN        NaN  left_only  \n3           NaN       NaN        NaN  left_only  \n4           NaN       NaN        NaN  left_only  \n5           NaN       NaN        NaN  left_only  \n...         ...       ...        ...        ...  \n2504        NaN       NaN        NaN  left_only  \n2505        NaN       NaN        NaN  left_only  \n2507        NaN       NaN        NaN  left_only  \n2508        NaN       NaN        NaN  left_only  \n2511        NaN       NaN        NaN  left_only  \n\n[744 rows x 13 columns]",
      "text/html": "<div>\n<style scoped>\n    .dataframe tbody tr th:only-of-type {\n        vertical-align: middle;\n    }\n\n    .dataframe tbody tr th {\n        vertical-align: top;\n    }\n\n    .dataframe thead th {\n        text-align: right;\n    }\n</style>\n<table border=\"1\" class=\"dataframe\">\n  <thead>\n    <tr style=\"text-align: right;\">\n      <th></th>\n      <th>Company ID</th>\n      <th>Name</th>\n      <th>Company owner</th>\n      <th>Phone Number</th>\n      <th>City</th>\n      <th>Country/Region</th>\n      <th>Industry_x</th>\n      <th>LinkedIn Company Page</th>\n      <th>Associated Company</th>\n      <th>Industry_y</th>\n      <th>Deal Name</th>\n      <th>Deal Stage</th>\n      <th>_merge</th>\n    </tr>\n  </thead>\n  <tbody>\n    <tr>\n      <td>0</td>\n      <td>3907984598</td>\n      <td>Topexplainers, Inc.</td>\n      <td>Dennis Moore (Deactivated User)</td>\n      <td>+1 760-563-4014</td>\n      <td>Newark</td>\n      <td>United States</td>\n      <td>NaN</td>\n      <td>https://www.linkedin.com/company/topexplainers</td>\n      <td>NaN</td>\n      <td>NaN</td>\n      <td>NaN</td>\n      <td>NaN</td>\n      <td>left_only</td>\n    </tr>\n    <tr>\n      <td>1</td>\n      <td>3902130754</td>\n      <td>DeveloperTown, LLC</td>\n      <td>Rich Feller</td>\n      <td>855-338-8696</td>\n      <td>Indianapolis</td>\n      <td>United States</td>\n      <td>Computer Software</td>\n      <td>https://www.linkedin.com/company/developertown</td>\n      <td>NaN</td>\n      <td>NaN</td>\n      <td>NaN</td>\n      <td>NaN</td>\n      <td>left_only</td>\n    </tr>\n    <tr>\n      <td>3</td>\n      <td>3895972740</td>\n      <td>ROVERPASS</td>\n      <td>Justin Herrick</td>\n      <td>(512)887-3932</td>\n      <td>Oljato-Monument Valley</td>\n      <td>United States</td>\n      <td>Computer Software</td>\n      <td>https://www.linkedin.com/company/roverpass</td>\n      <td>NaN</td>\n      <td>NaN</td>\n      <td>NaN</td>\n      <td>NaN</td>\n      <td>left_only</td>\n    </tr>\n    <tr>\n      <td>4</td>\n      <td>3874116280</td>\n      <td>California Forward</td>\n      <td>Dennis Moore (Deactivated User)</td>\n      <td>19164910022</td>\n      <td>Sacramento</td>\n      <td>United States</td>\n      <td>Civic &amp; Social Organization</td>\n      <td>https://www.linkedin.com/company/california-fo...</td>\n      <td>NaN</td>\n      <td>NaN</td>\n      <td>NaN</td>\n      <td>NaN</td>\n      <td>left_only</td>\n    </tr>\n    <tr>\n      <td>5</td>\n      <td>3869752703</td>\n      <td>Belgravia Group</td>\n      <td>Malcolm Newsome</td>\n      <td>(312) 751-2777</td>\n      <td>Chicago</td>\n      <td>United States</td>\n      <td>Real Estate</td>\n      <td>https://www.linkedin.com/company/belgravia-group</td>\n      <td>NaN</td>\n      <td>NaN</td>\n      <td>NaN</td>\n      <td>NaN</td>\n      <td>left_only</td>\n    </tr>\n    <tr>\n      <td>...</td>\n      <td>...</td>\n      <td>...</td>\n      <td>...</td>\n      <td>...</td>\n      <td>...</td>\n      <td>...</td>\n      <td>...</td>\n      <td>...</td>\n      <td>...</td>\n      <td>...</td>\n      <td>...</td>\n      <td>...</td>\n      <td>...</td>\n    </tr>\n    <tr>\n      <td>2504</td>\n      <td>598256022</td>\n      <td>Autodesk Inc.</td>\n      <td>Margaret Pagel</td>\n      <td>+1 415-507-5000</td>\n      <td>San Rafael</td>\n      <td>United States</td>\n      <td>Computer Software</td>\n      <td>https://www.linkedin.com/company/autodesk</td>\n      <td>NaN</td>\n      <td>NaN</td>\n      <td>NaN</td>\n      <td>NaN</td>\n      <td>left_only</td>\n    </tr>\n    <tr>\n      <td>2505</td>\n      <td>598256021</td>\n      <td>IEEE</td>\n      <td>Margaret Pagel</td>\n      <td>+1 732-562-6343</td>\n      <td>NaN</td>\n      <td>United States</td>\n      <td>NaN</td>\n      <td>https://www.linkedin.com/company/ieee</td>\n      <td>NaN</td>\n      <td>NaN</td>\n      <td>NaN</td>\n      <td>NaN</td>\n      <td>left_only</td>\n    </tr>\n    <tr>\n      <td>2507</td>\n      <td>597686649</td>\n      <td>4C Insights, Inc.</td>\n      <td>Ryan Verner</td>\n      <td>312-756-7771</td>\n      <td>Chicago</td>\n      <td>United States</td>\n      <td>Computer Software</td>\n      <td>https://www.linkedin.com/company/4c-insights</td>\n      <td>NaN</td>\n      <td>NaN</td>\n      <td>NaN</td>\n      <td>NaN</td>\n      <td>left_only</td>\n    </tr>\n    <tr>\n      <td>2508</td>\n      <td>730444815</td>\n      <td>DePaul University</td>\n      <td>Paul Pagel</td>\n      <td>3123628000</td>\n      <td>Chicago</td>\n      <td>United States</td>\n      <td>Higher Education</td>\n      <td>https://www.linkedin.com/company/depaul-univer...</td>\n      <td>NaN</td>\n      <td>NaN</td>\n      <td>NaN</td>\n      <td>NaN</td>\n      <td>left_only</td>\n    </tr>\n    <tr>\n      <td>2511</td>\n      <td>598254423</td>\n      <td>Collective Idea</td>\n      <td>Ryan Verner</td>\n      <td>6164992122</td>\n      <td>Holland</td>\n      <td>United States</td>\n      <td>Computer Software</td>\n      <td>https://www.linkedin.com/company/collective-idea</td>\n      <td>NaN</td>\n      <td>NaN</td>\n      <td>NaN</td>\n      <td>NaN</td>\n      <td>left_only</td>\n    </tr>\n  </tbody>\n</table>\n<p>744 rows × 13 columns</p>\n</div>"
     },
     "metadata": {},
     "execution_count": 35
    }
   ],
   "source": [
    "df = new_incoming_companies_df\n",
    "df = df[~df[\"LinkedIn Company Page\"].isnull()]\n",
    "df"
   ]
  },
  {
   "cell_type": "code",
   "execution_count": 36,
   "metadata": {},
   "outputs": [
    {
     "output_type": "stream",
     "name": "stdout",
     "text": "<class 'pandas.core.frame.DataFrame'>\nInt64Index: 744 entries, 0 to 2511\nData columns (total 14 columns):\nCompany ID            744 non-null object\nCompany Name          744 non-null object\nDirector              714 non-null object\nPhone Number          590 non-null object\nCity                  677 non-null object\nCountry/Region        712 non-null object\nIndustry              552 non-null object\nLinkedIn link         744 non-null object\nAssociated Company    0 non-null object\nIndustry_y            0 non-null object\nDeal Name             0 non-null object\nDeal Stage            0 non-null object\n_merge                744 non-null category\nHubspot url           744 non-null object\ndtypes: category(1), object(13)\nmemory usage: 82.2+ KB\n"
    }
   ],
   "source": [
    "df = df.rename(columns={\"Name\": \"Company Name\", \"Company owner\":\"Director\", \"Industry_x\":\"Industry\", \"LinkedIn Company Page\":\"LinkedIn link\"})\n",
    "df['Hubspot url']='https://app.hubspot.com/contacts/4012159/company/'+df['Company ID'].str.replace(r'[0-9]+, ', '')\n",
    "\n",
    "df['LinkedIn link'] = df['LinkedIn link'].str.replace('/company-beta/', '/company/')\n",
    "df['LinkedIn link'] = df['LinkedIn link'].str.replace(\"/?pathWildcard=15261355\", \"\", regex=False)\n",
    "\n",
    "df.info()"
   ]
  },
  {
   "cell_type": "code",
   "execution_count": 37,
   "metadata": {},
   "outputs": [
    {
     "output_type": "execute_result",
     "data": {
      "text/plain": "      Company ID         Company Name                         Director  \\\n0     3907984598  Topexplainers, Inc.  Dennis Moore (Deactivated User)   \n1     3902130754   DeveloperTown, LLC                      Rich Feller   \n3     3895972740            ROVERPASS                   Justin Herrick   \n4     3874116280   California Forward  Dennis Moore (Deactivated User)   \n5     3869752703      Belgravia Group                  Malcolm Newsome   \n...          ...                  ...                              ...   \n2504   598256022        Autodesk Inc.                   Margaret Pagel   \n2505   598256021                 IEEE                   Margaret Pagel   \n2507   597686649    4C Insights, Inc.                      Ryan Verner   \n2508   730444815    DePaul University                       Paul Pagel   \n2511   598254423      Collective Idea                      Ryan Verner   \n\n                                            Hubspot url      Phone Number  \\\n0     https://app.hubspot.com/contacts/4012159/compa...   +1 760-563-4014   \n1     https://app.hubspot.com/contacts/4012159/compa...      855-338-8696   \n3     https://app.hubspot.com/contacts/4012159/compa...     (512)887-3932   \n4     https://app.hubspot.com/contacts/4012159/compa...       19164910022   \n5     https://app.hubspot.com/contacts/4012159/compa...    (312) 751-2777   \n...                                                 ...               ...   \n2504  https://app.hubspot.com/contacts/4012159/compa...   +1 415-507-5000   \n2505  https://app.hubspot.com/contacts/4012159/compa...   +1 732-562-6343   \n2507  https://app.hubspot.com/contacts/4012159/compa...      312-756-7771   \n2508  https://app.hubspot.com/contacts/4012159/compa...        3123628000   \n2511  https://app.hubspot.com/contacts/4012159/compa...        6164992122   \n\n                        City Country/Region                     Industry  \\\n0                     Newark  United States                          NaN   \n1               Indianapolis  United States            Computer Software   \n3     Oljato-Monument Valley  United States            Computer Software   \n4                 Sacramento  United States  Civic & Social Organization   \n5                    Chicago  United States                  Real Estate   \n...                      ...            ...                          ...   \n2504              San Rafael  United States            Computer Software   \n2505                     NaN  United States                          NaN   \n2507                 Chicago  United States            Computer Software   \n2508                 Chicago  United States             Higher Education   \n2511                 Holland  United States            Computer Software   \n\n                                          LinkedIn link  \n0        https://www.linkedin.com/company/topexplainers  \n1        https://www.linkedin.com/company/developertown  \n3            https://www.linkedin.com/company/roverpass  \n4     https://www.linkedin.com/company/california-fo...  \n5      https://www.linkedin.com/company/belgravia-group  \n...                                                 ...  \n2504          https://www.linkedin.com/company/autodesk  \n2505              https://www.linkedin.com/company/ieee  \n2507       https://www.linkedin.com/company/4c-insights  \n2508  https://www.linkedin.com/company/depaul-univer...  \n2511   https://www.linkedin.com/company/collective-idea  \n\n[744 rows x 9 columns]",
      "text/html": "<div>\n<style scoped>\n    .dataframe tbody tr th:only-of-type {\n        vertical-align: middle;\n    }\n\n    .dataframe tbody tr th {\n        vertical-align: top;\n    }\n\n    .dataframe thead th {\n        text-align: right;\n    }\n</style>\n<table border=\"1\" class=\"dataframe\">\n  <thead>\n    <tr style=\"text-align: right;\">\n      <th></th>\n      <th>Company ID</th>\n      <th>Company Name</th>\n      <th>Director</th>\n      <th>Hubspot url</th>\n      <th>Phone Number</th>\n      <th>City</th>\n      <th>Country/Region</th>\n      <th>Industry</th>\n      <th>LinkedIn link</th>\n    </tr>\n  </thead>\n  <tbody>\n    <tr>\n      <td>0</td>\n      <td>3907984598</td>\n      <td>Topexplainers, Inc.</td>\n      <td>Dennis Moore (Deactivated User)</td>\n      <td>https://app.hubspot.com/contacts/4012159/compa...</td>\n      <td>+1 760-563-4014</td>\n      <td>Newark</td>\n      <td>United States</td>\n      <td>NaN</td>\n      <td>https://www.linkedin.com/company/topexplainers</td>\n    </tr>\n    <tr>\n      <td>1</td>\n      <td>3902130754</td>\n      <td>DeveloperTown, LLC</td>\n      <td>Rich Feller</td>\n      <td>https://app.hubspot.com/contacts/4012159/compa...</td>\n      <td>855-338-8696</td>\n      <td>Indianapolis</td>\n      <td>United States</td>\n      <td>Computer Software</td>\n      <td>https://www.linkedin.com/company/developertown</td>\n    </tr>\n    <tr>\n      <td>3</td>\n      <td>3895972740</td>\n      <td>ROVERPASS</td>\n      <td>Justin Herrick</td>\n      <td>https://app.hubspot.com/contacts/4012159/compa...</td>\n      <td>(512)887-3932</td>\n      <td>Oljato-Monument Valley</td>\n      <td>United States</td>\n      <td>Computer Software</td>\n      <td>https://www.linkedin.com/company/roverpass</td>\n    </tr>\n    <tr>\n      <td>4</td>\n      <td>3874116280</td>\n      <td>California Forward</td>\n      <td>Dennis Moore (Deactivated User)</td>\n      <td>https://app.hubspot.com/contacts/4012159/compa...</td>\n      <td>19164910022</td>\n      <td>Sacramento</td>\n      <td>United States</td>\n      <td>Civic &amp; Social Organization</td>\n      <td>https://www.linkedin.com/company/california-fo...</td>\n    </tr>\n    <tr>\n      <td>5</td>\n      <td>3869752703</td>\n      <td>Belgravia Group</td>\n      <td>Malcolm Newsome</td>\n      <td>https://app.hubspot.com/contacts/4012159/compa...</td>\n      <td>(312) 751-2777</td>\n      <td>Chicago</td>\n      <td>United States</td>\n      <td>Real Estate</td>\n      <td>https://www.linkedin.com/company/belgravia-group</td>\n    </tr>\n    <tr>\n      <td>...</td>\n      <td>...</td>\n      <td>...</td>\n      <td>...</td>\n      <td>...</td>\n      <td>...</td>\n      <td>...</td>\n      <td>...</td>\n      <td>...</td>\n      <td>...</td>\n    </tr>\n    <tr>\n      <td>2504</td>\n      <td>598256022</td>\n      <td>Autodesk Inc.</td>\n      <td>Margaret Pagel</td>\n      <td>https://app.hubspot.com/contacts/4012159/compa...</td>\n      <td>+1 415-507-5000</td>\n      <td>San Rafael</td>\n      <td>United States</td>\n      <td>Computer Software</td>\n      <td>https://www.linkedin.com/company/autodesk</td>\n    </tr>\n    <tr>\n      <td>2505</td>\n      <td>598256021</td>\n      <td>IEEE</td>\n      <td>Margaret Pagel</td>\n      <td>https://app.hubspot.com/contacts/4012159/compa...</td>\n      <td>+1 732-562-6343</td>\n      <td>NaN</td>\n      <td>United States</td>\n      <td>NaN</td>\n      <td>https://www.linkedin.com/company/ieee</td>\n    </tr>\n    <tr>\n      <td>2507</td>\n      <td>597686649</td>\n      <td>4C Insights, Inc.</td>\n      <td>Ryan Verner</td>\n      <td>https://app.hubspot.com/contacts/4012159/compa...</td>\n      <td>312-756-7771</td>\n      <td>Chicago</td>\n      <td>United States</td>\n      <td>Computer Software</td>\n      <td>https://www.linkedin.com/company/4c-insights</td>\n    </tr>\n    <tr>\n      <td>2508</td>\n      <td>730444815</td>\n      <td>DePaul University</td>\n      <td>Paul Pagel</td>\n      <td>https://app.hubspot.com/contacts/4012159/compa...</td>\n      <td>3123628000</td>\n      <td>Chicago</td>\n      <td>United States</td>\n      <td>Higher Education</td>\n      <td>https://www.linkedin.com/company/depaul-univer...</td>\n    </tr>\n    <tr>\n      <td>2511</td>\n      <td>598254423</td>\n      <td>Collective Idea</td>\n      <td>Ryan Verner</td>\n      <td>https://app.hubspot.com/contacts/4012159/compa...</td>\n      <td>6164992122</td>\n      <td>Holland</td>\n      <td>United States</td>\n      <td>Computer Software</td>\n      <td>https://www.linkedin.com/company/collective-idea</td>\n    </tr>\n  </tbody>\n</table>\n<p>744 rows × 9 columns</p>\n</div>"
     },
     "metadata": {},
     "execution_count": 37
    }
   ],
   "source": [
    "df_to_save = df\n",
    "\n",
    "df_to_save = df_to_save[['Company ID', 'Company Name', 'Director', 'Hubspot url', 'Phone Number', 'City', 'Country/Region', 'Industry', 'LinkedIn link']]\n",
    "\n",
    "target_file = os.path.join(data_folder, 'hubspot-companies-with-linkedin-link.csv')\n",
    "df_to_save.to_csv(target_file, index=True)\n",
    "\n",
    "df_to_save"
   ]
  },
  {
   "cell_type": "code",
   "execution_count": null,
   "metadata": {},
   "outputs": [],
   "source": []
  }
 ],
 "metadata": {
  "language_info": {
   "codemirror_mode": {
    "name": "ipython",
    "version": 3
   },
   "file_extension": ".py",
   "mimetype": "text/x-python",
   "name": "python",
   "nbconvert_exporter": "python",
   "pygments_lexer": "ipython3",
   "version": "3.7.4-final"
  },
  "orig_nbformat": 2,
  "kernelspec": {
   "name": "python37464bitanaconda3virtualenvd52db71446784f42972ec097c4b2c8ef",
   "display_name": "Python 3.7.4 64-bit ('anaconda3': virtualenv)"
  }
 },
 "nbformat": 4,
 "nbformat_minor": 2
}