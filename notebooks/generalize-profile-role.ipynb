{
 "cells": [
  {
   "cell_type": "code",
   "execution_count": 3,
   "metadata": {},
   "outputs": [],
   "source": [
    "import pandas as pd\n",
    "import numpy as np\n",
    "import os.path\n",
    "\n",
    "data_folder = \"../data\""
   ]
  },
  {
   "cell_type": "code",
   "execution_count": 4,
   "metadata": {},
   "outputs": [
    {
     "output_type": "execute_result",
     "data": {
      "text/plain": "name                     1230\noccupation               1230\nJob title                  23\nlinkedin_id              1228\nemail                    1122\nphone                     282\nPersonal website          392\nlocation                 1230\ncompany_link             1121\ncompany_linkedin_id       953\ncompany_linkedin_name     945\ncompany_description       923\ncompany_size              891\ncompany_specialties       675\ncompany_established       740\ncompany_industry          900\ncompany_website           886\ncompany_headquarter       888\ncompany_logo_url            0\nRelationship               15\ndtype: int64"
     },
     "metadata": {},
     "execution_count": 4
    }
   ],
   "source": [
    "data_file = os.path.join(data_folder, 'joes-network.csv')\n",
    "\n",
    "profiles = pd.read_csv(data_file, index_col=0)\n",
    "profiles.count()"
   ]
  },
  {
   "cell_type": "code",
   "execution_count": 18,
   "metadata": {},
   "outputs": [
    {
     "output_type": "execute_result",
     "data": {
      "text/plain": "VP People - interim at Commonplace                                                                                          1\nDigital Director at Methods                                                                                                 1\nSenior Risk Analyst at Alpha FX Group plc                                                                                   1\nDigital Strategist                                                                                                          1\nPartner Account Manager, EMEA at Duo Security                                                                               1\nDeveloper at Ellen MacArthur Foundation                                                                                     1\nDelivery Driver at Homebase Bunnings                                                                                        1\nMS in Sports Administration Graduate | Looking For a New Career Opportunity in Gaming                                       1\nPresenter at Bettering Education UK                                                                                         1\nSoftware Engineer at Glovo                                                                                                  1\nSoftware Engineer at Fat Lama                                                                                               1\nSenior Consultant at Grep Technology Partners (GTP)                                                                         1\njunior Software Developer | Looking for my first challenge                                                                  1\nConsulting at Deloitte                                                                                                      1\nBusiness Finance Analyst at Google                                                                                          1\nIntegration Architect at Cognizant                                                                                          1\nCIPP/E - Senior Renewals Specialist EMEA                                                                                    1\nHead of Computer Science at Christ's College Finchley                                                                       1\nFrontend Developer at Publicis.Sapient                                                                                      1\nMarketing Manager at My Pay Weekly                                                                                          1\nI run Unlock Your Sound — The Bespoke Artist Services Co.                                                                   1\nSoftware Engineer at Laka                                                                                                   1\nDesign & Logistics at Office Interiors                                                                                      1\nUnderwriter - Credit and Political Risk at Aspen Insurance Group                                                            1\nBusiness Partner - Customer Value Advisory, Solutions Engineering - Google Cloud                                            1\nFull-stack python and React Developer                                                                                       1\nEvent Security/close protection operative Liverpool                                                                         1\nSenior Consultant - Creative Services at Major Players                                                                      1\n*Hiring*                                                                                                                    1\nMarketing and Communications Director. Chief Commercial Officer. Partnership Manager.                                       1\nPlatform Engineer at DAZN Group                                                                                             1\nConsultant - FullStack Developer at MTX Group                                                                               1\nSoftware Developer at GrayMatters Health                                                                                    1\nMarketing                                                                                                                   1\nCustomer Service Manager at Crest Nicholson plc                                                                             1\nSenior full-stack software engineer, front office, at LGIM (£1.2trn+ AUM).                                                  1\nIdentity & Infrastructure Engineer at JUST EAT HOLDING LIMITED                                                              1\nPro at Apple (sales, staff development and strategy)                                                                        1\nNED, Chairman, Investor, Accelerator - Start-up & Scale-up - Venture Funding Specialist - Brytlyt Accelerated Analytics     1\nWriter, Editor, Digital Producer                                                                                            1\nConsultant Employment Solicitor at didlaw Limited                                                                           1\nJunior Frontend Developer at sync.                                                                                          2\nDirector of Software Services at 8th Light                                                                                  2\nNational Account Manager at Red Bull                                                                                        2\nSoftware Engineer at Beamery                                                                                                2\nPersonal Trainer                                                                                                            2\nFinancial Adviser at Gerrard Byrne Financial Services                                                                       2\nBusiness Development Manager                                                                                                2\nDeveloper at DWYL                                                                                                           2\nAssociate Director at In Touch Networks                                                                                     2\nSoftware Crafter at 8th Light                                                                                               2\nBusiness Development at Reviewedo                                                                                           2\nat                                                                                                                          2\nConsultant                                                                                                                  2\nFull Stack Developer                                                                                                        4\n.                                                                                                                           5\nWeb Developer                                                                                                               5\nSoftware Developer                                                                                                          6\nSoftware Engineer                                                                                                           8\n--                                                                                                                         10\nName: occupation, dtype: int64"
     },
     "metadata": {},
     "execution_count": 18
    }
   ],
   "source": [
    "df = profiles.copy()\n",
    "df['occupation'].value_counts().head(60).iloc[::-1]"
   ]
  },
  {
   "cell_type": "code",
   "execution_count": 105,
   "metadata": {},
   "outputs": [],
   "source": [
    "def generalize_occupation(linkedin_occupation):\n",
    "    \n",
    "    mappings = [\n",
    "        {\n",
    "            'words': ['ceo ','coo ', 'cto ', 'cfo ', 'chief', 'executive'],\n",
    "            'role': 'C-executive'\n",
    "        },\n",
    "        {\n",
    "            'words': ['founder'],\n",
    "            'role': 'Founder/Co-Founder'\n",
    "        },\n",
    "        {\n",
    "            'words': ['director'],\n",
    "            'role': 'Director'\n",
    "        },\n",
    "        {\n",
    "            'words': ['adviser'],\n",
    "            'role': 'Non-executive'\n",
    "        },\n",
    "        {\n",
    "            'words': ['vice president', 'vp ', 'vp,'],\n",
    "            'role': 'VP'\n",
    "        },\n",
    "        {\n",
    "            'words': ['head of', 'head at', 'lead ', 'lead,', 'manager'],\n",
    "            'role': 'Top-level-influencer'\n",
    "        },\n",
    "        {\n",
    "            'words': ['consultant', 'designer', ' engineer', 'engineer ', ' developer'],\n",
    "            'role': 'Mid-level-influencer'\n",
    "        },\n",
    "        ]\n",
    "\n",
    "    for mapping in mappings:\n",
    "        if any(word in linkedin_occupation.lower() for word in mapping['words']):\n",
    "            return mapping['role']\n",
    "\n",
    "    return ''"
   ]
  },
  {
   "cell_type": "code",
   "execution_count": 104,
   "metadata": {},
   "outputs": [
    {
     "output_type": "execute_result",
     "data": {
      "text/plain": "Mid-level-influencer    298\nTop-level-influencer    214\nDirector                102\nC-executive              94\nFounder/Co-Founder       83\nVP                       11\nNon-executive             2\nName: probable_role, dtype: int64"
     },
     "metadata": {},
     "execution_count": 104
    }
   ],
   "source": [
    "df['occupation'] = df['occupation'].fillna('')\n",
    "\n",
    "df['probable_role'] = np.vectorize(generalize_occupation)(df['occupation'])\n",
    "\n",
    "df['probable_role'] = df['probable_role'].replace(' ', np.nan).replace('', np.nan)\n",
    "df['probable_role'].value_counts().head(60) #.head(150).iloc[::-1]"
   ]
  },
  {
   "cell_type": "code",
   "execution_count": 109,
   "metadata": {},
   "outputs": [
    {
     "output_type": "execute_result",
     "data": {
      "text/plain": "Head of Growth at Talent Point                                                                                                                                                          1\nResourcer - Identifying Exceptional Talent On LinkedIn at Vertical Advantage                                                                                                            1\nTalent Acquisition Specialist                                                                                                                                                           1\nTalent Acquisition Specialist at YouView TV Limited - We're Hiring!                                                                                                                     1\nDirector & Co-Founder at Sporting Talent                                                                                                                                                1\nEMEA Engineering CoE Talent Acquisition Lead + EMEA Talent Acquisition Product Owner at Publicis Sapient                                                                                1\nTalent Acquisition Partner at Thomsons Online Benefits.                                                                                                                                 1\nTalent Acquisition Advisor - Product & Technology at Financial Times                                                                                                                    1\nTeam Lead, Talent Acquisition at HelloFresh                                                                                                                                             1\nTech Partnerships Manager MediaCom| Financial Times Top 100 in Tech| UK Exceptional Talent Visa-Tech|                                                                                   1\nDirector of Talent @ Permutive                                                                                                                                                          1\nTalent Partner to #Founders and Leaders of Tech #Startups #Scaleups and Fast Growth Tech companies. Organiser of #YouEqualTech #Diversity #Inclusion champions for the Tech industry    1\nTalent Partnership Director (UK) at IMDA                                                                                                                                                1\nTalent Acquisition Senior Specialist - EMEA at Infobip                                                                                                                                  1\nTalent Acquisition Business Partner at Otis Elevator Co.                                                                                                                                1\nTalent is a multidisciplinary sport, recruitment is one part of it.                                                                                                                     1\nDirector in Prime Finance Sales at Barclays; European Head of Talent Introduction; Executive & Performance Coach                                                                        1\nAll things People & Talent at Cutover                                                                                                                                                   1\nDirector at Blue Chip Talent UK                                                                                                                                                         1\nSenior Talent Acquisition Manager at L'Oréal                                                                                                                                            1\nDeveloping High-Performance Company Cultures That Attract, Create, and Retain Top Talent | Founder of Culture Codex                                                                     1\nTalent Acquisition Manager at Slalom                                                                                                                                                    1\nTalent and Partnerships Manager at Le Wagon | Women in tech advocate                                                                                                                    1\nTalent Acquisition Specialist (Project Management) at Guru (weare.guru)                                                                                                                 1\nC#/.NET Recruitment consultant for IT Talent                                                                                                                                            1\nTalent Sourcer at Octopus - a Sunday Times Top 100 company                                                                                                                              1\nTalent Acquisition Director at Natilik                                                                                                                                                  1\nTalent Acquisition & Development Manager at Kurt Geiger                                                                                                                                 1\nVP Talent at Habito & Start-Up Advisor                                                                                                                                                  1\nTalent Manager at O'Neill & Brennan - 07500059261                                                                                                                                       1\nTalent Acquisition Partner at Joyn GmbH via Scede                                                                                                                                       1\nTalent Acquisition Manager at Mastercard                                                                                                                                                1\nTalent Acquisition Manager - Freelance at Wefarm                                                                                                                                        1\nTalent Acquisition Director at Mintel Group                                                                                                                                             1\nTalent Acquisition Lead at BCG Digital Ventures                                                                                                                                         1\nJunior Agent at Independent Talent Group Limited                                                                                                                                        1\nPrincipal Consultant and Talent Partner at Spinks for #StartUps #ScaleUps #FastGrowthTech                                                                                               1\nName: occupation, dtype: int64"
     },
     "metadata": {},
     "execution_count": 109
    }
   ],
   "source": [
    "phrase='Talent'\n",
    "df['occupation'] = df['occupation'].fillna('')\n",
    "df[df['occupation'].str.contains(phrase)]['occupation'].value_counts().head(60)"
   ]
  },
  {
   "cell_type": "markdown",
   "metadata": {},
   "source": [
    "# Save results"
   ]
  },
  {
   "cell_type": "code",
   "execution_count": 112,
   "metadata": {},
   "outputs": [
    {
     "output_type": "execute_result",
     "data": {
      "text/plain": "               name                                         occupation  \\\n0        Daniel Dix                 Sales Account Manager at Bytestock   \n1      Philip Meier                        Software Engineer at EDITED   \n2      Giles Morgan  Non-Exec Director | Advisor to Fortune 500 | S...   \n3     Daven Sanassy                                CTO | Vochlea Music   \n4      Cecil Adjalo  Yahoo Finance EMPower Top 100 Ethnic Minority ...   \n...             ...                                                ...   \n1239   Steve Tanner                                         Consultant   \n1240     Jason Raju  Principal Consultant | Cyber Security | Archit...   \n1241   Jason Laanda              Senior Residential Sales at Parkheath   \n1242  Sophie Cobden                       Life Coach - Seasons Of Life   \n1243   Joshua Elias          Founder & Managing Director at JBE Search   \n\n                     Job title                             linkedin_id  \\\n0        Sales Account Manager    linkedin.com/in/daniel-dix-105970195   \n1            Software Engineer   linkedin.com/in/philip-meier-99865187   \n2       Non-Executive Director            linkedin.com/in/gilesbmorgan   \n3     Chief Technology Officer                  linkedin.com/in/davens   \n4     Chief Operations Officer                  linkedin.com/in/adjalo   \n...                        ...                                     ...   \n1239                             linkedin.com/in/steve-tanner-1a91a049   \n1240                                         linkedin.com/in/jasonraju   \n1241                             linkedin.com/in/jason-laanda-69b77722   \n1242                            linkedin.com/in/sophie-cobden-a24ab12b   \n1243                             linkedin.com/in/joshua-elias-9a113327   \n\n                              email                 phone  \\\n0             dandix9843@icloud.com                         \n1     philip.meier06@googlemail.com                         \n2                gilesmorgan@me.com        447365759559.0   \n3                  davens@gmail.com                         \n4               cadjalo@hiberus.com                         \n...                             ...                   ...   \n1239      steven.tanner60@gmail.com                         \n1240                jraju@aurec.com  '+61 (0) 3 8625 0402   \n1241          jasonlaanda@gmail.com           07891887280   \n1242    sinclair_sophie@hotmail.com                         \n1243                                        0781 7782 119   \n\n                                       Personal website  \\\n0                                                         \n1     github.com/eatoncns/  (Portfolio)\\ntheawokende...   \n2     hubbleventures.com  (Company Website)\\nplanetu...   \n3                                                         \n4                        hiberus.com  (Company Website)   \n...                                                 ...   \n1239                                                      \n1240                    aurec.com.au  (Company Website)   \n1241                                                      \n1242                                                      \n1243                                                      \n\n                                    location  \\\n0                     Slough, United Kingdom   \n1     London, Greater London, United Kingdom   \n2          London, England Metropolitan Area   \n3     London, Greater London, United Kingdom   \n4     London, Greater London, United Kingdom   \n...                                      ...   \n1239  London, Greater London, United Kingdom   \n1240                    Melbourne, Australia   \n1241                  London, United Kingdom   \n1242                          United Kingdom   \n1243                          United Kingdom   \n\n                                           company_link  \\\n0           https://www.linkedin.com/company/bytestock/   \n1              https://www.linkedin.com/company/edited/   \n2             https://www.linkedin.com/company/etch-uk/   \n3       https://www.linkedin.com/company/vochlea-music/   \n4     https://www.linkedin.com/company/hiberus-tecno...   \n...                                                 ...   \n1239  https://www.linkedin.com/company/quad-security...   \n1240            https://www.linkedin.com/company/aurec/   \n1241        https://www.linkedin.com/company/parkheath/   \n1242  https://www.linkedin.com/search/results/all/?k...   \n1243       https://www.linkedin.com/company/jbe-search/   \n\n         company_linkedin_id  ...  \\\n0                  bytestock  ...   \n1                     edited  ...   \n2                    etch-uk  ...   \n3              vochlea-music  ...   \n4         hiberus-tecnologia  ...   \n...                      ...  ...   \n1239  quad-security-services  ...   \n1240                   aurec  ...   \n1241               parkheath  ...   \n1242                          ...   \n1243              jbe-search  ...   \n\n                                    company_description company_size  \\\n0     We’re one of Europe’s largest stockists of new...       51-200   \n1     EDITED is the leader in Retail Market Intellig...       51-200   \n2     For business change-makers who want to empower...       51-200   \n3     Vochlea Music is a creative technology company...         2-10   \n4     Hiberus Tecnología is an IT consulting company...    501-1,000   \n...                                                 ...          ...   \n1239                                                                   \n1240  Aurec was founded in 2002 in Australia with on...       51-200   \n1241  Parkheath is a London estate agent, establishe...        11-50   \n1242                                                                   \n1243  JBE Search is a boutique and pro-active Global...         2-10   \n\n                                    company_specialties company_established  \\\n0     IT,Servers,Workstations,Refurbished IT,Dell,HP...                2004   \n1     Retail Analytics,Pricing & Product Assortment,...                2009   \n2     User Experience,Digital Marketing,Umbraco CMS,...                2012   \n3     Music,Technology,AI,Musical Instruments,Engine...                2017   \n4                                                                      2011   \n...                                                 ...                 ...   \n1239                                                                          \n1240  Information Technology,Sales & Marketing,Banki...                2002   \n1241  Residential Sales,Residential Lettings,Propert...                1983   \n1242                                                                          \n1243                                                                   2018   \n\n                       company_industry             company_website  \\\n0     Information Technology & Services  https://www.bytestock.com/   \n1                     Apparel & Fashion       http://www.edited.com   \n2                                Design      https://www.etchuk.com   \n3                     Computer Software    http://www.vochlea.co.uk   \n4                 Management Consulting     https://www.hiberus.com   \n...                                 ...                         ...   \n1239                                                                  \n1240              Staffing & Recruiting        http://www.aurec.com   \n1241                        Real Estate    http://www.parkheath.com   \n1242                                                                  \n1243              Staffing & Recruiting                               \n\n          company_headquarter company_logo_url    Relationship  \\\n0          Windsor, Berkshire                       Influencer   \n1             London, England                       Influencer   \n2                      London                   Decision Maker   \n3             London, England                   Decision Maker   \n4            Zaragoza, Aragón                            Buyer   \n...                       ...              ...             ...   \n1239                                                             \n1240              Sydney, NSW                                    \n1241           London, London                                    \n1242                                                             \n1243  London , United Kingdom                                    \n\n             probable_role  \n0     Top-level-influencer  \n1     Mid-level-influencer  \n2                 Director  \n3              C-executive  \n4              C-executive  \n...                    ...  \n1239  Mid-level-influencer  \n1240  Mid-level-influencer  \n1241                        \n1242                        \n1243    Founder/Co-Founder  \n\n[1244 rows x 21 columns]",
      "text/html": "<div>\n<style scoped>\n    .dataframe tbody tr th:only-of-type {\n        vertical-align: middle;\n    }\n\n    .dataframe tbody tr th {\n        vertical-align: top;\n    }\n\n    .dataframe thead th {\n        text-align: right;\n    }\n</style>\n<table border=\"1\" class=\"dataframe\">\n  <thead>\n    <tr style=\"text-align: right;\">\n      <th></th>\n      <th>name</th>\n      <th>occupation</th>\n      <th>Job title</th>\n      <th>linkedin_id</th>\n      <th>email</th>\n      <th>phone</th>\n      <th>Personal website</th>\n      <th>location</th>\n      <th>company_link</th>\n      <th>company_linkedin_id</th>\n      <th>...</th>\n      <th>company_description</th>\n      <th>company_size</th>\n      <th>company_specialties</th>\n      <th>company_established</th>\n      <th>company_industry</th>\n      <th>company_website</th>\n      <th>company_headquarter</th>\n      <th>company_logo_url</th>\n      <th>Relationship</th>\n      <th>probable_role</th>\n    </tr>\n  </thead>\n  <tbody>\n    <tr>\n      <th>0</th>\n      <td>Daniel Dix</td>\n      <td>Sales Account Manager at Bytestock</td>\n      <td>Sales Account Manager</td>\n      <td>linkedin.com/in/daniel-dix-105970195</td>\n      <td>dandix9843@icloud.com</td>\n      <td></td>\n      <td></td>\n      <td>Slough, United Kingdom</td>\n      <td>https://www.linkedin.com/company/bytestock/</td>\n      <td>bytestock</td>\n      <td>...</td>\n      <td>We’re one of Europe’s largest stockists of new...</td>\n      <td>51-200</td>\n      <td>IT,Servers,Workstations,Refurbished IT,Dell,HP...</td>\n      <td>2004</td>\n      <td>Information Technology &amp; Services</td>\n      <td>https://www.bytestock.com/</td>\n      <td>Windsor, Berkshire</td>\n      <td></td>\n      <td>Influencer</td>\n      <td>Top-level-influencer</td>\n    </tr>\n    <tr>\n      <th>1</th>\n      <td>Philip Meier</td>\n      <td>Software Engineer at EDITED</td>\n      <td>Software Engineer</td>\n      <td>linkedin.com/in/philip-meier-99865187</td>\n      <td>philip.meier06@googlemail.com</td>\n      <td></td>\n      <td>github.com/eatoncns/  (Portfolio)\\ntheawokende...</td>\n      <td>London, Greater London, United Kingdom</td>\n      <td>https://www.linkedin.com/company/edited/</td>\n      <td>edited</td>\n      <td>...</td>\n      <td>EDITED is the leader in Retail Market Intellig...</td>\n      <td>51-200</td>\n      <td>Retail Analytics,Pricing &amp; Product Assortment,...</td>\n      <td>2009</td>\n      <td>Apparel &amp; Fashion</td>\n      <td>http://www.edited.com</td>\n      <td>London, England</td>\n      <td></td>\n      <td>Influencer</td>\n      <td>Mid-level-influencer</td>\n    </tr>\n    <tr>\n      <th>2</th>\n      <td>Giles Morgan</td>\n      <td>Non-Exec Director | Advisor to Fortune 500 | S...</td>\n      <td>Non-Executive Director</td>\n      <td>linkedin.com/in/gilesbmorgan</td>\n      <td>gilesmorgan@me.com</td>\n      <td>447365759559.0</td>\n      <td>hubbleventures.com  (Company Website)\\nplanetu...</td>\n      <td>London, England Metropolitan Area</td>\n      <td>https://www.linkedin.com/company/etch-uk/</td>\n      <td>etch-uk</td>\n      <td>...</td>\n      <td>For business change-makers who want to empower...</td>\n      <td>51-200</td>\n      <td>User Experience,Digital Marketing,Umbraco CMS,...</td>\n      <td>2012</td>\n      <td>Design</td>\n      <td>https://www.etchuk.com</td>\n      <td>London</td>\n      <td></td>\n      <td>Decision Maker</td>\n      <td>Director</td>\n    </tr>\n    <tr>\n      <th>3</th>\n      <td>Daven Sanassy</td>\n      <td>CTO | Vochlea Music</td>\n      <td>Chief Technology Officer</td>\n      <td>linkedin.com/in/davens</td>\n      <td>davens@gmail.com</td>\n      <td></td>\n      <td></td>\n      <td>London, Greater London, United Kingdom</td>\n      <td>https://www.linkedin.com/company/vochlea-music/</td>\n      <td>vochlea-music</td>\n      <td>...</td>\n      <td>Vochlea Music is a creative technology company...</td>\n      <td>2-10</td>\n      <td>Music,Technology,AI,Musical Instruments,Engine...</td>\n      <td>2017</td>\n      <td>Computer Software</td>\n      <td>http://www.vochlea.co.uk</td>\n      <td>London, England</td>\n      <td></td>\n      <td>Decision Maker</td>\n      <td>C-executive</td>\n    </tr>\n    <tr>\n      <th>4</th>\n      <td>Cecil Adjalo</td>\n      <td>Yahoo Finance EMPower Top 100 Ethnic Minority ...</td>\n      <td>Chief Operations Officer</td>\n      <td>linkedin.com/in/adjalo</td>\n      <td>cadjalo@hiberus.com</td>\n      <td></td>\n      <td>hiberus.com  (Company Website)</td>\n      <td>London, Greater London, United Kingdom</td>\n      <td>https://www.linkedin.com/company/hiberus-tecno...</td>\n      <td>hiberus-tecnologia</td>\n      <td>...</td>\n      <td>Hiberus Tecnología is an IT consulting company...</td>\n      <td>501-1,000</td>\n      <td></td>\n      <td>2011</td>\n      <td>Management Consulting</td>\n      <td>https://www.hiberus.com</td>\n      <td>Zaragoza, Aragón</td>\n      <td></td>\n      <td>Buyer</td>\n      <td>C-executive</td>\n    </tr>\n    <tr>\n      <th>...</th>\n      <td>...</td>\n      <td>...</td>\n      <td>...</td>\n      <td>...</td>\n      <td>...</td>\n      <td>...</td>\n      <td>...</td>\n      <td>...</td>\n      <td>...</td>\n      <td>...</td>\n      <td>...</td>\n      <td>...</td>\n      <td>...</td>\n      <td>...</td>\n      <td>...</td>\n      <td>...</td>\n      <td>...</td>\n      <td>...</td>\n      <td>...</td>\n      <td>...</td>\n      <td>...</td>\n    </tr>\n    <tr>\n      <th>1239</th>\n      <td>Steve Tanner</td>\n      <td>Consultant</td>\n      <td></td>\n      <td>linkedin.com/in/steve-tanner-1a91a049</td>\n      <td>steven.tanner60@gmail.com</td>\n      <td></td>\n      <td></td>\n      <td>London, Greater London, United Kingdom</td>\n      <td>https://www.linkedin.com/company/quad-security...</td>\n      <td>quad-security-services</td>\n      <td>...</td>\n      <td></td>\n      <td></td>\n      <td></td>\n      <td></td>\n      <td></td>\n      <td></td>\n      <td></td>\n      <td></td>\n      <td></td>\n      <td>Mid-level-influencer</td>\n    </tr>\n    <tr>\n      <th>1240</th>\n      <td>Jason Raju</td>\n      <td>Principal Consultant | Cyber Security | Archit...</td>\n      <td></td>\n      <td>linkedin.com/in/jasonraju</td>\n      <td>jraju@aurec.com</td>\n      <td>'+61 (0) 3 8625 0402</td>\n      <td>aurec.com.au  (Company Website)</td>\n      <td>Melbourne, Australia</td>\n      <td>https://www.linkedin.com/company/aurec/</td>\n      <td>aurec</td>\n      <td>...</td>\n      <td>Aurec was founded in 2002 in Australia with on...</td>\n      <td>51-200</td>\n      <td>Information Technology,Sales &amp; Marketing,Banki...</td>\n      <td>2002</td>\n      <td>Staffing &amp; Recruiting</td>\n      <td>http://www.aurec.com</td>\n      <td>Sydney, NSW</td>\n      <td></td>\n      <td></td>\n      <td>Mid-level-influencer</td>\n    </tr>\n    <tr>\n      <th>1241</th>\n      <td>Jason Laanda</td>\n      <td>Senior Residential Sales at Parkheath</td>\n      <td></td>\n      <td>linkedin.com/in/jason-laanda-69b77722</td>\n      <td>jasonlaanda@gmail.com</td>\n      <td>07891887280</td>\n      <td></td>\n      <td>London, United Kingdom</td>\n      <td>https://www.linkedin.com/company/parkheath/</td>\n      <td>parkheath</td>\n      <td>...</td>\n      <td>Parkheath is a London estate agent, establishe...</td>\n      <td>11-50</td>\n      <td>Residential Sales,Residential Lettings,Propert...</td>\n      <td>1983</td>\n      <td>Real Estate</td>\n      <td>http://www.parkheath.com</td>\n      <td>London, London</td>\n      <td></td>\n      <td></td>\n      <td></td>\n    </tr>\n    <tr>\n      <th>1242</th>\n      <td>Sophie Cobden</td>\n      <td>Life Coach - Seasons Of Life</td>\n      <td></td>\n      <td>linkedin.com/in/sophie-cobden-a24ab12b</td>\n      <td>sinclair_sophie@hotmail.com</td>\n      <td></td>\n      <td></td>\n      <td>United Kingdom</td>\n      <td>https://www.linkedin.com/search/results/all/?k...</td>\n      <td></td>\n      <td>...</td>\n      <td></td>\n      <td></td>\n      <td></td>\n      <td></td>\n      <td></td>\n      <td></td>\n      <td></td>\n      <td></td>\n      <td></td>\n      <td></td>\n    </tr>\n    <tr>\n      <th>1243</th>\n      <td>Joshua Elias</td>\n      <td>Founder &amp; Managing Director at JBE Search</td>\n      <td></td>\n      <td>linkedin.com/in/joshua-elias-9a113327</td>\n      <td></td>\n      <td>0781 7782 119</td>\n      <td></td>\n      <td>United Kingdom</td>\n      <td>https://www.linkedin.com/company/jbe-search/</td>\n      <td>jbe-search</td>\n      <td>...</td>\n      <td>JBE Search is a boutique and pro-active Global...</td>\n      <td>2-10</td>\n      <td></td>\n      <td>2018</td>\n      <td>Staffing &amp; Recruiting</td>\n      <td></td>\n      <td>London , United Kingdom</td>\n      <td></td>\n      <td></td>\n      <td>Founder/Co-Founder</td>\n    </tr>\n  </tbody>\n</table>\n<p>1244 rows × 21 columns</p>\n</div>"
     },
     "metadata": {},
     "execution_count": 112
    }
   ],
   "source": [
    "df_to_save=df.reset_index(drop=True)\n",
    "df_to_save=df_to_save.fillna('')\n",
    "target_file = os.path.join(data_folder, 'joes-network-with-probable-role.csv')\n",
    "df_to_save.to_csv(target_file, index=True)\n",
    "\n",
    "df_to_save"
   ]
  },
  {
   "cell_type": "code",
   "execution_count": null,
   "metadata": {},
   "outputs": [],
   "source": []
  }
 ],
 "metadata": {
  "language_info": {
   "codemirror_mode": {
    "name": "ipython",
    "version": 3
   },
   "file_extension": ".py",
   "mimetype": "text/x-python",
   "name": "python",
   "nbconvert_exporter": "python",
   "pygments_lexer": "ipython3",
   "version": 3
  },
  "orig_nbformat": 2,
  "kernelspec": {
   "name": "python_defaultSpec_1602970441712",
   "display_name": "Python 3.7.4 64-bit ('anaconda3': conda)"
  }
 },
 "nbformat": 4,
 "nbformat_minor": 2
}