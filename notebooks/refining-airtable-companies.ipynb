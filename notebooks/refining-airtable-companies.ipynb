{
 "cells": [
  {
   "cell_type": "markdown",
   "metadata": {},
   "source": [
    "# Load airtable companies"
   ]
  },
  {
   "cell_type": "code",
   "execution_count": 31,
   "metadata": {},
   "outputs": [
    {
     "output_type": "execute_result",
     "data": {
      "text/plain": "        Partner Name                    Contacts  \\\n0          8th Light    Jim Suchy,Becca Townsend   \n1             Accurx  Louise Hughes,Jacob Haddad   \n2      Acuris Global                         NaN   \n3  Ad Hoc Global Ltd                         NaN   \n4           Airtable                         NaN   \n\n         Gmail Contacts in full                       HQ Employees  \\\n0      Ashley Bye, Dennis Moore          \"Angel, London\"    51-200   \n1                           NaN        \"Dalston, London\"     11-50   \n2                           NaN           City of London  501-1000   \n3                           NaN  \"Covent Garden, London\"      1-10   \n4  Alex Dytrych, David Peterson     \"Old Street, London\"     11-50   \n\n           Industry                      Website  \n0     💼 Consultancy         https://8thlight.com  \n1     ⚕️Health Tech      https://www.accurx.com/  \n2  🏢 Infrastructure      https://www.acuris.com/  \n3          🖥 Agency  http://www.adhocglobal.com/  \n4  📲Online Platform         https://airtable.com  ",
      "text/html": "<div>\n<style scoped>\n    .dataframe tbody tr th:only-of-type {\n        vertical-align: middle;\n    }\n\n    .dataframe tbody tr th {\n        vertical-align: top;\n    }\n\n    .dataframe thead th {\n        text-align: right;\n    }\n</style>\n<table border=\"1\" class=\"dataframe\">\n  <thead>\n    <tr style=\"text-align: right;\">\n      <th></th>\n      <th>Partner Name</th>\n      <th>Contacts</th>\n      <th>Gmail Contacts in full</th>\n      <th>HQ</th>\n      <th>Employees</th>\n      <th>Industry</th>\n      <th>Website</th>\n    </tr>\n  </thead>\n  <tbody>\n    <tr>\n      <td>0</td>\n      <td>8th Light</td>\n      <td>Jim Suchy,Becca Townsend</td>\n      <td>Ashley Bye, Dennis Moore</td>\n      <td>\"Angel, London\"</td>\n      <td>51-200</td>\n      <td>💼 Consultancy</td>\n      <td>https://8thlight.com</td>\n    </tr>\n    <tr>\n      <td>1</td>\n      <td>Accurx</td>\n      <td>Louise Hughes,Jacob Haddad</td>\n      <td>NaN</td>\n      <td>\"Dalston, London\"</td>\n      <td>11-50</td>\n      <td>⚕️Health Tech</td>\n      <td>https://www.accurx.com/</td>\n    </tr>\n    <tr>\n      <td>2</td>\n      <td>Acuris Global</td>\n      <td>NaN</td>\n      <td>NaN</td>\n      <td>City of London</td>\n      <td>501-1000</td>\n      <td>🏢 Infrastructure</td>\n      <td>https://www.acuris.com/</td>\n    </tr>\n    <tr>\n      <td>3</td>\n      <td>Ad Hoc Global Ltd</td>\n      <td>NaN</td>\n      <td>NaN</td>\n      <td>\"Covent Garden, London\"</td>\n      <td>1-10</td>\n      <td>🖥 Agency</td>\n      <td>http://www.adhocglobal.com/</td>\n    </tr>\n    <tr>\n      <td>4</td>\n      <td>Airtable</td>\n      <td>NaN</td>\n      <td>Alex Dytrych, David Peterson</td>\n      <td>\"Old Street, London\"</td>\n      <td>11-50</td>\n      <td>📲Online Platform</td>\n      <td>https://airtable.com</td>\n    </tr>\n  </tbody>\n</table>\n</div>"
     },
     "metadata": {},
     "execution_count": 31
    }
   ],
   "source": [
    "import pandas as pd\n",
    "\n",
    "airtable_companies = pd.read_csv('../data/airtable-raw-companies-2020-05-22.csv')\n",
    "\n",
    "airtable_companies.head()"
   ]
  },
  {
   "cell_type": "markdown",
   "metadata": {},
   "source": [
    "# Load extracted hubspot Companies"
   ]
  },
  {
   "cell_type": "code",
   "execution_count": 32,
   "metadata": {},
   "outputs": [
    {
     "output_type": "execute_result",
     "data": {
      "text/plain": "   Unnamed: 0 Associated Company ID         Associated Company     Industry  \\\n0           0            1005828045        Big Radical Limited   Non Profit   \n1           1            1006470667               psygro.co.za          NaN   \n2           2            1006849789  Care Coordination Systems  Health Care   \n3           3            1011074056           KOS Services LLC          NaN   \n4           4            1013701003                  Dan Bocik          NaN   \n\n                                           Deal Name Deal Stage  \n0                              Web Community Project          0  \n1               Trudy  Tanner - 8thlight.com contact          0  \n2  CCS Pathways -- Admin Modules and Web Educatio...          0  \n3            Erin  Steinhardt - 8thlight.com contact          0  \n4                  Dan  Bocik - 8thlight.com contact          0  ",
      "text/html": "<div>\n<style scoped>\n    .dataframe tbody tr th:only-of-type {\n        vertical-align: middle;\n    }\n\n    .dataframe tbody tr th {\n        vertical-align: top;\n    }\n\n    .dataframe thead th {\n        text-align: right;\n    }\n</style>\n<table border=\"1\" class=\"dataframe\">\n  <thead>\n    <tr style=\"text-align: right;\">\n      <th></th>\n      <th>Unnamed: 0</th>\n      <th>Associated Company ID</th>\n      <th>Associated Company</th>\n      <th>Industry</th>\n      <th>Deal Name</th>\n      <th>Deal Stage</th>\n    </tr>\n  </thead>\n  <tbody>\n    <tr>\n      <td>0</td>\n      <td>0</td>\n      <td>1005828045</td>\n      <td>Big Radical Limited</td>\n      <td>Non Profit</td>\n      <td>Web Community Project</td>\n      <td>0</td>\n    </tr>\n    <tr>\n      <td>1</td>\n      <td>1</td>\n      <td>1006470667</td>\n      <td>psygro.co.za</td>\n      <td>NaN</td>\n      <td>Trudy  Tanner - 8thlight.com contact</td>\n      <td>0</td>\n    </tr>\n    <tr>\n      <td>2</td>\n      <td>2</td>\n      <td>1006849789</td>\n      <td>Care Coordination Systems</td>\n      <td>Health Care</td>\n      <td>CCS Pathways -- Admin Modules and Web Educatio...</td>\n      <td>0</td>\n    </tr>\n    <tr>\n      <td>3</td>\n      <td>3</td>\n      <td>1011074056</td>\n      <td>KOS Services LLC</td>\n      <td>NaN</td>\n      <td>Erin  Steinhardt - 8thlight.com contact</td>\n      <td>0</td>\n    </tr>\n    <tr>\n      <td>4</td>\n      <td>4</td>\n      <td>1013701003</td>\n      <td>Dan Bocik</td>\n      <td>NaN</td>\n      <td>Dan  Bocik - 8thlight.com contact</td>\n      <td>0</td>\n    </tr>\n  </tbody>\n</table>\n</div>"
     },
     "metadata": {},
     "execution_count": 32
    }
   ],
   "source": [
    "hubspot_companies = pd.read_csv('../data/companies-from-deals.csv')\n",
    "\n",
    "hubspot_companies.head()"
   ]
  },
  {
   "cell_type": "markdown",
   "metadata": {},
   "source": [
    "# Find companies interception"
   ]
  },
  {
   "cell_type": "code",
   "execution_count": 33,
   "metadata": {},
   "outputs": [
    {
     "output_type": "execute_result",
     "data": {
      "text/plain": "0                BBC\n1     Makers Academy\n2       Ticketmaster\n3       Ticketmaster\n4    Thomson Reuters\nName: Associated Company, dtype: object"
     },
     "metadata": {},
     "execution_count": 33
    }
   ],
   "source": [
    "airtable_companies = airtable_companies.rename(columns={\"Partner Name\": \"Associated Company\"})\n",
    "\n",
    "airtable_companies[\"Associated Company\"] = airtable_companies[\"Associated Company\"]\n",
    "hubspot_companies[\"Associated Company\"] = hubspot_companies[\"Associated Company\"]\n",
    "\n",
    "common_companies = pd.merge(hubspot_companies, airtable_companies, how='inner', on=['Associated Company'])\n",
    "\n",
    "common_companies['Associated Company'].head()"
   ]
  },
  {
   "cell_type": "code",
   "execution_count": 34,
   "metadata": {},
   "outputs": [
    {
     "output_type": "execute_result",
     "data": {
      "text/plain": "       Associated Company     Contacts  Gmail Contacts in full  \\\ncount                 185          109                      52   \nunique                185          109                      52   \ntop     Library of Things  James Adams  Alex Hind, Dennis Kent   \nfreq                    1            1                       1   \n\n                    HQ Employees          Industry             Website  \ncount              185       184               184                 184  \nunique              62         8                29                 184  \ntop     City of London     11-50  ☮️ Social Impact  atomlearning.co.uk  \nfreq                25        67                23                   1  ",
      "text/html": "<div>\n<style scoped>\n    .dataframe tbody tr th:only-of-type {\n        vertical-align: middle;\n    }\n\n    .dataframe tbody tr th {\n        vertical-align: top;\n    }\n\n    .dataframe thead th {\n        text-align: right;\n    }\n</style>\n<table border=\"1\" class=\"dataframe\">\n  <thead>\n    <tr style=\"text-align: right;\">\n      <th></th>\n      <th>Associated Company</th>\n      <th>Contacts</th>\n      <th>Gmail Contacts in full</th>\n      <th>HQ</th>\n      <th>Employees</th>\n      <th>Industry</th>\n      <th>Website</th>\n    </tr>\n  </thead>\n  <tbody>\n    <tr>\n      <td>count</td>\n      <td>185</td>\n      <td>109</td>\n      <td>52</td>\n      <td>185</td>\n      <td>184</td>\n      <td>184</td>\n      <td>184</td>\n    </tr>\n    <tr>\n      <td>unique</td>\n      <td>185</td>\n      <td>109</td>\n      <td>52</td>\n      <td>62</td>\n      <td>8</td>\n      <td>29</td>\n      <td>184</td>\n    </tr>\n    <tr>\n      <td>top</td>\n      <td>Library of Things</td>\n      <td>James Adams</td>\n      <td>Alex Hind, Dennis Kent</td>\n      <td>City of London</td>\n      <td>11-50</td>\n      <td>☮️ Social Impact</td>\n      <td>atomlearning.co.uk</td>\n    </tr>\n    <tr>\n      <td>freq</td>\n      <td>1</td>\n      <td>1</td>\n      <td>1</td>\n      <td>25</td>\n      <td>67</td>\n      <td>23</td>\n      <td>1</td>\n    </tr>\n  </tbody>\n</table>\n</div>"
     },
     "metadata": {},
     "execution_count": 34
    }
   ],
   "source": [
    "airtable_companies.describe()"
   ]
  },
  {
   "cell_type": "code",
   "execution_count": 37,
   "metadata": {},
   "outputs": [
    {
     "output_type": "execute_result",
     "data": {
      "text/plain": "       Associated Company     Contacts  Gmail Contacts in full  \\\ncount                 181          107                      52   \nunique                181          107                      52   \ntop     Library of Things  James Adams  Alex Hind, Dennis Kent   \nfreq                    1            1                       1   \n\n                    HQ Employees          Industry             Website  \ncount              181       180               180                 180  \nunique              61         8                29                 180  \ntop     City of London     11-50  ☮️ Social Impact  atomlearning.co.uk  \nfreq                25        66                23                   1  ",
      "text/html": "<div>\n<style scoped>\n    .dataframe tbody tr th:only-of-type {\n        vertical-align: middle;\n    }\n\n    .dataframe tbody tr th {\n        vertical-align: top;\n    }\n\n    .dataframe thead th {\n        text-align: right;\n    }\n</style>\n<table border=\"1\" class=\"dataframe\">\n  <thead>\n    <tr style=\"text-align: right;\">\n      <th></th>\n      <th>Associated Company</th>\n      <th>Contacts</th>\n      <th>Gmail Contacts in full</th>\n      <th>HQ</th>\n      <th>Employees</th>\n      <th>Industry</th>\n      <th>Website</th>\n    </tr>\n  </thead>\n  <tbody>\n    <tr>\n      <td>count</td>\n      <td>181</td>\n      <td>107</td>\n      <td>52</td>\n      <td>181</td>\n      <td>180</td>\n      <td>180</td>\n      <td>180</td>\n    </tr>\n    <tr>\n      <td>unique</td>\n      <td>181</td>\n      <td>107</td>\n      <td>52</td>\n      <td>61</td>\n      <td>8</td>\n      <td>29</td>\n      <td>180</td>\n    </tr>\n    <tr>\n      <td>top</td>\n      <td>Library of Things</td>\n      <td>James Adams</td>\n      <td>Alex Hind, Dennis Kent</td>\n      <td>City of London</td>\n      <td>11-50</td>\n      <td>☮️ Social Impact</td>\n      <td>atomlearning.co.uk</td>\n    </tr>\n    <tr>\n      <td>freq</td>\n      <td>1</td>\n      <td>1</td>\n      <td>1</td>\n      <td>25</td>\n      <td>66</td>\n      <td>23</td>\n      <td>1</td>\n    </tr>\n  </tbody>\n</table>\n</div>"
     },
     "metadata": {},
     "execution_count": 37
    }
   ],
   "source": [
    "df = airtable_companies\n",
    "\n",
    "df = df[~df[\"Associated Company\"].isin([\"Ticketmaster\", \"BBC\", \"Thomson Reuters\", \"Makers Academy\"])]\n",
    "df.describe()"
   ]
  },
  {
   "cell_type": "markdown",
   "metadata": {},
   "source": [
    "# Save filtered"
   ]
  },
  {
   "cell_type": "code",
   "execution_count": null,
   "metadata": {},
   "outputs": [],
   "source": [
    "df.to_csv('../data/airtable-unique-companies.csv')"
   ]
  }
 ],
 "metadata": {
  "language_info": {
   "codemirror_mode": {
    "name": "ipython",
    "version": 3
   },
   "file_extension": ".py",
   "mimetype": "text/x-python",
   "name": "python",
   "nbconvert_exporter": "python",
   "pygments_lexer": "ipython3",
   "version": "3.7.4-final"
  },
  "orig_nbformat": 2,
  "kernelspec": {
   "name": "python37464bitanaconda3virtualenvd52db71446784f42972ec097c4b2c8ef",
   "display_name": "Python 3.7.4 64-bit ('anaconda3': virtualenv)"
  }
 },
 "nbformat": 4,
 "nbformat_minor": 2
}