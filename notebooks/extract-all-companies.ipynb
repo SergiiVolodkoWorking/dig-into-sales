{
 "nbformat": 4,
 "nbformat_minor": 2,
 "metadata": {
  "language_info": {
   "name": "python",
   "codemirror_mode": {
    "name": "ipython",
    "version": 3
   },
   "version": "3.7.4-final"
  },
  "orig_nbformat": 2,
  "file_extension": ".py",
  "mimetype": "text/x-python",
  "name": "python",
  "npconvert_exporter": "python",
  "pygments_lexer": "ipython3",
  "version": 3,
  "kernelspec": {
   "name": "python37464bitanaconda3virtualenvd52db71446784f42972ec097c4b2c8ef",
   "display_name": "Python 3.7.4 64-bit ('anaconda3': virtualenv)"
  }
 },
 "cells": [
  {
   "cell_type": "markdown",
   "metadata": {},
   "source": [
    "# Load data"
   ]
  },
  {
   "cell_type": "code",
   "execution_count": 1,
   "metadata": {},
   "outputs": [
    {
     "data": {
      "text/html": "<div>\n<style scoped>\n    .dataframe tbody tr th:only-of-type {\n        vertical-align: middle;\n    }\n\n    .dataframe tbody tr th {\n        vertical-align: top;\n    }\n\n    .dataframe thead th {\n        text-align: right;\n    }\n</style>\n<table border=\"1\" class=\"dataframe\">\n  <thead>\n    <tr style=\"text-align: right;\">\n      <th></th>\n      <th>Deal ID</th>\n      <th>Deal Name</th>\n      <th>Deal owner</th>\n      <th>Deal Stage</th>\n      <th>Sales Lead</th>\n      <th>Designated Office</th>\n      <th>Director</th>\n      <th>Industry</th>\n      <th>Source</th>\n      <th>Associated Company ID</th>\n      <th>Associated Company</th>\n      <th>Associated Contact IDs</th>\n      <th>Associated Contacts</th>\n      <th>Business Lines</th>\n    </tr>\n  </thead>\n  <tbody>\n    <tr>\n      <td>0</td>\n      <td>1126055965</td>\n      <td>American Family Insurance - Shark</td>\n      <td>Kevin Kotowski</td>\n      <td>1</td>\n      <td>Dennis Moore</td>\n      <td>Madison</td>\n      <td>Kevin Kotowski</td>\n      <td>Insurance</td>\n      <td>None</td>\n      <td>846172243</td>\n      <td>American Family Insurance</td>\n      <td>NaN</td>\n      <td>NaN</td>\n      <td>NaN</td>\n    </tr>\n    <tr>\n      <td>1</td>\n      <td>362032710</td>\n      <td>SSE</td>\n      <td>Jim Suchy</td>\n      <td>1</td>\n      <td>Margaret Pagel</td>\n      <td>London</td>\n      <td>Nick Dyer</td>\n      <td>Government</td>\n      <td>Existing client referral</td>\n      <td>727202247</td>\n      <td>Arthur D Little</td>\n      <td>NaN</td>\n      <td>NaN</td>\n      <td>NaN</td>\n    </tr>\n    <tr>\n      <td>2</td>\n      <td>941965426</td>\n      <td>Confluency - X Factor</td>\n      <td>Brad Ediger</td>\n      <td>1</td>\n      <td>Dennis Moore</td>\n      <td>Chicago</td>\n      <td>Dennis Moore</td>\n      <td>Government</td>\n      <td>Cold Call</td>\n      <td>2338059811</td>\n      <td>Confluency</td>\n      <td>30437651</td>\n      <td>Mason Throneburg</td>\n      <td>NaN</td>\n    </tr>\n    <tr>\n      <td>3</td>\n      <td>905986805</td>\n      <td>Reverb - Holistic On-boarding/Training/Mentor ...</td>\n      <td>Ryan Verner</td>\n      <td>1</td>\n      <td>Jenn Imamura</td>\n      <td>Chicago</td>\n      <td>Ryan Verner</td>\n      <td>E-commerce</td>\n      <td>Website</td>\n      <td>629633500</td>\n      <td>Reverb.com LLC</td>\n      <td>37461401, 35715851, 38635601</td>\n      <td>Molly Rudberg, Kyle Crum, Jason Wain</td>\n      <td>NaN</td>\n    </tr>\n    <tr>\n      <td>4</td>\n      <td>876852247</td>\n      <td>Maintenance and Consulting Services</td>\n      <td>Kim Carten</td>\n      <td>1</td>\n      <td>Jenn Imamura</td>\n      <td>Los Angeles</td>\n      <td>Malcolm Newsome</td>\n      <td>NaN</td>\n      <td>Upsell</td>\n      <td>727079949</td>\n      <td>CMD-IT</td>\n      <td>NaN</td>\n      <td>NaN</td>\n      <td>NaN</td>\n    </tr>\n  </tbody>\n</table>\n</div>",
      "text/plain": "      Deal ID                                          Deal Name  \\\n0  1126055965                  American Family Insurance - Shark   \n1   362032710                                                SSE   \n2   941965426                              Confluency - X Factor   \n3   905986805  Reverb - Holistic On-boarding/Training/Mentor ...   \n4   876852247                Maintenance and Consulting Services   \n\n       Deal owner Deal Stage      Sales Lead Designated Office  \\\n0  Kevin Kotowski          1    Dennis Moore           Madison   \n1       Jim Suchy          1  Margaret Pagel            London   \n2     Brad Ediger          1    Dennis Moore           Chicago   \n3     Ryan Verner          1    Jenn Imamura           Chicago   \n4      Kim Carten          1    Jenn Imamura       Los Angeles   \n\n          Director    Industry                    Source  \\\n0   Kevin Kotowski   Insurance                      None   \n1        Nick Dyer  Government  Existing client referral   \n2     Dennis Moore  Government                 Cold Call   \n3      Ryan Verner  E-commerce                   Website   \n4  Malcolm Newsome         NaN                    Upsell   \n\n  Associated Company ID         Associated Company  \\\n0             846172243  American Family Insurance   \n1             727202247            Arthur D Little   \n2            2338059811                 Confluency   \n3             629633500             Reverb.com LLC   \n4             727079949                     CMD-IT   \n\n         Associated Contact IDs                   Associated Contacts  \\\n0                           NaN                                   NaN   \n1                           NaN                                   NaN   \n2                      30437651                      Mason Throneburg   \n3  37461401, 35715851, 38635601  Molly Rudberg, Kyle Crum, Jason Wain   \n4                           NaN                                   NaN   \n\n  Business Lines  \n0            NaN  \n1            NaN  \n2            NaN  \n3            NaN  \n4            NaN  "
     },
     "execution_count": 1,
     "metadata": {},
     "output_type": "execute_result"
    }
   ],
   "source": [
    "import pandas as pd\n",
    "\n",
    "completed_deals = pd.read_csv('../data/completed-or-current-deails-2019-10-29.csv')\n",
    "lost_deals = pd.read_csv('../data/lost-deals-2019-10-28-1.csv')\n",
    "\n",
    "completed_deals['Deal Stage'] = '1'\n",
    "lost_deals['Deal Stage'] = '0'\n",
    "\n",
    "deals_df = pd.concat([completed_deals, lost_deals], sort=False)\n",
    "\n",
    "deals_df.head()"
   ]
  },
  {
   "cell_type": "markdown",
   "metadata": {},
   "source": [
    "# Extracting only company columns"
   ]
  },
  {
   "cell_type": "code",
   "execution_count": 7,
   "metadata": {},
   "outputs": [
    {
     "data": {
      "text/html": "<div>\n<style scoped>\n    .dataframe tbody tr th:only-of-type {\n        vertical-align: middle;\n    }\n\n    .dataframe tbody tr th {\n        vertical-align: top;\n    }\n\n    .dataframe thead th {\n        text-align: right;\n    }\n</style>\n<table border=\"1\" class=\"dataframe\">\n  <thead>\n    <tr style=\"text-align: right;\">\n      <th></th>\n      <th>Associated Company ID</th>\n      <th>Associated Company</th>\n      <th>Industry</th>\n      <th>Deal Name</th>\n      <th>Deal Stage</th>\n    </tr>\n  </thead>\n  <tbody>\n    <tr>\n      <td>0</td>\n      <td>1005828045</td>\n      <td>Big Radical Limited</td>\n      <td>Non Profit</td>\n      <td>Web Community Project</td>\n      <td>0</td>\n    </tr>\n    <tr>\n      <td>1</td>\n      <td>1006470667</td>\n      <td>psygro.co.za</td>\n      <td></td>\n      <td>Trudy  Tanner - 8thlight.com contact</td>\n      <td>0</td>\n    </tr>\n    <tr>\n      <td>2</td>\n      <td>1006849789</td>\n      <td>Care Coordination Systems</td>\n      <td>Health Care</td>\n      <td>CCS Pathways -- Admin Modules and Web Educatio...</td>\n      <td>0</td>\n    </tr>\n    <tr>\n      <td>3</td>\n      <td>1011074056</td>\n      <td>KOS Services LLC</td>\n      <td></td>\n      <td>Erin  Steinhardt - 8thlight.com contact</td>\n      <td>0</td>\n    </tr>\n    <tr>\n      <td>4</td>\n      <td>1013701003</td>\n      <td>Dan Bocik</td>\n      <td></td>\n      <td>Dan  Bocik - 8thlight.com contact</td>\n      <td>0</td>\n    </tr>\n  </tbody>\n</table>\n</div>",
      "text/plain": "  Associated Company ID         Associated Company     Industry  \\\n0            1005828045        Big Radical Limited   Non Profit   \n1            1006470667               psygro.co.za                \n2            1006849789  Care Coordination Systems  Health Care   \n3            1011074056           KOS Services LLC                \n4            1013701003                  Dan Bocik                \n\n                                           Deal Name Deal Stage  \n0                              Web Community Project          0  \n1               Trudy  Tanner - 8thlight.com contact          0  \n2  CCS Pathways -- Admin Modules and Web Educatio...          0  \n3            Erin  Steinhardt - 8thlight.com contact          0  \n4                  Dan  Bocik - 8thlight.com contact          0  "
     },
     "execution_count": 7,
     "metadata": {},
     "output_type": "execute_result"
    }
   ],
   "source": [
    "deals_df['Industry'] = deals_df['Industry'].fillna('')\n",
    "companies_df = deals_df.groupby('Associated Company ID', as_index=False)\\\n",
    "    .agg({\n",
    "        'Associated Company': 'first',\n",
    "        'Industry': lambda x: ';'.join(x),\n",
    "        'Deal Name': lambda x: ';'.join(x),\n",
    "        'Deal Stage': lambda x: ';'.join(x)\n",
    "        })\n",
    "\n",
    "companies_df.head()"
   ]
  },
  {
   "cell_type": "code",
   "execution_count": 8,
   "metadata": {},
   "outputs": [
    {
     "name": "stdout",
     "output_type": "stream",
     "text": "<class 'pandas.core.frame.DataFrame'>\nInt64Index: 802 entries, 0 to 801\nData columns (total 5 columns):\nAssociated Company ID    802 non-null object\nAssociated Company       802 non-null object\nIndustry                 802 non-null object\nDeal Name                802 non-null object\nDeal Stage               802 non-null object\ndtypes: object(5)\nmemory usage: 37.6+ KB\n"
    }
   ],
   "source": [
    "companies_df.info()"
   ]
  },
  {
   "cell_type": "code",
   "execution_count": null,
   "metadata": {},
   "outputs": [],
   "source": [
    "companies_df.shape"
   ]
  },
  {
   "cell_type": "markdown",
   "metadata": {},
   "source": [
    "# Saving the result"
   ]
  },
  {
   "cell_type": "code",
   "execution_count": 9,
   "metadata": {},
   "outputs": [],
   "source": [
    "companies_df.to_csv('../data/companies-from-deals.csv')"
   ]
  }
 ]
}