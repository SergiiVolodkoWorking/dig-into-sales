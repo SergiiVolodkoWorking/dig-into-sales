{
 "cells": [
  {
   "cell_type": "markdown",
   "metadata": {},
   "source": [
    "Agriculture +\n",
    "\n",
    "Professional Services +\n",
    "\n",
    "Design & Engineering +\n",
    "\n",
    "Ecommerce +\n",
    "\n",
    "Education +\n",
    "\n",
    "Energy +\n",
    "\n",
    "Entertainment +\n",
    "\n",
    "Financial Services +\n",
    "\n",
    "Healthcare +\n",
    "\n",
    "Industrial +\n",
    "\n",
    "Insurance +\n",
    "\n",
    "Legal +\n",
    "\n",
    "Manufacturing +\n",
    "\n",
    "Media +\n",
    "\n",
    "Non Profit +\n",
    "\n",
    "Retail +\n",
    "\n",
    "Technology +\n",
    "\n",
    "Travel and Hospitality +\n",
    "\n",
    "Real Estate +"
   ]
  },
  {
   "cell_type": "markdown",
   "metadata": {},
   "source": [
    "# Load data"
   ]
  },
  {
   "cell_type": "markdown",
   "metadata": {},
   "source": [
    "## 1. Load all scrapped companies"
   ]
  },
  {
   "cell_type": "code",
   "execution_count": 1,
   "metadata": {},
   "outputs": [
    {
     "output_type": "execute_result",
     "data": {
      "text/plain": "Associated Company ID    612\nAssociated Company       612\nIndustry                 291\nDeal Name                612\nDeal Stage               612\nLinkedIn description     600\nLinkedIn size            584\nLinkedIn specialties     427\nLinkedIn established     495\nLinkedIn id              612\nLinkedIn url             612\nLinkedIn Industry        596\ndtype: int64"
     },
     "metadata": {},
     "execution_count": 1
    }
   ],
   "source": [
    "import pandas as pd\n",
    "import numpy as np\n",
    "\n",
    "scrapped_companies = pd.read_csv('../data/companies-with-linkedin-data.csv', index_col=0)\n",
    "scrapped_companies.count()"
   ]
  },
  {
   "cell_type": "markdown",
   "metadata": {},
   "source": [
    "### Load unrecognized companies but with Industries"
   ]
  },
  {
   "cell_type": "code",
   "execution_count": 2,
   "metadata": {},
   "outputs": [
    {
     "output_type": "execute_result",
     "data": {
      "text/plain": "Associated Company ID    62\nAssociated Company       62\nIndustry                 62\nDeal Name                62\nDeal Stage               62\ndtype: int64"
     },
     "metadata": {},
     "execution_count": 2
    }
   ],
   "source": [
    "unrecognized_companies = pd.read_csv('../data/unrecognized-companies.csv', index_col=0)\n",
    "unrecognized_companies = unrecognized_companies[~unrecognized_companies['Industry'].isnull()]\n",
    "unrecognized_companies.count()"
   ]
  },
  {
   "cell_type": "markdown",
   "metadata": {},
   "source": [
    "## 2. Concat all companies with industries"
   ]
  },
  {
   "cell_type": "code",
   "execution_count": 3,
   "metadata": {},
   "outputs": [
    {
     "output_type": "execute_result",
     "data": {
      "text/plain": "Associated Company ID    674\nAssociated Company       674\nIndustry                 353\nDeal Name                674\nDeal Stage               674\nLinkedIn description     600\nLinkedIn size            584\nLinkedIn specialties     427\nLinkedIn established     495\nLinkedIn id              612\nLinkedIn url             612\nLinkedIn Industry        596\ndtype: int64"
     },
     "metadata": {},
     "execution_count": 3
    }
   ],
   "source": [
    "companies = pd.concat([scrapped_companies, unrecognized_companies], sort=False)\n",
    "companies.count()"
   ]
  },
  {
   "cell_type": "markdown",
   "metadata": {},
   "source": [
    "# Clean data"
   ]
  },
  {
   "cell_type": "code",
   "execution_count": 4,
   "metadata": {},
   "outputs": [
    {
     "output_type": "execute_result",
     "data": {
      "text/plain": "E-commerce                                    66\nFinancial                                     43\nHealthCare                                    41\nGovernment                                    17\nInsurance                                     15\nTravel                                        13\nNonProfit                                     10\nAutomotive                                     5\nSports                                         5\nTechnology                                     4\nGaming                                         3\nAgriculture                                    2\nFinancial E-commerce Government HealthCare     1\nPublishing                                     1\nFoodProduction                                 1\nE-commerce Gaming                              1\nFinancial Insurance                            1\nNonProfit Technology                           1\nNonProfit HealthCare                           1\nFinancial E-commerce                           1\nEntertainment                                  1\nDesign Insurance                               1\nLegal                                          1\nName: Industry, dtype: int64"
     },
     "metadata": {},
     "execution_count": 4
    }
   ],
   "source": [
    "df = companies.copy()\n",
    "\n",
    "df['Industry'] = df['Industry'].str.replace(';', ' ')\n",
    "df['Industry'] = df['Industry'].str.replace('Non Profit', 'NonProfit')\n",
    "df['Industry'] = df['Industry'].str.replace('Food Production', 'FoodProduction')\n",
    "df['Industry'] = df['Industry'].str.replace('Health Care', 'HealthCare')\n",
    "\n",
    "# replace field that's entirely space (or empty) with NaN\n",
    "df['Industry'] = df['Industry'].replace(r'^\\s*$', np.nan, regex=True)\n",
    "\n",
    "industries = df['Industry']\n",
    "industries = industries.fillna('')\n",
    "industries = industries.str.split()\n",
    "industries = industries.apply(lambda x: ' '.join(set(x)))\n",
    "industries = industries.replace('   ', '').replace('  ', '')\n",
    "industries = industries.replace('', np.NaN)\n",
    "\n",
    "df['Industry'] = industries\n",
    "df['Industry'].value_counts()"
   ]
  },
  {
   "cell_type": "markdown",
   "metadata": {},
   "source": [
    "# Aggregate industry"
   ]
  },
  {
   "cell_type": "code",
   "execution_count": 5,
   "metadata": {},
   "outputs": [],
   "source": [
    "def aggregate_industry_used_by_financial_department(linkedin_industry, hubspot_industry):\n",
    "    industries = linkedin_industry + ' ' + hubspot_industry\n",
    "    \n",
    "    mappings = [\n",
    "        {\n",
    "            'words': ['Design', 'Software', 'Engineering', 'Maritime'],\n",
    "            'industry': 'Design & Engineering'\n",
    "        },\n",
    "        {\n",
    "            'words': ['Insurance'],\n",
    "            'industry': 'Insurance'\n",
    "        },\n",
    "        {\n",
    "            'words': ['Philanthropy', 'Non-profit', 'NonProfit', 'Government', 'Civic', 'Social', 'Military', 'Utilities'],\n",
    "            'industry': 'Non Profit'\n",
    "        },\n",
    "        {\n",
    "            'words': ['Travel', 'Hospitality'],\n",
    "            'industry': 'Travel and Hospitality'\n",
    "        },\n",
    "        {\n",
    "            'words': ['E-commerce', 'Internet', 'Import'],\n",
    "            'industry': 'Ecommerce'\n",
    "        },\n",
    "        {\n",
    "            'words': ['Oil', 'Energy', 'Renewable'],\n",
    "            'industry': 'Energy'\n",
    "        },\n",
    "        {\n",
    "            'words': ['Financial', 'Finance', 'Accounting', 'Capital', 'Investment', 'Banking'],\n",
    "            'industry': 'Financial Services'\n",
    "        },\n",
    "        {\n",
    "            'words': ['Technology', 'Telecommunications', 'Development', 'Information', 'Security', 'Biotechnology'],\n",
    "            'industry': 'Technology'\n",
    "        },\n",
    "        {\n",
    "            'words': ['Industrial', 'Construction', 'Building', 'Transportation'],\n",
    "            'industry': 'Industrial'\n",
    "        },\n",
    "        {\n",
    "            'words': ['Automotive', 'Machinery', 'Manufacturing', 'Aerospace', 'Equipment', 'Electronics'],\n",
    "            'industry': 'Manufacturing'\n",
    "        },\n",
    "        {\n",
    "            'words': ['Education', 'E-learning', 'Research', 'Training', 'Think', 'Coaching'],\n",
    "            'industry': 'Education'\n",
    "        },\n",
    "        {\n",
    "            'words': ['Entertainment', 'Museum', 'Art', 'Arts', 'Events', 'Sports', 'Sport', 'Fitness', 'Gaming', 'Game', 'Gambling'],\n",
    "            'industry': 'Entertainment'\n",
    "        },\n",
    "        {\n",
    "            'words': ['Medicine', 'Health', 'HealthCare', 'Medical'],\n",
    "            'industry': 'Healthcare'\n",
    "        },\n",
    "        {\n",
    "            'words': ['Law', 'Legal'],\n",
    "            'industry': 'Legal'\n",
    "        },\n",
    "        {\n",
    "            'words': ['Estate'],\n",
    "            'industry': 'Real Estate'\n",
    "        },\n",
    "        {\n",
    "            'words': ['Media', 'Publishing', 'Writing', 'Printing'],\n",
    "            'industry': 'Media'\n",
    "        },\n",
    "        {\n",
    "            'words': ['Human', 'Communications', 'Public', 'Management', 'Staffing', 'Logistics', 'Marketing', 'Services'],\n",
    "            'industry': 'Professional Services'\n",
    "        },\n",
    "        {\n",
    "            'words': ['Retail', 'Goods', 'Consumer', 'Furniture', 'Cosmetics', 'Fashion', 'Wine', 'Beverages', 'Restaurants'],\n",
    "            'industry': 'Retail'\n",
    "        },\n",
    "        {\n",
    "            'words': ['Agriculture', 'FoodProduction'],\n",
    "            'industry': 'Agriculture'\n",
    "        }\n",
    "    ]\n",
    "\n",
    "    for mapping in mappings:\n",
    "        if any(word in industries for word in mapping['words']):\n",
    "            return mapping['industry']\n",
    "\n",
    "    return industries"
   ]
  },
  {
   "cell_type": "code",
   "execution_count": 6,
   "metadata": {},
   "outputs": [
    {
     "output_type": "execute_result",
     "data": {
      "text/plain": "Ecommerce                 99\nFinancial Services        71\nDesign & Engineering      67\nTechnology                66\nProfessional Services     49\nNon Profit                46\nEntertainment             39\nHealthcare                36\nEducation                 27\nRetail                    25\nInsurance                 24\nMedia                     23\nTravel and Hospitality    19\nIndustrial                16\nManufacturing             16\nLegal                      7\nReal Estate                4\nEnergy                     3\nAgriculture                2\nName: Aggregated Industry, dtype: int64"
     },
     "metadata": {},
     "execution_count": 6
    }
   ],
   "source": [
    "df['LinkedIn Industry'] = df['LinkedIn Industry'].fillna('')\n",
    "df['Industry'] = df['Industry'].fillna('')\n",
    "df['Aggregated Industry'] = np.vectorize(aggregate_industry_used_by_financial_department)(df['LinkedIn Industry'], df['Industry'])\n",
    "\n",
    "df['Aggregated Industry'] = df['Aggregated Industry'].replace(' ', np.nan)\n",
    "\n",
    "df['Aggregated Industry'].value_counts().head(25)"
   ]
  },
  {
   "cell_type": "code",
   "execution_count": 7,
   "metadata": {},
   "outputs": [
    {
     "output_type": "execute_result",
     "data": {
      "text/plain": "True"
     },
     "metadata": {},
     "execution_count": 7
    }
   ],
   "source": [
    "df['Aggregated Industry'].value_counts().count() == 19"
   ]
  },
  {
   "cell_type": "markdown",
   "metadata": {},
   "source": [
    "### Questions: \n",
    " - Are Family Services, Government, Military -> Professional Services or NonProfit?\n",
    " - Restaurants -> Retail or Entertainment ?\n",
    " - Logistics, Transportation -> Professional Services or Retail or Manufactoring or Industrial?\n",
    " - Marketing & Advertisment -> Professional Services or Media ?\n",
    " - Construction, Building -> Real Estate or Industrial or Manufactoring?"
   ]
  },
  {
   "cell_type": "code",
   "execution_count": 32,
   "metadata": {},
   "outputs": [
    {
     "output_type": "execute_result",
     "data": {
      "text/plain": "    Associated Company  \\\n527    G-SMATT America   \n580     Travis Perkins   \n\n                                               LinkedIn url  \\\n527  https://www.linkedin.com/company/g-smattamerica/about/   \n580  https://www.linkedin.com/company/travis-perkins/about/   \n\n      LinkedIn Industry Aggregated Industry  \n527  Building Materials          Industrial  \n580  Building Materials          Industrial  ",
      "text/html": "<div>\n<style scoped>\n    .dataframe tbody tr th:only-of-type {\n        vertical-align: middle;\n    }\n\n    .dataframe tbody tr th {\n        vertical-align: top;\n    }\n\n    .dataframe thead th {\n        text-align: right;\n    }\n</style>\n<table border=\"1\" class=\"dataframe\">\n  <thead>\n    <tr style=\"text-align: right;\">\n      <th></th>\n      <th>Associated Company</th>\n      <th>LinkedIn url</th>\n      <th>LinkedIn Industry</th>\n      <th>Aggregated Industry</th>\n    </tr>\n  </thead>\n  <tbody>\n    <tr>\n      <td>527</td>\n      <td>G-SMATT America</td>\n      <td>https://www.linkedin.com/company/g-smattamerica/about/</td>\n      <td>Building Materials</td>\n      <td>Industrial</td>\n    </tr>\n    <tr>\n      <td>580</td>\n      <td>Travis Perkins</td>\n      <td>https://www.linkedin.com/company/travis-perkins/about/</td>\n      <td>Building Materials</td>\n      <td>Industrial</td>\n    </tr>\n  </tbody>\n</table>\n</div>"
     },
     "metadata": {},
     "execution_count": 32
    }
   ],
   "source": [
    "industry_substring = 'Building'\n",
    "\n",
    "df['LinkedIn Industry'] = df['LinkedIn Industry'].fillna('')\n",
    "\n",
    "matching_companies = df[df['LinkedIn Industry'].str.contains(industry_substring)]\n",
    "matching_companies[['Associated Company', 'LinkedIn url', 'LinkedIn Industry', 'Aggregated Industry']].head(25)"
   ]
  },
  {
   "cell_type": "markdown",
   "metadata": {},
   "source": [
    "# Save results"
   ]
  },
  {
   "cell_type": "markdown",
   "metadata": {},
   "source": [
    "## Add hubspot url for Joe"
   ]
  },
  {
   "cell_type": "code",
   "execution_count": 9,
   "metadata": {},
   "outputs": [
    {
     "output_type": "execute_result",
     "data": {
      "text/plain": "172    https://app.hubspot.com/contacts/4012159/company/726951995\n173    https://app.hubspot.com/contacts/4012159/company/726951996\n174    https://app.hubspot.com/contacts/4012159/company/726951998\n175    https://app.hubspot.com/contacts/4012159/company/726952001\n176    https://app.hubspot.com/contacts/4012159/company/726952002\n177    https://app.hubspot.com/contacts/4012159/company/726952042\n178    https://app.hubspot.com/contacts/4012159/company/726952210\n179    https://app.hubspot.com/contacts/4012159/company/726952005\n180    https://app.hubspot.com/contacts/4012159/company/726952006\n183    https://app.hubspot.com/contacts/4012159/company/726952014\nName: Hubspot url, dtype: object"
     },
     "metadata": {},
     "execution_count": 9
    }
   ],
   "source": [
    "pd.set_option('display.max_colwidth', 80)\n",
    "\n",
    "df['Hubspot url']='https://app.hubspot.com/contacts/4012159/company/'+df['Associated Company ID'].str.replace(r'[0-9]+, ', '')\n",
    "df['Hubspot url'].head(135).tail(10)"
   ]
  },
  {
   "cell_type": "code",
   "execution_count": 10,
   "metadata": {},
   "outputs": [
    {
     "output_type": "execute_result",
     "data": {
      "text/plain": "    Associated Company ID                                Associated Company  \\\n0              1005828045                               Big Radical Limited   \n1              1006470667                                      psygro.co.za   \n2              1006849789                         Care Coordination Systems   \n3              1011074056                                  KOS Services LLC   \n5              1015911460                                       Jellyvision   \n..                    ...                                               ...   \n612             727320926                                        GrowLogics   \n637             727321131                                   Engine Insights   \n656             727321193                               Associated Software   \n716             734925936                         Rwanda Ministry of Health   \n765             846384110  Wisconsin Potato & Vegetable Growers Association   \n\n                                                     Hubspot url  \\\n0    https://app.hubspot.com/contacts/4012159/company/1005828045   \n1    https://app.hubspot.com/contacts/4012159/company/1006470667   \n2    https://app.hubspot.com/contacts/4012159/company/1006849789   \n3    https://app.hubspot.com/contacts/4012159/company/1011074056   \n5    https://app.hubspot.com/contacts/4012159/company/1015911460   \n..                                                           ...   \n612   https://app.hubspot.com/contacts/4012159/company/727320926   \n637   https://app.hubspot.com/contacts/4012159/company/727321131   \n656   https://app.hubspot.com/contacts/4012159/company/727321193   \n716   https://app.hubspot.com/contacts/4012159/company/734925936   \n765   https://app.hubspot.com/contacts/4012159/company/846384110   \n\n                                                 LinkedIn url LinkedIn size  \\\n0         https://www.linkedin.com/company/big-radical/about/         11-50   \n1              https://www.linkedin.com/company/psygro/about/        51-200   \n2         https://www.linkedin.com/company/beach-group/about/          2-10   \n3    https://www.linkedin.com/company/kos-services-llc/about/       201-500   \n5         https://www.linkedin.com/company/jellyvision/about/       201-500   \n..                                                        ...           ...   \n612                                                       NaN           NaN   \n637                                                       NaN           NaN   \n656                                                       NaN           NaN   \n716                                                       NaN           NaN   \n765                                                       NaN           NaN   \n\n                                                                LinkedIn specialties  \\\n0     Innovation, Consultancy, design sprints, technology, mobile products, strategy   \n1                                                                                NaN   \n2    Community Health, Pathways, HUB, Pathways Connect Software, Care Transitions...   \n3                                                                                NaN   \n5    Benefits Communication, Interactive Conversation, SaaS, Retirement Education...   \n..                                                                               ...   \n612                                                                              NaN   \n637                                                                              NaN   \n656                                                                              NaN   \n716                                                                              NaN   \n765                                                                              NaN   \n\n                     LinkedIn Industry     Industry Aggregated Industry  \\\n0                Management Consulting    NonProfit          Non Profit   \n1                   Mental Health Care                       Healthcare   \n2               Hospital & Health Care   HealthCare          Healthcare   \n3                     Medical Practice                       Healthcare   \n5    Information Technology & Services                       Technology   \n..                                 ...          ...                 ...   \n612                                      E-commerce           Ecommerce   \n637                                      E-commerce           Ecommerce   \n656                                       Financial  Financial Services   \n716                                      Government          Non Profit   \n765                                     Agriculture         Agriculture   \n\n    Deal Stage  \n0            0  \n1            0  \n2            0  \n3            0  \n5            0  \n..         ...  \n612          0  \n637          0  \n656          0  \n716          0  \n765          1  \n\n[639 rows x 10 columns]",
      "text/html": "<div>\n<style scoped>\n    .dataframe tbody tr th:only-of-type {\n        vertical-align: middle;\n    }\n\n    .dataframe tbody tr th {\n        vertical-align: top;\n    }\n\n    .dataframe thead th {\n        text-align: right;\n    }\n</style>\n<table border=\"1\" class=\"dataframe\">\n  <thead>\n    <tr style=\"text-align: right;\">\n      <th></th>\n      <th>Associated Company ID</th>\n      <th>Associated Company</th>\n      <th>Hubspot url</th>\n      <th>LinkedIn url</th>\n      <th>LinkedIn size</th>\n      <th>LinkedIn specialties</th>\n      <th>LinkedIn Industry</th>\n      <th>Industry</th>\n      <th>Aggregated Industry</th>\n      <th>Deal Stage</th>\n    </tr>\n  </thead>\n  <tbody>\n    <tr>\n      <td>0</td>\n      <td>1005828045</td>\n      <td>Big Radical Limited</td>\n      <td>https://app.hubspot.com/contacts/4012159/company/1005828045</td>\n      <td>https://www.linkedin.com/company/big-radical/about/</td>\n      <td>11-50</td>\n      <td>Innovation, Consultancy, design sprints, technology, mobile products, strategy</td>\n      <td>Management Consulting</td>\n      <td>NonProfit</td>\n      <td>Non Profit</td>\n      <td>0</td>\n    </tr>\n    <tr>\n      <td>1</td>\n      <td>1006470667</td>\n      <td>psygro.co.za</td>\n      <td>https://app.hubspot.com/contacts/4012159/company/1006470667</td>\n      <td>https://www.linkedin.com/company/psygro/about/</td>\n      <td>51-200</td>\n      <td>NaN</td>\n      <td>Mental Health Care</td>\n      <td></td>\n      <td>Healthcare</td>\n      <td>0</td>\n    </tr>\n    <tr>\n      <td>2</td>\n      <td>1006849789</td>\n      <td>Care Coordination Systems</td>\n      <td>https://app.hubspot.com/contacts/4012159/company/1006849789</td>\n      <td>https://www.linkedin.com/company/beach-group/about/</td>\n      <td>2-10</td>\n      <td>Community Health, Pathways, HUB, Pathways Connect Software, Care Transitions...</td>\n      <td>Hospital &amp; Health Care</td>\n      <td>HealthCare</td>\n      <td>Healthcare</td>\n      <td>0</td>\n    </tr>\n    <tr>\n      <td>3</td>\n      <td>1011074056</td>\n      <td>KOS Services LLC</td>\n      <td>https://app.hubspot.com/contacts/4012159/company/1011074056</td>\n      <td>https://www.linkedin.com/company/kos-services-llc/about/</td>\n      <td>201-500</td>\n      <td>NaN</td>\n      <td>Medical Practice</td>\n      <td></td>\n      <td>Healthcare</td>\n      <td>0</td>\n    </tr>\n    <tr>\n      <td>5</td>\n      <td>1015911460</td>\n      <td>Jellyvision</td>\n      <td>https://app.hubspot.com/contacts/4012159/company/1015911460</td>\n      <td>https://www.linkedin.com/company/jellyvision/about/</td>\n      <td>201-500</td>\n      <td>Benefits Communication, Interactive Conversation, SaaS, Retirement Education...</td>\n      <td>Information Technology &amp; Services</td>\n      <td></td>\n      <td>Technology</td>\n      <td>0</td>\n    </tr>\n    <tr>\n      <td>...</td>\n      <td>...</td>\n      <td>...</td>\n      <td>...</td>\n      <td>...</td>\n      <td>...</td>\n      <td>...</td>\n      <td>...</td>\n      <td>...</td>\n      <td>...</td>\n      <td>...</td>\n    </tr>\n    <tr>\n      <td>612</td>\n      <td>727320926</td>\n      <td>GrowLogics</td>\n      <td>https://app.hubspot.com/contacts/4012159/company/727320926</td>\n      <td>NaN</td>\n      <td>NaN</td>\n      <td>NaN</td>\n      <td></td>\n      <td>E-commerce</td>\n      <td>Ecommerce</td>\n      <td>0</td>\n    </tr>\n    <tr>\n      <td>637</td>\n      <td>727321131</td>\n      <td>Engine Insights</td>\n      <td>https://app.hubspot.com/contacts/4012159/company/727321131</td>\n      <td>NaN</td>\n      <td>NaN</td>\n      <td>NaN</td>\n      <td></td>\n      <td>E-commerce</td>\n      <td>Ecommerce</td>\n      <td>0</td>\n    </tr>\n    <tr>\n      <td>656</td>\n      <td>727321193</td>\n      <td>Associated Software</td>\n      <td>https://app.hubspot.com/contacts/4012159/company/727321193</td>\n      <td>NaN</td>\n      <td>NaN</td>\n      <td>NaN</td>\n      <td></td>\n      <td>Financial</td>\n      <td>Financial Services</td>\n      <td>0</td>\n    </tr>\n    <tr>\n      <td>716</td>\n      <td>734925936</td>\n      <td>Rwanda Ministry of Health</td>\n      <td>https://app.hubspot.com/contacts/4012159/company/734925936</td>\n      <td>NaN</td>\n      <td>NaN</td>\n      <td>NaN</td>\n      <td></td>\n      <td>Government</td>\n      <td>Non Profit</td>\n      <td>0</td>\n    </tr>\n    <tr>\n      <td>765</td>\n      <td>846384110</td>\n      <td>Wisconsin Potato &amp; Vegetable Growers Association</td>\n      <td>https://app.hubspot.com/contacts/4012159/company/846384110</td>\n      <td>NaN</td>\n      <td>NaN</td>\n      <td>NaN</td>\n      <td></td>\n      <td>Agriculture</td>\n      <td>Agriculture</td>\n      <td>1</td>\n    </tr>\n  </tbody>\n</table>\n<p>639 rows × 10 columns</p>\n</div>"
     },
     "metadata": {},
     "execution_count": 10
    }
   ],
   "source": [
    "df_to_save = df[~df['Aggregated Industry'].isnull()].reindex()\n",
    "\n",
    "df_to_save = df_to_save[['Associated Company ID', 'Associated Company', 'Hubspot url', 'LinkedIn url', 'LinkedIn size', 'LinkedIn specialties' , 'LinkedIn Industry' , 'Industry', 'Aggregated Industry', 'Deal Stage']]\n",
    "\n",
    "df_to_save.to_csv('../data/companies-with-linkedin-data-and-aggregated-findep-industry.csv', index=True)\n",
    "\n",
    "df_to_save"
   ]
  },
  {
   "cell_type": "markdown",
   "metadata": {},
   "source": [
    "## Save comparison data"
   ]
  },
  {
   "cell_type": "code",
   "execution_count": 11,
   "metadata": {},
   "outputs": [
    {
     "output_type": "stream",
     "name": "stdout",
     "text": "<class 'pandas.core.frame.DataFrame'>\nInt64Index: 407 entries, 0 to 406\nData columns (total 26 columns):\nDeal ID                   407 non-null int64\nDeal Name_x               407 non-null object\nDeal owner                402 non-null object\nDeal Stage_x              407 non-null object\nSales Lead                332 non-null object\nDesignated Office         379 non-null object\nDirector                  362 non-null object\nIndustry_x                168 non-null object\nSource                    200 non-null object\nAssociated Company ID     407 non-null object\nAssociated Company_x      407 non-null object\nAssociated Contact IDs    226 non-null object\nAssociated Contacts       225 non-null object\nAssociated Company_y      407 non-null object\nIndustry_y                407 non-null object\nDeal Name_y               407 non-null object\nDeal Stage_y              407 non-null object\nLinkedIn description      342 non-null object\nLinkedIn size             333 non-null object\nLinkedIn specialties      243 non-null object\nLinkedIn established      292 non-null float64\nLinkedIn id               342 non-null object\nLinkedIn url              342 non-null object\nLinkedIn Industry         407 non-null object\nAggregated Industry       390 non-null object\nHubspot url               407 non-null object\ndtypes: float64(1), int64(1), object(24)\nmemory usage: 85.9+ KB\n"
    }
   ],
   "source": [
    "companies = df\n",
    "\n",
    "completed_deals = pd.read_csv('../data/completed-or-current-deails-2019-10-29.csv')\n",
    "lost_deals = pd.read_csv('../data/lost-deals-2019-10-28-1.csv')\n",
    "\n",
    "completed_deals['Deal Stage'] = '1'\n",
    "lost_deals['Deal Stage'] = '0'\n",
    "\n",
    "completed_with_found_companies = pd.merge(completed_deals, companies, on='Associated Company ID')\n",
    "completed_with_found_companies.info()"
   ]
  },
  {
   "cell_type": "code",
   "execution_count": 12,
   "metadata": {},
   "outputs": [
    {
     "output_type": "stream",
     "name": "stdout",
     "text": "<class 'pandas.core.frame.DataFrame'>\nInt64Index: 833 entries, 0 to 832\nData columns (total 27 columns):\nDeal ID                   833 non-null int64\nDeal Name_x               833 non-null object\nDeal owner                789 non-null object\nDeal Stage_x              833 non-null object\nDirector                  528 non-null object\nSales Lead                574 non-null object\nDesignated Office         576 non-null object\nIndustry_x                193 non-null object\nSource                    200 non-null object\nBusiness Lines            718 non-null object\nAssociated Company ID     833 non-null object\nAssociated Company_x      833 non-null object\nAssociated Contact IDs    393 non-null object\nAssociated Contacts       392 non-null object\nAssociated Company_y      833 non-null object\nIndustry_y                833 non-null object\nDeal Name_y               833 non-null object\nDeal Stage_y              833 non-null object\nLinkedIn description      712 non-null object\nLinkedIn size             695 non-null object\nLinkedIn specialties      507 non-null object\nLinkedIn established      593 non-null float64\nLinkedIn id               728 non-null object\nLinkedIn url              728 non-null object\nLinkedIn Industry         833 non-null object\nAggregated Industry       772 non-null object\nHubspot url               833 non-null object\ndtypes: float64(1), int64(1), object(25)\nmemory usage: 182.2+ KB\n"
    }
   ],
   "source": [
    "lost_with_found_companies = pd.merge(lost_deals, companies, on='Associated Company ID')\n",
    "lost_with_found_companies.info()"
   ]
  },
  {
   "cell_type": "code",
   "execution_count": 13,
   "metadata": {},
   "outputs": [
    {
     "output_type": "execute_result",
     "data": {
      "text/plain": "       Aggregated Industry  Closed deals  Lost deals\n0                    Legal             4           9\n1                    Media             9          25\n2                   Energy             6           1\n3                   Retail             3          34\n4                Insurance            38          29\n5                Ecommerce            62         136\n6                Education            12          33\n7               Healthcare            15          30\n8               Industrial             5          24\n9               Technology            17          75\n10              Non Profit            47          55\n11           Entertainment            29          56\n12           Manufacturing             2          19\n13      Financial Services            62          88\n14    Design & Engineering            49          75\n15   Professional Services             5          55\n16  Travel and Hospitality            23          24",
      "text/html": "<div>\n<style scoped>\n    .dataframe tbody tr th:only-of-type {\n        vertical-align: middle;\n    }\n\n    .dataframe tbody tr th {\n        vertical-align: top;\n    }\n\n    .dataframe thead th {\n        text-align: right;\n    }\n</style>\n<table border=\"1\" class=\"dataframe\">\n  <thead>\n    <tr style=\"text-align: right;\">\n      <th></th>\n      <th>Aggregated Industry</th>\n      <th>Closed deals</th>\n      <th>Lost deals</th>\n    </tr>\n  </thead>\n  <tbody>\n    <tr>\n      <td>0</td>\n      <td>Legal</td>\n      <td>4</td>\n      <td>9</td>\n    </tr>\n    <tr>\n      <td>1</td>\n      <td>Media</td>\n      <td>9</td>\n      <td>25</td>\n    </tr>\n    <tr>\n      <td>2</td>\n      <td>Energy</td>\n      <td>6</td>\n      <td>1</td>\n    </tr>\n    <tr>\n      <td>3</td>\n      <td>Retail</td>\n      <td>3</td>\n      <td>34</td>\n    </tr>\n    <tr>\n      <td>4</td>\n      <td>Insurance</td>\n      <td>38</td>\n      <td>29</td>\n    </tr>\n    <tr>\n      <td>5</td>\n      <td>Ecommerce</td>\n      <td>62</td>\n      <td>136</td>\n    </tr>\n    <tr>\n      <td>6</td>\n      <td>Education</td>\n      <td>12</td>\n      <td>33</td>\n    </tr>\n    <tr>\n      <td>7</td>\n      <td>Healthcare</td>\n      <td>15</td>\n      <td>30</td>\n    </tr>\n    <tr>\n      <td>8</td>\n      <td>Industrial</td>\n      <td>5</td>\n      <td>24</td>\n    </tr>\n    <tr>\n      <td>9</td>\n      <td>Technology</td>\n      <td>17</td>\n      <td>75</td>\n    </tr>\n    <tr>\n      <td>10</td>\n      <td>Non Profit</td>\n      <td>47</td>\n      <td>55</td>\n    </tr>\n    <tr>\n      <td>11</td>\n      <td>Entertainment</td>\n      <td>29</td>\n      <td>56</td>\n    </tr>\n    <tr>\n      <td>12</td>\n      <td>Manufacturing</td>\n      <td>2</td>\n      <td>19</td>\n    </tr>\n    <tr>\n      <td>13</td>\n      <td>Financial Services</td>\n      <td>62</td>\n      <td>88</td>\n    </tr>\n    <tr>\n      <td>14</td>\n      <td>Design &amp; Engineering</td>\n      <td>49</td>\n      <td>75</td>\n    </tr>\n    <tr>\n      <td>15</td>\n      <td>Professional Services</td>\n      <td>5</td>\n      <td>55</td>\n    </tr>\n    <tr>\n      <td>16</td>\n      <td>Travel and Hospitality</td>\n      <td>23</td>\n      <td>24</td>\n    </tr>\n  </tbody>\n</table>\n</div>"
     },
     "metadata": {},
     "execution_count": 13
    }
   ],
   "source": [
    "column_name = 'Aggregated Industry'\n",
    "def prepare_column_comparison(completed_deals, lost_deals, column_name):\n",
    "    completed_by_column_count = completed_deals.groupby(column_name).size().sort_index().reset_index()\n",
    "    completed_by_column_count.columns = [column_name, 'Closed deals']\n",
    "\n",
    "    lost_by_column_count = lost_deals.groupby(column_name).size().sort_index().reset_index()\n",
    "    lost_by_column_count.columns = [column_name, 'Lost deals']\n",
    "\n",
    "    comparison = pd.merge(completed_by_column_count, lost_by_column_count, on=column_name)\n",
    "\n",
    "    comparison.index = comparison[column_name].str.len()\n",
    "    comparison = comparison.sort_index().reset_index(drop=True)\n",
    "    return comparison\n",
    "\n",
    "industry_comparison = prepare_column_comparison(completed_with_found_companies, lost_with_found_companies, column_name)\n",
    "industry_comparison.head(20)"
   ]
  },
  {
   "cell_type": "code",
   "execution_count": 14,
   "metadata": {},
   "outputs": [
    {
     "output_type": "execute_result",
     "data": {
      "text/plain": "639"
     },
     "metadata": {},
     "execution_count": 14
    }
   ],
   "source": [
    "number_of_companies_with_industries = companies[column_name].count()\n",
    "number_of_companies_with_industries"
   ]
  },
  {
   "cell_type": "code",
   "execution_count": 15,
   "metadata": {},
   "outputs": [],
   "source": [
    "industry_comparison.to_csv('../data/tmp-industry-findep-comparison.csv', index=True)"
   ]
  },
  {
   "cell_type": "markdown",
   "metadata": {},
   "source": [
    "# Add director to companies"
   ]
  },
  {
   "cell_type": "code",
   "execution_count": 16,
   "metadata": {},
   "outputs": [
    {
     "output_type": "execute_result",
     "data": {
      "text/plain": "      Deal ID                                               Deal Name  \\\n0  1126055965                       American Family Insurance - Shark   \n1   362032710                                                     SSE   \n2   941965426                                   Confluency - X Factor   \n3   905986805  Reverb - Holistic On-boarding/Training/Mentor Coaching   \n4   876852247                     Maintenance and Consulting Services   \n\n       Deal owner  Deal Stage      Sales Lead Designated Office  \\\n0  Kevin Kotowski           1    Dennis Moore           Madison   \n1       Jim Suchy           1  Margaret Pagel            London   \n2     Brad Ediger           1    Dennis Moore           Chicago   \n3     Ryan Verner           1    Jenn Imamura           Chicago   \n4      Kim Carten           1    Jenn Imamura       Los Angeles   \n\n          Director    Industry                    Source  \\\n0   Kevin Kotowski   Insurance                      None   \n1        Nick Dyer  Government  Existing client referral   \n2     Dennis Moore  Government                 Cold Call   \n3      Ryan Verner  E-commerce                   Website   \n4  Malcolm Newsome         NaN                    Upsell   \n\n  Associated Company ID         Associated Company  \\\n0             846172243  American Family Insurance   \n1             727202247            Arthur D Little   \n2            2338059811                 Confluency   \n3             629633500             Reverb.com LLC   \n4             727079949                     CMD-IT   \n\n         Associated Contact IDs                   Associated Contacts  \\\n0                           NaN                                   NaN   \n1                           NaN                                   NaN   \n2                      30437651                      Mason Throneburg   \n3  37461401, 35715851, 38635601  Molly Rudberg, Kyle Crum, Jason Wain   \n4                           NaN                                   NaN   \n\n  Business Lines  \n0            NaN  \n1            NaN  \n2            NaN  \n3            NaN  \n4            NaN  ",
      "text/html": "<div>\n<style scoped>\n    .dataframe tbody tr th:only-of-type {\n        vertical-align: middle;\n    }\n\n    .dataframe tbody tr th {\n        vertical-align: top;\n    }\n\n    .dataframe thead th {\n        text-align: right;\n    }\n</style>\n<table border=\"1\" class=\"dataframe\">\n  <thead>\n    <tr style=\"text-align: right;\">\n      <th></th>\n      <th>Deal ID</th>\n      <th>Deal Name</th>\n      <th>Deal owner</th>\n      <th>Deal Stage</th>\n      <th>Sales Lead</th>\n      <th>Designated Office</th>\n      <th>Director</th>\n      <th>Industry</th>\n      <th>Source</th>\n      <th>Associated Company ID</th>\n      <th>Associated Company</th>\n      <th>Associated Contact IDs</th>\n      <th>Associated Contacts</th>\n      <th>Business Lines</th>\n    </tr>\n  </thead>\n  <tbody>\n    <tr>\n      <td>0</td>\n      <td>1126055965</td>\n      <td>American Family Insurance - Shark</td>\n      <td>Kevin Kotowski</td>\n      <td>1</td>\n      <td>Dennis Moore</td>\n      <td>Madison</td>\n      <td>Kevin Kotowski</td>\n      <td>Insurance</td>\n      <td>None</td>\n      <td>846172243</td>\n      <td>American Family Insurance</td>\n      <td>NaN</td>\n      <td>NaN</td>\n      <td>NaN</td>\n    </tr>\n    <tr>\n      <td>1</td>\n      <td>362032710</td>\n      <td>SSE</td>\n      <td>Jim Suchy</td>\n      <td>1</td>\n      <td>Margaret Pagel</td>\n      <td>London</td>\n      <td>Nick Dyer</td>\n      <td>Government</td>\n      <td>Existing client referral</td>\n      <td>727202247</td>\n      <td>Arthur D Little</td>\n      <td>NaN</td>\n      <td>NaN</td>\n      <td>NaN</td>\n    </tr>\n    <tr>\n      <td>2</td>\n      <td>941965426</td>\n      <td>Confluency - X Factor</td>\n      <td>Brad Ediger</td>\n      <td>1</td>\n      <td>Dennis Moore</td>\n      <td>Chicago</td>\n      <td>Dennis Moore</td>\n      <td>Government</td>\n      <td>Cold Call</td>\n      <td>2338059811</td>\n      <td>Confluency</td>\n      <td>30437651</td>\n      <td>Mason Throneburg</td>\n      <td>NaN</td>\n    </tr>\n    <tr>\n      <td>3</td>\n      <td>905986805</td>\n      <td>Reverb - Holistic On-boarding/Training/Mentor Coaching</td>\n      <td>Ryan Verner</td>\n      <td>1</td>\n      <td>Jenn Imamura</td>\n      <td>Chicago</td>\n      <td>Ryan Verner</td>\n      <td>E-commerce</td>\n      <td>Website</td>\n      <td>629633500</td>\n      <td>Reverb.com LLC</td>\n      <td>37461401, 35715851, 38635601</td>\n      <td>Molly Rudberg, Kyle Crum, Jason Wain</td>\n      <td>NaN</td>\n    </tr>\n    <tr>\n      <td>4</td>\n      <td>876852247</td>\n      <td>Maintenance and Consulting Services</td>\n      <td>Kim Carten</td>\n      <td>1</td>\n      <td>Jenn Imamura</td>\n      <td>Los Angeles</td>\n      <td>Malcolm Newsome</td>\n      <td>NaN</td>\n      <td>Upsell</td>\n      <td>727079949</td>\n      <td>CMD-IT</td>\n      <td>NaN</td>\n      <td>NaN</td>\n      <td>NaN</td>\n    </tr>\n  </tbody>\n</table>\n</div>"
     },
     "metadata": {},
     "execution_count": 16
    }
   ],
   "source": [
    "all_deals = pd.read_csv('../data/all-deals.csv', index_col=0)\n",
    "all_deals.head()"
   ]
  },
  {
   "cell_type": "code",
   "execution_count": 17,
   "metadata": {},
   "outputs": [
    {
     "output_type": "execute_result",
     "data": {
      "text/plain": "                                                                     242\nJim Suchy                                                            130\nDoug Bradbury                                                         93\nDave Moore                                                            58\nKevin Kotowski                                                        51\nMalcolm Newsome                                                       41\nGustin Prudner (Deactivated User)                                     28\nConnor Mendenhall                                                     25\nJim Remsik (Deactivated User)                                         12\nRyan Verner                                                           10\nRay Hightower (Deactivated User)                                       9\nBrad Ediger                                                            9\nMalcolm Newsome, Doug Bradbury                                         8\nheather corallo                                                        5\nKevin Kotowski, Malcolm Newsome                                        5\nGustin Prudner (Deactivated User), Doug Bradbury                       4\nDave Moore, Doug Bradbury                                              3\nKevin Kotowski, Doug Bradbury                                          3\nBrian Pratt                                                            3\nLi-Hsuan Lung (Deactivated User)                                       3\nRay Hightower (Deactivated User), Dave Moore                           3\nNick Dyer                                                              2\nJim Suchy, Malcolm Newsome                                             2\nColin Jones                                                            2\nGustin Prudner (Deactivated User), Connor Mendenhall                   2\nMalcolm Newsome, Dave Moore                                            2\nKevin Kotowski, Jim Remsik (Deactivated User)                          2\nMalcolm Newsome, Dave Moore, Doug Bradbury                             2\nRay Hightower (Deactivated User), Malcolm Newsome                      2\nJim Suchy, Doug Bradbury                                               2\nKevin Kotowski, Dave Moore                                             2\nMalcolm Newsome, Connor Mendenhall                                     1\nPaul Pagel                                                             1\nLi-Hsuan Lung (Deactivated User), Connor Mendenhall                    1\nConnor Mendenhall, Doug Bradbury                                       1\nKevin Kotowski, Ryan Verner, Doug Bradbury                             1\nRay Hightower (Deactivated User), Jim Suchy                            1\nGustin Prudner (Deactivated User), Malcolm Newsome, Doug Bradbury      1\nheather corallo, Ryan Verner                                           1\nGustin Prudner (Deactivated User), Ryan Verner, Doug Bradbury          1\nGustin Prudner (Deactivated User), Ryan Verner                         1\nMalcolm Newsome, Sarah Sunday, Connor Mendenhall                       1\nJim Suchy, Ryan Verner, Doug Bradbury                                  1\nDoug Gapinski                                                          1\nJim Suchy, Dave Moore                                                  1\nName: Director, dtype: int64"
     },
     "metadata": {},
     "execution_count": 17
    }
   ],
   "source": [
    "all_deals['Director'] = all_deals['Director'].fillna('')\n",
    "\n",
    "def agg_unique_directors(row_of_joining_columns):\n",
    "    unique_values = set(row_of_joining_columns)\n",
    "    if unique_values.__len__() > 1 and unique_values.__contains__(''):\n",
    "        unique_values.remove('')\n",
    "    return ', '.join(unique_values)\n",
    "\n",
    "grouped_by_company_id = all_deals.groupby(['Associated Company ID'], as_index=False)\\\n",
    "    .agg({\n",
    "        'Associated Company': 'first',\n",
    "        'Director': lambda x: agg_unique_directors(x)\n",
    "        })\n",
    "\n",
    "grouped_by_company_id['Director'].value_counts().head(45)\n",
    "#grouped_by_company_id.head(25)"
   ]
  },
  {
   "cell_type": "code",
   "execution_count": 18,
   "metadata": {},
   "outputs": [
    {
     "output_type": "execute_result",
     "data": {
      "text/plain": "  Associated Company ID       Director\n0            1005828045      Nick Dyer\n1            1006470667               \n2            1006849789  Doug Bradbury\n3            1011074056               \n4            1013701003               ",
      "text/html": "<div>\n<style scoped>\n    .dataframe tbody tr th:only-of-type {\n        vertical-align: middle;\n    }\n\n    .dataframe tbody tr th {\n        vertical-align: top;\n    }\n\n    .dataframe thead th {\n        text-align: right;\n    }\n</style>\n<table border=\"1\" class=\"dataframe\">\n  <thead>\n    <tr style=\"text-align: right;\">\n      <th></th>\n      <th>Associated Company ID</th>\n      <th>Director</th>\n    </tr>\n  </thead>\n  <tbody>\n    <tr>\n      <td>0</td>\n      <td>1005828045</td>\n      <td>Nick Dyer</td>\n    </tr>\n    <tr>\n      <td>1</td>\n      <td>1006470667</td>\n      <td></td>\n    </tr>\n    <tr>\n      <td>2</td>\n      <td>1006849789</td>\n      <td>Doug Bradbury</td>\n    </tr>\n    <tr>\n      <td>3</td>\n      <td>1011074056</td>\n      <td></td>\n    </tr>\n    <tr>\n      <td>4</td>\n      <td>1013701003</td>\n      <td></td>\n    </tr>\n  </tbody>\n</table>\n</div>"
     },
     "metadata": {},
     "execution_count": 18
    }
   ],
   "source": [
    "deals_directors = grouped_by_company_id[['Associated Company ID', 'Director']]\n",
    "\n",
    "deals_directors.head()"
   ]
  },
  {
   "cell_type": "code",
   "execution_count": 19,
   "metadata": {},
   "outputs": [
    {
     "output_type": "execute_result",
     "data": {
      "text/plain": "  Associated Company ID       Director         Associated Company    Industry  \\\n0            1005828045      Nick Dyer        Big Radical Limited   NonProfit   \n1            1006470667                              psygro.co.za               \n2            1006849789  Doug Bradbury  Care Coordination Systems  HealthCare   \n3            1011074056                          KOS Services LLC               \n4            1015911460                               Jellyvision               \n\n                                                      Deal Name Deal Stage  \\\n0                                         Web Community Project          0   \n1                          Trudy  Tanner - 8thlight.com contact          0   \n2  CCS Pathways -- Admin Modules and Web Education Registration          0   \n3                       Erin  Steinhardt - 8thlight.com contact          0   \n4                              Mike Else - 8thlight.com contact          0   \n\n                                                              LinkedIn description  \\\n0  Big Radical is a breakthrough design and innovation agency and part of the E...   \n1  Psygro (Psychiatrische Groepspraktijk) biedt basis- en specialistische Geest...   \n2  Pathways Community HUB model Leading the Way to Building Better Community He...   \n3  KOS SERVICES, LLC is a medical practice company based out of 350 N CLARK ST,...   \n4  Jellyvision is an award-winning technology company whose interactive softwar...   \n\n  LinkedIn size  \\\n0         11-50   \n1        51-200   \n2          2-10   \n3       201-500   \n4       201-500   \n\n                                                              LinkedIn specialties  \\\n0   Innovation, Consultancy, design sprints, technology, mobile products, strategy   \n1                                                                              NaN   \n2  Community Health, Pathways, HUB, Pathways Connect Software, Care Transitions...   \n3                                                                              NaN   \n4  Benefits Communication, Interactive Conversation, SaaS, Retirement Education...   \n\n   LinkedIn established       LinkedIn id  \\\n0                2017.0       big-radical   \n1                   NaN            psygro   \n2                2013.0       beach-group   \n3                   NaN  kos-services-llc   \n4                2001.0       jellyvision   \n\n                                               LinkedIn url  \\\n0       https://www.linkedin.com/company/big-radical/about/   \n1            https://www.linkedin.com/company/psygro/about/   \n2       https://www.linkedin.com/company/beach-group/about/   \n3  https://www.linkedin.com/company/kos-services-llc/about/   \n4       https://www.linkedin.com/company/jellyvision/about/   \n\n                   LinkedIn Industry Aggregated Industry  \\\n0              Management Consulting          Non Profit   \n1                 Mental Health Care          Healthcare   \n2             Hospital & Health Care          Healthcare   \n3                   Medical Practice          Healthcare   \n4  Information Technology & Services          Technology   \n\n                                                   Hubspot url  \n0  https://app.hubspot.com/contacts/4012159/company/1005828045  \n1  https://app.hubspot.com/contacts/4012159/company/1006470667  \n2  https://app.hubspot.com/contacts/4012159/company/1006849789  \n3  https://app.hubspot.com/contacts/4012159/company/1011074056  \n4  https://app.hubspot.com/contacts/4012159/company/1015911460  ",
      "text/html": "<div>\n<style scoped>\n    .dataframe tbody tr th:only-of-type {\n        vertical-align: middle;\n    }\n\n    .dataframe tbody tr th {\n        vertical-align: top;\n    }\n\n    .dataframe thead th {\n        text-align: right;\n    }\n</style>\n<table border=\"1\" class=\"dataframe\">\n  <thead>\n    <tr style=\"text-align: right;\">\n      <th></th>\n      <th>Associated Company ID</th>\n      <th>Director</th>\n      <th>Associated Company</th>\n      <th>Industry</th>\n      <th>Deal Name</th>\n      <th>Deal Stage</th>\n      <th>LinkedIn description</th>\n      <th>LinkedIn size</th>\n      <th>LinkedIn specialties</th>\n      <th>LinkedIn established</th>\n      <th>LinkedIn id</th>\n      <th>LinkedIn url</th>\n      <th>LinkedIn Industry</th>\n      <th>Aggregated Industry</th>\n      <th>Hubspot url</th>\n    </tr>\n  </thead>\n  <tbody>\n    <tr>\n      <td>0</td>\n      <td>1005828045</td>\n      <td>Nick Dyer</td>\n      <td>Big Radical Limited</td>\n      <td>NonProfit</td>\n      <td>Web Community Project</td>\n      <td>0</td>\n      <td>Big Radical is a breakthrough design and innovation agency and part of the E...</td>\n      <td>11-50</td>\n      <td>Innovation, Consultancy, design sprints, technology, mobile products, strategy</td>\n      <td>2017.0</td>\n      <td>big-radical</td>\n      <td>https://www.linkedin.com/company/big-radical/about/</td>\n      <td>Management Consulting</td>\n      <td>Non Profit</td>\n      <td>https://app.hubspot.com/contacts/4012159/company/1005828045</td>\n    </tr>\n    <tr>\n      <td>1</td>\n      <td>1006470667</td>\n      <td></td>\n      <td>psygro.co.za</td>\n      <td></td>\n      <td>Trudy  Tanner - 8thlight.com contact</td>\n      <td>0</td>\n      <td>Psygro (Psychiatrische Groepspraktijk) biedt basis- en specialistische Geest...</td>\n      <td>51-200</td>\n      <td>NaN</td>\n      <td>NaN</td>\n      <td>psygro</td>\n      <td>https://www.linkedin.com/company/psygro/about/</td>\n      <td>Mental Health Care</td>\n      <td>Healthcare</td>\n      <td>https://app.hubspot.com/contacts/4012159/company/1006470667</td>\n    </tr>\n    <tr>\n      <td>2</td>\n      <td>1006849789</td>\n      <td>Doug Bradbury</td>\n      <td>Care Coordination Systems</td>\n      <td>HealthCare</td>\n      <td>CCS Pathways -- Admin Modules and Web Education Registration</td>\n      <td>0</td>\n      <td>Pathways Community HUB model Leading the Way to Building Better Community He...</td>\n      <td>2-10</td>\n      <td>Community Health, Pathways, HUB, Pathways Connect Software, Care Transitions...</td>\n      <td>2013.0</td>\n      <td>beach-group</td>\n      <td>https://www.linkedin.com/company/beach-group/about/</td>\n      <td>Hospital &amp; Health Care</td>\n      <td>Healthcare</td>\n      <td>https://app.hubspot.com/contacts/4012159/company/1006849789</td>\n    </tr>\n    <tr>\n      <td>3</td>\n      <td>1011074056</td>\n      <td></td>\n      <td>KOS Services LLC</td>\n      <td></td>\n      <td>Erin  Steinhardt - 8thlight.com contact</td>\n      <td>0</td>\n      <td>KOS SERVICES, LLC is a medical practice company based out of 350 N CLARK ST,...</td>\n      <td>201-500</td>\n      <td>NaN</td>\n      <td>NaN</td>\n      <td>kos-services-llc</td>\n      <td>https://www.linkedin.com/company/kos-services-llc/about/</td>\n      <td>Medical Practice</td>\n      <td>Healthcare</td>\n      <td>https://app.hubspot.com/contacts/4012159/company/1011074056</td>\n    </tr>\n    <tr>\n      <td>4</td>\n      <td>1015911460</td>\n      <td></td>\n      <td>Jellyvision</td>\n      <td></td>\n      <td>Mike Else - 8thlight.com contact</td>\n      <td>0</td>\n      <td>Jellyvision is an award-winning technology company whose interactive softwar...</td>\n      <td>201-500</td>\n      <td>Benefits Communication, Interactive Conversation, SaaS, Retirement Education...</td>\n      <td>2001.0</td>\n      <td>jellyvision</td>\n      <td>https://www.linkedin.com/company/jellyvision/about/</td>\n      <td>Information Technology &amp; Services</td>\n      <td>Technology</td>\n      <td>https://app.hubspot.com/contacts/4012159/company/1015911460</td>\n    </tr>\n  </tbody>\n</table>\n</div>"
     },
     "metadata": {},
     "execution_count": 19
    }
   ],
   "source": [
    "df = pd.merge(deals_directors, df, on='Associated Company ID')\n",
    "df.head()"
   ]
  },
  {
   "cell_type": "code",
   "execution_count": 20,
   "metadata": {},
   "outputs": [
    {
     "output_type": "execute_result",
     "data": {
      "text/plain": "    Associated Company ID   Associated Company                        Director\n391             727202258     @esparkslearning                                \n52             2216463622  42 North Dental LLC                     Brad Ediger\n575             727321320          528 Records                  Kevin Kotowski\n102             701404041                8to18  Malcolm Newsome, Doug Bradbury\n673             995352975       ACCC Insurance   Jim Remsik (Deactivated User)",
      "text/html": "<div>\n<style scoped>\n    .dataframe tbody tr th:only-of-type {\n        vertical-align: middle;\n    }\n\n    .dataframe tbody tr th {\n        vertical-align: top;\n    }\n\n    .dataframe thead th {\n        text-align: right;\n    }\n</style>\n<table border=\"1\" class=\"dataframe\">\n  <thead>\n    <tr style=\"text-align: right;\">\n      <th></th>\n      <th>Associated Company ID</th>\n      <th>Associated Company</th>\n      <th>Director</th>\n    </tr>\n  </thead>\n  <tbody>\n    <tr>\n      <td>391</td>\n      <td>727202258</td>\n      <td>@esparkslearning</td>\n      <td></td>\n    </tr>\n    <tr>\n      <td>52</td>\n      <td>2216463622</td>\n      <td>42 North Dental LLC</td>\n      <td>Brad Ediger</td>\n    </tr>\n    <tr>\n      <td>575</td>\n      <td>727321320</td>\n      <td>528 Records</td>\n      <td>Kevin Kotowski</td>\n    </tr>\n    <tr>\n      <td>102</td>\n      <td>701404041</td>\n      <td>8to18</td>\n      <td>Malcolm Newsome, Doug Bradbury</td>\n    </tr>\n    <tr>\n      <td>673</td>\n      <td>995352975</td>\n      <td>ACCC Insurance</td>\n      <td>Jim Remsik (Deactivated User)</td>\n    </tr>\n  </tbody>\n</table>\n</div>"
     },
     "metadata": {},
     "execution_count": 20
    }
   ],
   "source": [
    "company_directors = df[['Associated Company ID', 'Associated Company', 'Director']].sort_values('Associated Company')\n",
    "company_directors.head()"
   ]
  },
  {
   "cell_type": "markdown",
   "metadata": {},
   "source": [
    "### Saving only directors column"
   ]
  },
  {
   "cell_type": "code",
   "execution_count": 21,
   "metadata": {},
   "outputs": [
    {
     "output_type": "execute_result",
     "data": {
      "text/plain": "    Associated Company ID   Associated Company                        Director\n0               727202258     @esparkslearning                                \n1              2216463622  42 North Dental LLC                     Brad Ediger\n2               727321320          528 Records                  Kevin Kotowski\n3               701404041                8to18  Malcolm Newsome, Doug Bradbury\n4               995352975       ACCC Insurance   Jim Remsik (Deactivated User)\n..                    ...                  ...                             ...\n669             848746315     thoughtbot, inc.                       Jim Suchy\n670             865451460               voxgig                       Jim Suchy\n671             726952195                vrsus                 Malcolm Newsome\n672             775616077         youryolk.com                                \n673            1031366501              zono.io                                \n\n[674 rows x 3 columns]",
      "text/html": "<div>\n<style scoped>\n    .dataframe tbody tr th:only-of-type {\n        vertical-align: middle;\n    }\n\n    .dataframe tbody tr th {\n        vertical-align: top;\n    }\n\n    .dataframe thead th {\n        text-align: right;\n    }\n</style>\n<table border=\"1\" class=\"dataframe\">\n  <thead>\n    <tr style=\"text-align: right;\">\n      <th></th>\n      <th>Associated Company ID</th>\n      <th>Associated Company</th>\n      <th>Director</th>\n    </tr>\n  </thead>\n  <tbody>\n    <tr>\n      <td>0</td>\n      <td>727202258</td>\n      <td>@esparkslearning</td>\n      <td></td>\n    </tr>\n    <tr>\n      <td>1</td>\n      <td>2216463622</td>\n      <td>42 North Dental LLC</td>\n      <td>Brad Ediger</td>\n    </tr>\n    <tr>\n      <td>2</td>\n      <td>727321320</td>\n      <td>528 Records</td>\n      <td>Kevin Kotowski</td>\n    </tr>\n    <tr>\n      <td>3</td>\n      <td>701404041</td>\n      <td>8to18</td>\n      <td>Malcolm Newsome, Doug Bradbury</td>\n    </tr>\n    <tr>\n      <td>4</td>\n      <td>995352975</td>\n      <td>ACCC Insurance</td>\n      <td>Jim Remsik (Deactivated User)</td>\n    </tr>\n    <tr>\n      <td>...</td>\n      <td>...</td>\n      <td>...</td>\n      <td>...</td>\n    </tr>\n    <tr>\n      <td>669</td>\n      <td>848746315</td>\n      <td>thoughtbot, inc.</td>\n      <td>Jim Suchy</td>\n    </tr>\n    <tr>\n      <td>670</td>\n      <td>865451460</td>\n      <td>voxgig</td>\n      <td>Jim Suchy</td>\n    </tr>\n    <tr>\n      <td>671</td>\n      <td>726952195</td>\n      <td>vrsus</td>\n      <td>Malcolm Newsome</td>\n    </tr>\n    <tr>\n      <td>672</td>\n      <td>775616077</td>\n      <td>youryolk.com</td>\n      <td></td>\n    </tr>\n    <tr>\n      <td>673</td>\n      <td>1031366501</td>\n      <td>zono.io</td>\n      <td></td>\n    </tr>\n  </tbody>\n</table>\n<p>674 rows × 3 columns</p>\n</div>"
     },
     "metadata": {},
     "execution_count": 21
    }
   ],
   "source": [
    "df_to_save = company_directors.reset_index()\n",
    "df_to_save = df_to_save[['Associated Company ID', 'Associated Company', 'Director']]\n",
    "df_to_save.to_csv('../data/companies-directors.csv', index=True)\n",
    "\n",
    "df_to_save"
   ]
  },
  {
   "cell_type": "markdown",
   "metadata": {},
   "source": [
    "### Saving companies with aggregated industries + directors"
   ]
  },
  {
   "cell_type": "code",
   "execution_count": 22,
   "metadata": {},
   "outputs": [
    {
     "output_type": "execute_result",
     "data": {
      "text/plain": "    Associated Company ID                Associated Company  \\\n0              1005828045               Big Radical Limited   \n1              1006470667                      psygro.co.za   \n2              1006849789         Care Coordination Systems   \n3              1011074056                  KOS Services LLC   \n4              1015911460                       Jellyvision   \n..                    ...                               ...   \n669             966759785                 Fast Radius, Inc.   \n670             988061987                       asktili.com   \n671             988677932          Carco Technologies, Inc.   \n672             992979974  Weathergram, Inc dba Switchboard   \n673             995352975                    ACCC Insurance   \n\n                              Director  \\\n0                            Nick Dyer   \n1                                        \n2                        Doug Bradbury   \n3                                        \n4                                        \n..                                 ...   \n669      Jim Remsik (Deactivated User)   \n670                          Jim Suchy   \n671  Gustin Prudner (Deactivated User)   \n672                    Malcolm Newsome   \n673      Jim Remsik (Deactivated User)   \n\n                                                     Hubspot url  \\\n0    https://app.hubspot.com/contacts/4012159/company/1005828045   \n1    https://app.hubspot.com/contacts/4012159/company/1006470667   \n2    https://app.hubspot.com/contacts/4012159/company/1006849789   \n3    https://app.hubspot.com/contacts/4012159/company/1011074056   \n4    https://app.hubspot.com/contacts/4012159/company/1015911460   \n..                                                           ...   \n669   https://app.hubspot.com/contacts/4012159/company/966759785   \n670   https://app.hubspot.com/contacts/4012159/company/988061987   \n671   https://app.hubspot.com/contacts/4012159/company/988677932   \n672   https://app.hubspot.com/contacts/4012159/company/992979974   \n673   https://app.hubspot.com/contacts/4012159/company/995352975   \n\n                                                        LinkedIn url  \\\n0                https://www.linkedin.com/company/big-radical/about/   \n1                     https://www.linkedin.com/company/psygro/about/   \n2                https://www.linkedin.com/company/beach-group/about/   \n3           https://www.linkedin.com/company/kos-services-llc/about/   \n4                https://www.linkedin.com/company/jellyvision/about/   \n..                                                               ...   \n669              https://www.linkedin.com/company/fast-radius/about/   \n670                  https://www.linkedin.com/company/asktili/about/   \n671  https://www.linkedin.com/company/carco-technologies-inc./about/   \n672         https://www.linkedin.com/company/weathergram-inc./about/   \n673     https://www.linkedin.com/company/acccinsurancecompany/about/   \n\n    LinkedIn size  \\\n0           11-50   \n1          51-200   \n2            2-10   \n3         201-500   \n4         201-500   \n..            ...   \n669        51-200   \n670       201-500   \n671         11-50   \n672         11-50   \n673     501-1,000   \n\n                                                                LinkedIn specialties  \\\n0     Innovation, Consultancy, design sprints, technology, mobile products, strategy   \n1                                                                                NaN   \n2    Community Health, Pathways, HUB, Pathways Connect Software, Care Transitions...   \n3                                                                                NaN   \n4    Benefits Communication, Interactive Conversation, SaaS, Retirement Education...   \n..                                                                               ...   \n669                                                                              NaN   \n670  homemovers, utilities, propertymanagement, energy, broadband, Sky TV, lettin...   \n671                                                                              NaN   \n672                                                                              NaN   \n673  Car Insurance, Insurance, Liability, Property and Casualty Insurance, Reinsu...   \n\n                        LinkedIn Industry    Industry    Aggregated Industry  \\\n0                   Management Consulting   NonProfit             Non Profit   \n1                      Mental Health Care                         Healthcare   \n2                  Hospital & Health Care  HealthCare             Healthcare   \n3                        Medical Practice                         Healthcare   \n4       Information Technology & Services                         Technology   \n..                                    ...         ...                    ...   \n669  Mechanical Or Industrial Engineering  E-commerce   Design & Engineering   \n670                     Consumer Services              Professional Services   \n671     Information Technology & Services                         Technology   \n672     Information Technology & Services                         Technology   \n673                             Insurance                          Insurance   \n\n    Deal Stage  \n0            0  \n1            0  \n2            0  \n3            0  \n4            0  \n..         ...  \n669          0  \n670          0  \n671          0  \n672        1;1  \n673          0  \n\n[674 rows x 11 columns]",
      "text/html": "<div>\n<style scoped>\n    .dataframe tbody tr th:only-of-type {\n        vertical-align: middle;\n    }\n\n    .dataframe tbody tr th {\n        vertical-align: top;\n    }\n\n    .dataframe thead th {\n        text-align: right;\n    }\n</style>\n<table border=\"1\" class=\"dataframe\">\n  <thead>\n    <tr style=\"text-align: right;\">\n      <th></th>\n      <th>Associated Company ID</th>\n      <th>Associated Company</th>\n      <th>Director</th>\n      <th>Hubspot url</th>\n      <th>LinkedIn url</th>\n      <th>LinkedIn size</th>\n      <th>LinkedIn specialties</th>\n      <th>LinkedIn Industry</th>\n      <th>Industry</th>\n      <th>Aggregated Industry</th>\n      <th>Deal Stage</th>\n    </tr>\n  </thead>\n  <tbody>\n    <tr>\n      <td>0</td>\n      <td>1005828045</td>\n      <td>Big Radical Limited</td>\n      <td>Nick Dyer</td>\n      <td>https://app.hubspot.com/contacts/4012159/company/1005828045</td>\n      <td>https://www.linkedin.com/company/big-radical/about/</td>\n      <td>11-50</td>\n      <td>Innovation, Consultancy, design sprints, technology, mobile products, strategy</td>\n      <td>Management Consulting</td>\n      <td>NonProfit</td>\n      <td>Non Profit</td>\n      <td>0</td>\n    </tr>\n    <tr>\n      <td>1</td>\n      <td>1006470667</td>\n      <td>psygro.co.za</td>\n      <td></td>\n      <td>https://app.hubspot.com/contacts/4012159/company/1006470667</td>\n      <td>https://www.linkedin.com/company/psygro/about/</td>\n      <td>51-200</td>\n      <td>NaN</td>\n      <td>Mental Health Care</td>\n      <td></td>\n      <td>Healthcare</td>\n      <td>0</td>\n    </tr>\n    <tr>\n      <td>2</td>\n      <td>1006849789</td>\n      <td>Care Coordination Systems</td>\n      <td>Doug Bradbury</td>\n      <td>https://app.hubspot.com/contacts/4012159/company/1006849789</td>\n      <td>https://www.linkedin.com/company/beach-group/about/</td>\n      <td>2-10</td>\n      <td>Community Health, Pathways, HUB, Pathways Connect Software, Care Transitions...</td>\n      <td>Hospital &amp; Health Care</td>\n      <td>HealthCare</td>\n      <td>Healthcare</td>\n      <td>0</td>\n    </tr>\n    <tr>\n      <td>3</td>\n      <td>1011074056</td>\n      <td>KOS Services LLC</td>\n      <td></td>\n      <td>https://app.hubspot.com/contacts/4012159/company/1011074056</td>\n      <td>https://www.linkedin.com/company/kos-services-llc/about/</td>\n      <td>201-500</td>\n      <td>NaN</td>\n      <td>Medical Practice</td>\n      <td></td>\n      <td>Healthcare</td>\n      <td>0</td>\n    </tr>\n    <tr>\n      <td>4</td>\n      <td>1015911460</td>\n      <td>Jellyvision</td>\n      <td></td>\n      <td>https://app.hubspot.com/contacts/4012159/company/1015911460</td>\n      <td>https://www.linkedin.com/company/jellyvision/about/</td>\n      <td>201-500</td>\n      <td>Benefits Communication, Interactive Conversation, SaaS, Retirement Education...</td>\n      <td>Information Technology &amp; Services</td>\n      <td></td>\n      <td>Technology</td>\n      <td>0</td>\n    </tr>\n    <tr>\n      <td>...</td>\n      <td>...</td>\n      <td>...</td>\n      <td>...</td>\n      <td>...</td>\n      <td>...</td>\n      <td>...</td>\n      <td>...</td>\n      <td>...</td>\n      <td>...</td>\n      <td>...</td>\n      <td>...</td>\n    </tr>\n    <tr>\n      <td>669</td>\n      <td>966759785</td>\n      <td>Fast Radius, Inc.</td>\n      <td>Jim Remsik (Deactivated User)</td>\n      <td>https://app.hubspot.com/contacts/4012159/company/966759785</td>\n      <td>https://www.linkedin.com/company/fast-radius/about/</td>\n      <td>51-200</td>\n      <td>NaN</td>\n      <td>Mechanical Or Industrial Engineering</td>\n      <td>E-commerce</td>\n      <td>Design &amp; Engineering</td>\n      <td>0</td>\n    </tr>\n    <tr>\n      <td>670</td>\n      <td>988061987</td>\n      <td>asktili.com</td>\n      <td>Jim Suchy</td>\n      <td>https://app.hubspot.com/contacts/4012159/company/988061987</td>\n      <td>https://www.linkedin.com/company/asktili/about/</td>\n      <td>201-500</td>\n      <td>homemovers, utilities, propertymanagement, energy, broadband, Sky TV, lettin...</td>\n      <td>Consumer Services</td>\n      <td></td>\n      <td>Professional Services</td>\n      <td>0</td>\n    </tr>\n    <tr>\n      <td>671</td>\n      <td>988677932</td>\n      <td>Carco Technologies, Inc.</td>\n      <td>Gustin Prudner (Deactivated User)</td>\n      <td>https://app.hubspot.com/contacts/4012159/company/988677932</td>\n      <td>https://www.linkedin.com/company/carco-technologies-inc./about/</td>\n      <td>11-50</td>\n      <td>NaN</td>\n      <td>Information Technology &amp; Services</td>\n      <td></td>\n      <td>Technology</td>\n      <td>0</td>\n    </tr>\n    <tr>\n      <td>672</td>\n      <td>992979974</td>\n      <td>Weathergram, Inc dba Switchboard</td>\n      <td>Malcolm Newsome</td>\n      <td>https://app.hubspot.com/contacts/4012159/company/992979974</td>\n      <td>https://www.linkedin.com/company/weathergram-inc./about/</td>\n      <td>11-50</td>\n      <td>NaN</td>\n      <td>Information Technology &amp; Services</td>\n      <td></td>\n      <td>Technology</td>\n      <td>1;1</td>\n    </tr>\n    <tr>\n      <td>673</td>\n      <td>995352975</td>\n      <td>ACCC Insurance</td>\n      <td>Jim Remsik (Deactivated User)</td>\n      <td>https://app.hubspot.com/contacts/4012159/company/995352975</td>\n      <td>https://www.linkedin.com/company/acccinsurancecompany/about/</td>\n      <td>501-1,000</td>\n      <td>Car Insurance, Insurance, Liability, Property and Casualty Insurance, Reinsu...</td>\n      <td>Insurance</td>\n      <td></td>\n      <td>Insurance</td>\n      <td>0</td>\n    </tr>\n  </tbody>\n</table>\n<p>674 rows × 11 columns</p>\n</div>"
     },
     "metadata": {},
     "execution_count": 22
    }
   ],
   "source": [
    "df_to_save = df.reindex()\n",
    "df_to_save = df_to_save[['Associated Company ID', 'Associated Company', 'Director', 'Hubspot url', 'LinkedIn url', 'LinkedIn size', 'LinkedIn specialties' , 'LinkedIn Industry' , 'Industry', 'Aggregated Industry', 'Deal Stage']]\n",
    "\n",
    "df_to_save.to_csv('../data/companies-with-linkedin-data-and-aggregated-findep-industry-and-directors.csv', index=True)\n",
    "\n",
    "df_to_save"
   ]
  },
  {
   "cell_type": "code",
   "execution_count": null,
   "metadata": {},
   "outputs": [],
   "source": []
  }
 ],
 "metadata": {
  "language_info": {
   "name": "python",
   "codemirror_mode": {
    "name": "ipython",
    "version": 3
   },
   "version": "3.7.4-final"
  },
  "orig_nbformat": 2,
  "file_extension": ".py",
  "mimetype": "text/x-python",
  "name": "python",
  "npconvert_exporter": "python",
  "pygments_lexer": "ipython3",
  "version": 3,
  "kernelspec": {
   "name": "python37464bitanaconda3virtualenvd52db71446784f42972ec097c4b2c8ef",
   "display_name": "Python 3.7.4 64-bit ('anaconda3': virtualenv)"
  }
 },
 "nbformat": 4,
 "nbformat_minor": 2
}