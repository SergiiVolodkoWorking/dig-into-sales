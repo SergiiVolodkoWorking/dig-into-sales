{
 "cells": [
  {
   "cell_type": "code",
   "execution_count": 82,
   "metadata": {},
   "outputs": [
    {
     "output_type": "stream",
     "name": "stdout",
     "text": "<class 'pandas.core.frame.DataFrame'>\nInt64Index: 172 entries, 0 to 184\nData columns (total 17 columns):\nAssociated Company         172 non-null object\nContacts                   105 non-null object\nGmail Contacts in full     50 non-null object\nHQ                         172 non-null object\nEmployees                  171 non-null object\nIndustry                   171 non-null object\nWebsite                    171 non-null object\nLinkedIn description       169 non-null object\nLinkedIn size              166 non-null object\nLinkedIn specialties       125 non-null object\nLinkedIn established       154 non-null float64\nLinkedIn id                172 non-null object\nLinkedIn url               172 non-null object\nLinkedIn Industry          171 non-null object\nLinkedIn website           170 non-null object\nLinkedIn temporary logo    166 non-null object\nLinkedIn headquarter       162 non-null object\ndtypes: float64(1), object(16)\nmemory usage: 24.2+ KB\n"
    }
   ],
   "source": [
    "import pandas as pd\n",
    "\n",
    "airtable_companies = pd.read_csv('../data/airtable-companies-with-linkedin-data.csv', index_col=0)\n",
    "\n",
    "airtable_companies.info()"
   ]
  },
  {
   "cell_type": "code",
   "execution_count": 83,
   "metadata": {},
   "outputs": [
    {
     "output_type": "execute_result",
     "data": {
      "text/plain": "☮️ Social Impact           22\n🖥 Agency                   16\n📲Online Platform           16\n💼 Consultancy              14\n🛍️ Consumer Products       13\n📑Online Platform           10\n⚕️Health Tech               8\n🏦 Finance                   8\n🏘 Property technology       7\n🔬 Technology                6\n🎓 Education                 6\n💰Venture Capital            5\n💭 AdTech                    4\n🥋Online Platform            4\n📰 News & Media              4\n🏢 Infrastructure            4\n🎭 Media & Entertainment     3\n🖥️ Machine Learning, AI     3\n🔐Cyber Security             3\n🍕 FoodTech                  3\n📊 Data Visualisation        2\n⛑️ Insurance                2\n📡 Data Services             2\n📚Culture                    1\n📱 Telecom                   1\n⛓️ BlockChain               1\n🚀 Work Space                1\n🚊 Public Sector             1\n🏛Government                 1\nName: Industry, dtype: int64"
     },
     "metadata": {},
     "execution_count": 83
    }
   ],
   "source": [
    "airtable_companies['Industry']=airtable_companies['Industry'].replace(' ','')\n",
    "airtable_companies['Industry']=airtable_companies['Industry'].replace('Online Platform','OnlinePlatform')\n",
    "airtable_companies['Industry'].value_counts()"
   ]
  },
  {
   "cell_type": "code",
   "execution_count": 84,
   "metadata": {},
   "outputs": [],
   "source": [
    "import numpy as np\n",
    "def aggregate_industry_used_by_financial_department(linkedin_industry, airtable_industry):\n",
    "    industries = linkedin_industry + ' ' + airtable_industry\n",
    "    \n",
    "    mappings = [\n",
    "        {\n",
    "            'words': ['Design', 'Software', 'Engineering', 'Maritime', 'Architecture'],\n",
    "            'industry': 'Design & Engineering'\n",
    "        },\n",
    "        {\n",
    "            'words': ['Insurance'],\n",
    "            'industry': 'Insurance'\n",
    "        },\n",
    "        {\n",
    "            'words': ['Philanthropy', 'Non-profit', 'NonProfit', 'Government', 'Civic', 'Social', 'Military', 'Utilities'],\n",
    "            'industry': 'Non Profit'\n",
    "        },\n",
    "        {\n",
    "            'words': ['Travel', 'Hospitality'],\n",
    "            'industry': 'Travel and Hospitality'\n",
    "        },\n",
    "        {\n",
    "            'words': ['E-commerce', 'Internet', 'Import'],\n",
    "            'industry': 'Ecommerce'\n",
    "        },\n",
    "        {\n",
    "            'words': ['Oil', 'Energy', 'Renewable'],\n",
    "            'industry': 'Energy'\n",
    "        },\n",
    "        {\n",
    "            'words': ['Financial', 'Finance', 'Accounting', 'Capital', 'Investment', 'Banking'],\n",
    "            'industry': 'Financial Services'\n",
    "        },\n",
    "        {\n",
    "            'words': ['Technology', 'Telecommunications', 'Development', 'Information', 'Security', 'Biotechnology'],\n",
    "            'industry': 'Technology'\n",
    "        },\n",
    "        {\n",
    "            'words': ['Industrial', 'Construction', 'Building', 'Transportation'],\n",
    "            'industry': 'Industrial'\n",
    "        },\n",
    "        {\n",
    "            'words': ['Automotive', 'Machinery', 'Manufacturing', 'Aerospace', 'Equipment', 'Electronics'],\n",
    "            'industry': 'Manufacturing'\n",
    "        },\n",
    "        {\n",
    "            'words': ['Education', 'E-learning', 'Research', 'Training', 'Think', 'Coaching'],\n",
    "            'industry': 'Education'\n",
    "        },\n",
    "        {\n",
    "            'words': ['Entertainment', 'Museum', 'Art', 'Arts', 'Events', 'Sports', 'Sport', 'Fitness', 'Gaming', 'Game', 'Gambling', 'Libraries'],\n",
    "            'industry': 'Entertainment'\n",
    "        },\n",
    "        {\n",
    "            'words': ['Medicine', 'Health', 'HealthCare', 'Medical'],\n",
    "            'industry': 'Healthcare'\n",
    "        },\n",
    "        {\n",
    "            'words': ['Law', 'Legal'],\n",
    "            'industry': 'Legal'\n",
    "        },\n",
    "        {\n",
    "            'words': ['Estate'],\n",
    "            'industry': 'Real Estate'\n",
    "        },\n",
    "        {\n",
    "            'words': ['Media', 'Publishing', 'Writing', 'Printing', 'Photography', '🥋Online Platform'],\n",
    "            'industry': 'Media'\n",
    "        },\n",
    "        {\n",
    "            'words': ['Human', 'Communications', 'Public', 'Management', 'Staffing', 'Logistics', 'Marketing', 'Services'],\n",
    "            'industry': 'Professional Services'\n",
    "        },\n",
    "        {\n",
    "            'words': ['Retail', 'Goods', 'Consumer', 'Furniture', 'Cosmetics', 'Fashion', 'Wine', 'Beverages', 'Restaurants'],\n",
    "            'industry': 'Retail'\n",
    "        },\n",
    "        {\n",
    "            'words': ['Agriculture', 'FoodProduction'],\n",
    "            'industry': 'Agriculture'\n",
    "        }\n",
    "    ]\n",
    "\n",
    "    for mapping in mappings:\n",
    "        if any(word in industries for word in mapping['words']):\n",
    "            return mapping['industry']\n",
    "\n",
    "    return industries"
   ]
  },
  {
   "cell_type": "code",
   "execution_count": 85,
   "metadata": {},
   "outputs": [
    {
     "output_type": "execute_result",
     "data": {
      "text/plain": "Design & Engineering      30\nTechnology                25\nNon Profit                21\nFinancial Services        17\nEcommerce                 16\nProfessional Services     16\nRetail                    12\nEntertainment              9\nEducation                  7\nMedia                      6\nReal Estate                4\nHealthcare                 3\nInsurance                  2\nManufacturing              2\nIndustrial                 1\nTravel and Hospitality     1\nName: Aggregated Industry, dtype: int64"
     },
     "metadata": {},
     "execution_count": 85
    }
   ],
   "source": [
    "df = airtable_companies\n",
    "df['LinkedIn Industry'] = df['LinkedIn Industry'].fillna('')\n",
    "df['Industry'] = df['Industry'].fillna('')\n",
    "\n",
    "df['Aggregated Industry'] = np.vectorize(aggregate_industry_used_by_financial_department)(df['LinkedIn Industry'], df['Industry'])\n",
    "\n",
    "df['Aggregated Industry'] = df['Aggregated Industry'].replace(' ', np.nan)\n",
    "\n",
    "df['Aggregated Industry'].value_counts().head(25)"
   ]
  },
  {
   "cell_type": "code",
   "execution_count": 86,
   "metadata": {},
   "outputs": [
    {
     "output_type": "execute_result",
     "data": {
      "text/plain": "    Associated Company                                       LinkedIn url  \\\n124         PhotoCrowd  https://www.linkedin.com/company/photocrowd/ab...   \n\n    LinkedIn Industry Aggregated Industry  \n124       Photography               Media  ",
      "text/html": "<div>\n<style scoped>\n    .dataframe tbody tr th:only-of-type {\n        vertical-align: middle;\n    }\n\n    .dataframe tbody tr th {\n        vertical-align: top;\n    }\n\n    .dataframe thead th {\n        text-align: right;\n    }\n</style>\n<table border=\"1\" class=\"dataframe\">\n  <thead>\n    <tr style=\"text-align: right;\">\n      <th></th>\n      <th>Associated Company</th>\n      <th>LinkedIn url</th>\n      <th>LinkedIn Industry</th>\n      <th>Aggregated Industry</th>\n    </tr>\n  </thead>\n  <tbody>\n    <tr>\n      <td>124</td>\n      <td>PhotoCrowd</td>\n      <td>https://www.linkedin.com/company/photocrowd/ab...</td>\n      <td>Photography</td>\n      <td>Media</td>\n    </tr>\n  </tbody>\n</table>\n</div>"
     },
     "metadata": {},
     "execution_count": 86
    }
   ],
   "source": [
    "industry_substring = \"Photography\"\n",
    "\n",
    "df['LinkedIn Industry'] = df['LinkedIn Industry'].fillna('')\n",
    "\n",
    "matching_companies = df[df['LinkedIn Industry'].str.contains(industry_substring)]\n",
    "matching_companies[['Associated Company', 'LinkedIn url', 'LinkedIn Industry', 'Aggregated Industry']].head(25)"
   ]
  },
  {
   "cell_type": "code",
   "execution_count": 87,
   "metadata": {},
   "outputs": [
    {
     "output_type": "execute_result",
     "data": {
      "text/plain": "   Associated Company          Industry  \\\n7        Amazon (AWS)  🥋Online Platform   \n39     DAZN (perform)  🥋Online Platform   \n68            GoSweat  🥋Online Platform   \n86    Killer.Football  🥋Online Platform   \n\n                                         LinkedIn url  \\\n7   https://www.linkedin.com/company/amazon-web-se...   \n39  https://www.linkedin.com/company/dazn-limited/...   \n68    https://www.linkedin.com/company/gosweat/about/   \n86  https://www.linkedin.com/company/killer-dot-fo...   \n\n                    LinkedIn Industry Aggregated Industry  \n7   Information Technology & Services          Technology  \n39                                                  Media  \n68         Health, Wellness & Fitness       Entertainment  \n86                 Gambling & Casinos       Entertainment  ",
      "text/html": "<div>\n<style scoped>\n    .dataframe tbody tr th:only-of-type {\n        vertical-align: middle;\n    }\n\n    .dataframe tbody tr th {\n        vertical-align: top;\n    }\n\n    .dataframe thead th {\n        text-align: right;\n    }\n</style>\n<table border=\"1\" class=\"dataframe\">\n  <thead>\n    <tr style=\"text-align: right;\">\n      <th></th>\n      <th>Associated Company</th>\n      <th>Industry</th>\n      <th>LinkedIn url</th>\n      <th>LinkedIn Industry</th>\n      <th>Aggregated Industry</th>\n    </tr>\n  </thead>\n  <tbody>\n    <tr>\n      <td>7</td>\n      <td>Amazon (AWS)</td>\n      <td>🥋Online Platform</td>\n      <td>https://www.linkedin.com/company/amazon-web-se...</td>\n      <td>Information Technology &amp; Services</td>\n      <td>Technology</td>\n    </tr>\n    <tr>\n      <td>39</td>\n      <td>DAZN (perform)</td>\n      <td>🥋Online Platform</td>\n      <td>https://www.linkedin.com/company/dazn-limited/...</td>\n      <td></td>\n      <td>Media</td>\n    </tr>\n    <tr>\n      <td>68</td>\n      <td>GoSweat</td>\n      <td>🥋Online Platform</td>\n      <td>https://www.linkedin.com/company/gosweat/about/</td>\n      <td>Health, Wellness &amp; Fitness</td>\n      <td>Entertainment</td>\n    </tr>\n    <tr>\n      <td>86</td>\n      <td>Killer.Football</td>\n      <td>🥋Online Platform</td>\n      <td>https://www.linkedin.com/company/killer-dot-fo...</td>\n      <td>Gambling &amp; Casinos</td>\n      <td>Entertainment</td>\n    </tr>\n  </tbody>\n</table>\n</div>"
     },
     "metadata": {},
     "execution_count": 87
    }
   ],
   "source": [
    "industry_substring = '🥋Online Platform'\n",
    "\n",
    "matching_companies = df[df['Industry'].str.contains(industry_substring)]\n",
    "matching_companies = matching_companies[~df['LinkedIn Industry'].isnull()]\n",
    "\n",
    "matching_companies[['Associated Company','Industry', 'LinkedIn url', 'LinkedIn Industry', 'Aggregated Industry']].head(25)"
   ]
  },
  {
   "cell_type": "markdown",
   "metadata": {},
   "source": [
    "# Generalize Headquartes"
   ]
  },
  {
   "cell_type": "code",
   "execution_count": 88,
   "metadata": {},
   "outputs": [],
   "source": [
    "def generalize_headquarter(linkedin_hq):\n",
    "    linkedin_hq = linkedin_hq\n",
    "    mappings = [\n",
    "        {\n",
    "            'words': ['london'],\n",
    "            'hq': 'London, UK'\n",
    "        },\n",
    "        {\n",
    "            'words': ['new york', 'brooklyn'],\n",
    "            'hq': 'New York, NY'\n",
    "        },\n",
    "        {\n",
    "            'words': ['san francisco'],\n",
    "            'hq': 'San Francisco, CA'\n",
    "        },\n",
    "        {\n",
    "            'words': ['berlin'],\n",
    "            'hq': 'Berlin, Germany'\n",
    "        },\n",
    "        {\n",
    "            'words': ['boston'],\n",
    "            'hq': 'Boston, MA'\n",
    "        },\n",
    "        {\n",
    "            'words': ['singapore'],\n",
    "            'hq': 'Singapore'\n",
    "        },\n",
    "        {\n",
    "            'words': ['chicago'],\n",
    "            'hq': 'Chicago, IL'\n",
    "        },\n",
    "        ]\n",
    "\n",
    "    for mapping in mappings:\n",
    "        if any(word in linkedin_hq.lower() for word in mapping['words']):\n",
    "            return mapping['hq']\n",
    "\n",
    "    return linkedin_hq"
   ]
  },
  {
   "cell_type": "code",
   "execution_count": 89,
   "metadata": {},
   "outputs": [
    {
     "output_type": "execute_result",
     "data": {
      "text/plain": "London, UK                        123\nNew York, NY                        3\nSan Francisco, CA                   3\nBoston, MA                          3\nBerlin, Germany                     3\nSeattle, WA                         3\nChicago, IL                         2\nSingapore                           2\nRickmansworth, Hertfordshire        1\nStevenage                           1\nHorsham, West Sussex                1\nFalmouth, Cornwall                  1\nCowes, England                      1\nCardiff                             1\nCosta Mesa, CA                      1\nLeamington Spa, Warwickshire        1\nManchester, North West              1\nPoole, Dorset                       1\nCambridge, Cambridgeshire           1\nOxford, OXON                        1\nGaza, Gaza                          1\nMenlo Park, CA                      1\nSutton, Surrey                      1\nBristol, UK                         1\nSchlieren, ZH                       1\nLeicester, Leicestershire           1\nMilton Keynes, Buckinghamshire      1\nBournemouth                         1\nName: LinkedIn headquarter, dtype: int64"
     },
     "metadata": {},
     "execution_count": 89
    }
   ],
   "source": [
    "#df = airtable_companies\n",
    "df['LinkedIn headquarter'] = df['LinkedIn headquarter'].fillna('')\n",
    "\n",
    "df['LinkedIn headquarter'] = np.vectorize(generalize_headquarter)(df['LinkedIn headquarter'])\n",
    "\n",
    "df['LinkedIn headquarter'] = df['LinkedIn headquarter'].replace(' ', np.nan).replace('', np.nan)\n",
    "df['LinkedIn headquarter'].value_counts().head(35)"
   ]
  },
  {
   "cell_type": "markdown",
   "metadata": {},
   "source": [
    "# Save results"
   ]
  },
  {
   "cell_type": "code",
   "execution_count": 90,
   "metadata": {},
   "outputs": [
    {
     "output_type": "execute_result",
     "data": {
      "text/plain": "    Associated Company                    Contacts  \\\n0            8th Light    Jim Suchy,Becca Townsend   \n1               Accurx  Louise Hughes,Jacob Haddad   \n2        Acuris Global                               \n3    Ad Hoc Global Ltd                               \n4             Airtable                               \n..                 ...                         ...   \n180             YuLife                               \n181                YYT             Jonathan Chikly   \n182       Zero Deposit                 Pete Graham   \n183               Zinc                  Julia Ross   \n184             Zühlke                               \n\n           Gmail Contacts in full                          HQ Employees  \\\n0        Ashley Bye, Dennis Moore             \"Angel, London\"    51-200   \n1                                           \"Dalston, London\"     11-50   \n2                                              City of London  501-1000   \n3                                     \"Covent Garden, London\"      1-10   \n4    Alex Dytrych, David Peterson        \"Old Street, London\"     11-50   \n..                            ...                         ...       ...   \n180                                     \"Kings Cross, London\"     11-50   \n181                                       \"Fitzrovia, London\"      1-10   \n182                  Andrew Doyle  \"Liverpool Street, London\"     11-50   \n183                                            City of London     11-50   \n184                                      \"Old Street, London\"    51-200   \n\n                  Industry                          Website  \\\n0            💼 Consultancy             https://8thlight.com   \n1            ⚕️Health Tech          https://www.accurx.com/   \n2         🏢 Infrastructure          https://www.acuris.com/   \n3                 🖥 Agency      http://www.adhocglobal.com/   \n4         📲Online Platform             https://airtable.com   \n..                     ...                              ...   \n180           ⛑️ Insurance          https://www.yulife.com/   \n181               🖥 Agency                  https://yyt.dev   \n182  🏘 Property technology     https://www.zerodeposit.com/   \n183       💰Venture Capital              https://www.zinc.vc   \n184          💼 Consultancy  https://www.zuehlke.com/gb/en/x   \n\n                                  LinkedIn description LinkedIn size  \\\n0    Software is our Craft.™ At 8th Light, we craft...        51-200   \n1    At accu Rx, we're on a mission to change lives...         11-50   \n2    Acuris powers business growth for financial an...   1,001-5,000   \n3    Ad Hoc Global provides user-centred, service d...          2-10   \n4    Airtable's mission is to democratize software ...        51-200   \n..                                                 ...           ...   \n180  yulife is the world’s first life insurance com...         11-50   \n181  We build content management systems, e-commerc...           0-1   \n182  Our vision is a better renting process for eve...         11-50   \n183  Zinc exists to build and scale a brand-new way...          2-10   \n184  Innovation is key at Zühlke.As a solution part...   1,001-5,000   \n\n                                  LinkedIn specialties LinkedIn established  \\\n0    Agile, UX/UI, Software Craftsmanship, Web Desi...                 2006   \n1                                                                      2016   \n2                                                                      2000   \n3    UX, Human factors, Digital Behaviour, Strategy...                 2012   \n4                                                                      2013   \n..                                                 ...                  ...   \n180                                                                    2016   \n181                                                                           \n182  real estate, landlords, letting agents, tenant...                 2016   \n183                                                                    2017   \n184  Product Development, Digital Transformation, I...                 1968   \n\n           LinkedIn id                                       LinkedIn url  \\\n0            8th-light  https://www.linkedin.com/company/8th-light/about/   \n1               accurx     https://www.linkedin.com/company/accurx/about/   \n2        acuris-global  https://www.linkedin.com/company/acuris-global...   \n3    ad-hoc-global-ltd  https://www.linkedin.com/company/ad-hoc-global...   \n4             airtable   https://www.linkedin.com/company/airtable/about/   \n..                 ...                                                ...   \n180             yulife     https://www.linkedin.com/company/yulife/about/   \n181                yyt        https://www.linkedin.com/company/yyt/about/   \n182      zerodeposituk  https://www.linkedin.com/company/zerodeposituk...   \n183             zincvc     https://www.linkedin.com/company/zincvc/about/   \n184       zuehlkegroup  https://www.linkedin.com/company/zuehlkegroup/...   \n\n                     LinkedIn Industry            LinkedIn website  \\\n0                    Computer Software        https://8thlight.com   \n1                    Computer Software      https://www.accurx.com   \n2                   Financial Services       http://www.acuris.com   \n3                             Research  http://www.adhocglobal.com   \n4                    Computer Software        https://airtable.com   \n..                                 ...                         ...   \n180                          Insurance      https://www.yulife.com   \n181  Information Technology & Services             https://yyt.dev   \n182                        Real Estate  http://www.zerodeposit.com   \n183   Venture Capital & Private Equity          http://www.zinc.vc   \n184  Information Technology & Services     https://www.zuehlke.com   \n\n                               LinkedIn temporary logo LinkedIn headquarter  \\\n0    https://media-exp1.licdn.com/dms/image/C560BAQ...          Chicago, IL   \n1    https://media-exp1.licdn.com/dms/image/C560BAQ...           London, UK   \n2    https://media-exp1.licdn.com/dms/image/C510BAQ...         New York, NY   \n3    https://media-exp1.licdn.com/dms/image/C4E0BAQ...           London, UK   \n4    https://media-exp1.licdn.com/dms/image/C560BAQ...    San Francisco, CA   \n..                                                 ...                  ...   \n180  https://media-exp1.licdn.com/dms/image/C4D0BAQ...           London, UK   \n181  https://media-exp1.licdn.com/dms/image/C4D0BAQ...           London, UK   \n182  https://media-exp1.licdn.com/dms/image/C4D0BAQ...            Stevenage   \n183  https://media-exp1.licdn.com/dms/image/C4D0BAQ...           London, UK   \n184  https://media-exp1.licdn.com/dms/image/C4D0BAQ...        Schlieren, ZH   \n\n      Aggregated Industry  \n0    Design & Engineering  \n1    Design & Engineering  \n2      Financial Services  \n3               Education  \n4    Design & Engineering  \n..                    ...  \n180             Insurance  \n181            Technology  \n182           Real Estate  \n183    Financial Services  \n184            Technology  \n\n[172 rows x 18 columns]",
      "text/html": "<div>\n<style scoped>\n    .dataframe tbody tr th:only-of-type {\n        vertical-align: middle;\n    }\n\n    .dataframe tbody tr th {\n        vertical-align: top;\n    }\n\n    .dataframe thead th {\n        text-align: right;\n    }\n</style>\n<table border=\"1\" class=\"dataframe\">\n  <thead>\n    <tr style=\"text-align: right;\">\n      <th></th>\n      <th>Associated Company</th>\n      <th>Contacts</th>\n      <th>Gmail Contacts in full</th>\n      <th>HQ</th>\n      <th>Employees</th>\n      <th>Industry</th>\n      <th>Website</th>\n      <th>LinkedIn description</th>\n      <th>LinkedIn size</th>\n      <th>LinkedIn specialties</th>\n      <th>LinkedIn established</th>\n      <th>LinkedIn id</th>\n      <th>LinkedIn url</th>\n      <th>LinkedIn Industry</th>\n      <th>LinkedIn website</th>\n      <th>LinkedIn temporary logo</th>\n      <th>LinkedIn headquarter</th>\n      <th>Aggregated Industry</th>\n    </tr>\n  </thead>\n  <tbody>\n    <tr>\n      <td>0</td>\n      <td>8th Light</td>\n      <td>Jim Suchy,Becca Townsend</td>\n      <td>Ashley Bye, Dennis Moore</td>\n      <td>\"Angel, London\"</td>\n      <td>51-200</td>\n      <td>💼 Consultancy</td>\n      <td>https://8thlight.com</td>\n      <td>Software is our Craft.™ At 8th Light, we craft...</td>\n      <td>51-200</td>\n      <td>Agile, UX/UI, Software Craftsmanship, Web Desi...</td>\n      <td>2006</td>\n      <td>8th-light</td>\n      <td>https://www.linkedin.com/company/8th-light/about/</td>\n      <td>Computer Software</td>\n      <td>https://8thlight.com</td>\n      <td>https://media-exp1.licdn.com/dms/image/C560BAQ...</td>\n      <td>Chicago, IL</td>\n      <td>Design &amp; Engineering</td>\n    </tr>\n    <tr>\n      <td>1</td>\n      <td>Accurx</td>\n      <td>Louise Hughes,Jacob Haddad</td>\n      <td></td>\n      <td>\"Dalston, London\"</td>\n      <td>11-50</td>\n      <td>⚕️Health Tech</td>\n      <td>https://www.accurx.com/</td>\n      <td>At accu Rx, we're on a mission to change lives...</td>\n      <td>11-50</td>\n      <td></td>\n      <td>2016</td>\n      <td>accurx</td>\n      <td>https://www.linkedin.com/company/accurx/about/</td>\n      <td>Computer Software</td>\n      <td>https://www.accurx.com</td>\n      <td>https://media-exp1.licdn.com/dms/image/C560BAQ...</td>\n      <td>London, UK</td>\n      <td>Design &amp; Engineering</td>\n    </tr>\n    <tr>\n      <td>2</td>\n      <td>Acuris Global</td>\n      <td></td>\n      <td></td>\n      <td>City of London</td>\n      <td>501-1000</td>\n      <td>🏢 Infrastructure</td>\n      <td>https://www.acuris.com/</td>\n      <td>Acuris powers business growth for financial an...</td>\n      <td>1,001-5,000</td>\n      <td></td>\n      <td>2000</td>\n      <td>acuris-global</td>\n      <td>https://www.linkedin.com/company/acuris-global...</td>\n      <td>Financial Services</td>\n      <td>http://www.acuris.com</td>\n      <td>https://media-exp1.licdn.com/dms/image/C510BAQ...</td>\n      <td>New York, NY</td>\n      <td>Financial Services</td>\n    </tr>\n    <tr>\n      <td>3</td>\n      <td>Ad Hoc Global Ltd</td>\n      <td></td>\n      <td></td>\n      <td>\"Covent Garden, London\"</td>\n      <td>1-10</td>\n      <td>🖥 Agency</td>\n      <td>http://www.adhocglobal.com/</td>\n      <td>Ad Hoc Global provides user-centred, service d...</td>\n      <td>2-10</td>\n      <td>UX, Human factors, Digital Behaviour, Strategy...</td>\n      <td>2012</td>\n      <td>ad-hoc-global-ltd</td>\n      <td>https://www.linkedin.com/company/ad-hoc-global...</td>\n      <td>Research</td>\n      <td>http://www.adhocglobal.com</td>\n      <td>https://media-exp1.licdn.com/dms/image/C4E0BAQ...</td>\n      <td>London, UK</td>\n      <td>Education</td>\n    </tr>\n    <tr>\n      <td>4</td>\n      <td>Airtable</td>\n      <td></td>\n      <td>Alex Dytrych, David Peterson</td>\n      <td>\"Old Street, London\"</td>\n      <td>11-50</td>\n      <td>📲Online Platform</td>\n      <td>https://airtable.com</td>\n      <td>Airtable's mission is to democratize software ...</td>\n      <td>51-200</td>\n      <td></td>\n      <td>2013</td>\n      <td>airtable</td>\n      <td>https://www.linkedin.com/company/airtable/about/</td>\n      <td>Computer Software</td>\n      <td>https://airtable.com</td>\n      <td>https://media-exp1.licdn.com/dms/image/C560BAQ...</td>\n      <td>San Francisco, CA</td>\n      <td>Design &amp; Engineering</td>\n    </tr>\n    <tr>\n      <td>...</td>\n      <td>...</td>\n      <td>...</td>\n      <td>...</td>\n      <td>...</td>\n      <td>...</td>\n      <td>...</td>\n      <td>...</td>\n      <td>...</td>\n      <td>...</td>\n      <td>...</td>\n      <td>...</td>\n      <td>...</td>\n      <td>...</td>\n      <td>...</td>\n      <td>...</td>\n      <td>...</td>\n      <td>...</td>\n      <td>...</td>\n    </tr>\n    <tr>\n      <td>180</td>\n      <td>YuLife</td>\n      <td></td>\n      <td></td>\n      <td>\"Kings Cross, London\"</td>\n      <td>11-50</td>\n      <td>⛑️ Insurance</td>\n      <td>https://www.yulife.com/</td>\n      <td>yulife is the world’s first life insurance com...</td>\n      <td>11-50</td>\n      <td></td>\n      <td>2016</td>\n      <td>yulife</td>\n      <td>https://www.linkedin.com/company/yulife/about/</td>\n      <td>Insurance</td>\n      <td>https://www.yulife.com</td>\n      <td>https://media-exp1.licdn.com/dms/image/C4D0BAQ...</td>\n      <td>London, UK</td>\n      <td>Insurance</td>\n    </tr>\n    <tr>\n      <td>181</td>\n      <td>YYT</td>\n      <td>Jonathan Chikly</td>\n      <td></td>\n      <td>\"Fitzrovia, London\"</td>\n      <td>1-10</td>\n      <td>🖥 Agency</td>\n      <td>https://yyt.dev</td>\n      <td>We build content management systems, e-commerc...</td>\n      <td>0-1</td>\n      <td></td>\n      <td></td>\n      <td>yyt</td>\n      <td>https://www.linkedin.com/company/yyt/about/</td>\n      <td>Information Technology &amp; Services</td>\n      <td>https://yyt.dev</td>\n      <td>https://media-exp1.licdn.com/dms/image/C4D0BAQ...</td>\n      <td>London, UK</td>\n      <td>Technology</td>\n    </tr>\n    <tr>\n      <td>182</td>\n      <td>Zero Deposit</td>\n      <td>Pete Graham</td>\n      <td>Andrew Doyle</td>\n      <td>\"Liverpool Street, London\"</td>\n      <td>11-50</td>\n      <td>🏘 Property technology</td>\n      <td>https://www.zerodeposit.com/</td>\n      <td>Our vision is a better renting process for eve...</td>\n      <td>11-50</td>\n      <td>real estate, landlords, letting agents, tenant...</td>\n      <td>2016</td>\n      <td>zerodeposituk</td>\n      <td>https://www.linkedin.com/company/zerodeposituk...</td>\n      <td>Real Estate</td>\n      <td>http://www.zerodeposit.com</td>\n      <td>https://media-exp1.licdn.com/dms/image/C4D0BAQ...</td>\n      <td>Stevenage</td>\n      <td>Real Estate</td>\n    </tr>\n    <tr>\n      <td>183</td>\n      <td>Zinc</td>\n      <td>Julia Ross</td>\n      <td></td>\n      <td>City of London</td>\n      <td>11-50</td>\n      <td>💰Venture Capital</td>\n      <td>https://www.zinc.vc</td>\n      <td>Zinc exists to build and scale a brand-new way...</td>\n      <td>2-10</td>\n      <td></td>\n      <td>2017</td>\n      <td>zincvc</td>\n      <td>https://www.linkedin.com/company/zincvc/about/</td>\n      <td>Venture Capital &amp; Private Equity</td>\n      <td>http://www.zinc.vc</td>\n      <td>https://media-exp1.licdn.com/dms/image/C4D0BAQ...</td>\n      <td>London, UK</td>\n      <td>Financial Services</td>\n    </tr>\n    <tr>\n      <td>184</td>\n      <td>Zühlke</td>\n      <td></td>\n      <td></td>\n      <td>\"Old Street, London\"</td>\n      <td>51-200</td>\n      <td>💼 Consultancy</td>\n      <td>https://www.zuehlke.com/gb/en/x</td>\n      <td>Innovation is key at Zühlke.As a solution part...</td>\n      <td>1,001-5,000</td>\n      <td>Product Development, Digital Transformation, I...</td>\n      <td>1968</td>\n      <td>zuehlkegroup</td>\n      <td>https://www.linkedin.com/company/zuehlkegroup/...</td>\n      <td>Information Technology &amp; Services</td>\n      <td>https://www.zuehlke.com</td>\n      <td>https://media-exp1.licdn.com/dms/image/C4D0BAQ...</td>\n      <td>Schlieren, ZH</td>\n      <td>Technology</td>\n    </tr>\n  </tbody>\n</table>\n<p>172 rows × 18 columns</p>\n</div>"
     },
     "metadata": {},
     "execution_count": 90
    }
   ],
   "source": [
    "df_to_save = df\n",
    "df_to_save = df_to_save.fillna('')\n",
    "df_to_save.to_csv('../data/airtable-companies-with-linkedin-data-and-aggregated-findep-industry-genalised-hqs.csv', index=True)\n",
    "\n",
    "df_to_save"
   ]
  },
  {
   "cell_type": "code",
   "execution_count": null,
   "metadata": {},
   "outputs": [],
   "source": []
  }
 ],
 "metadata": {
  "language_info": {
   "codemirror_mode": {
    "name": "ipython",
    "version": 3
   },
   "file_extension": ".py",
   "mimetype": "text/x-python",
   "name": "python",
   "nbconvert_exporter": "python",
   "pygments_lexer": "ipython3",
   "version": "3.7.4-final"
  },
  "orig_nbformat": 2,
  "kernelspec": {
   "name": "python37464bitanaconda3virtualenvd52db71446784f42972ec097c4b2c8ef",
   "display_name": "Python 3.7.4 64-bit ('anaconda3': virtualenv)"
  }
 },
 "nbformat": 4,
 "nbformat_minor": 2
}