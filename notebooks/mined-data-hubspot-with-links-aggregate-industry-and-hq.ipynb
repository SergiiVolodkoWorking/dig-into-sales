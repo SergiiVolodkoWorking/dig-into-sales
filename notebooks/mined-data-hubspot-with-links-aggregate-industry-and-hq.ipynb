{
 "cells": [
  {
   "cell_type": "markdown",
   "metadata": {},
   "source": [
    "# Load data"
   ]
  },
  {
   "cell_type": "code",
   "execution_count": 22,
   "metadata": {},
   "outputs": [],
   "source": [
    "import pandas as pd\n",
    "import numpy as np\n",
    "import os.path\n",
    "\n",
    "data_folder = \"../data\""
   ]
  },
  {
   "cell_type": "code",
   "execution_count": 23,
   "metadata": {},
   "outputs": [
    {
     "output_type": "execute_result",
     "data": {
      "text/plain": "Company ID                 701\nCompany Name               701\nDirector                   674\nHubspot url                701\nPhone Number               560\nCity                       639\nCountry/Region             670\nIndustry                   525\nLinkedIn link              701\nLinkedIn description       687\nLinkedIn size              683\nLinkedIn specialties       544\nLinkedIn established       606\nLinkedIn id                700\nLinkedIn url               701\nLinkedIn Industry          689\nLinkedIn website           686\nLinkedIn temporary logo    657\nLinkedIn headquarter       645\nLinkedIn Name              694\ndtype: int64"
     },
     "metadata": {},
     "execution_count": 23
    }
   ],
   "source": [
    "data_file = os.path.join(data_folder, 'hubspot-companies-with-linkedin-link-mined-data.csv')\n",
    "\n",
    "scrapped_companies = pd.read_csv(data_file, index_col=0)\n",
    "scrapped_companies.count()"
   ]
  },
  {
   "cell_type": "code",
   "execution_count": 24,
   "metadata": {},
   "outputs": [
    {
     "output_type": "execute_result",
     "data": {
      "text/plain": "Computer Software                      182\nHigher Education                        65\nInformation Technology and Services     42\nMarketing and Advertising               20\nFinancial Services                      18\n                                      ... \nBiotechnology                            1\nAirlines/Aviation                        1\nWriting and Editing                      1\nPhotography                              1\nResearch                                 1\nName: Industry, Length: 74, dtype: int64"
     },
     "metadata": {},
     "execution_count": 24
    }
   ],
   "source": [
    "df = scrapped_companies.copy()\n",
    "\n",
    "df['Industry'] = df['Industry'].str.replace(';', ' ')\n",
    "df['Industry'] = df['Industry'].str.replace('Non Profit', 'NonProfit')\n",
    "df['Industry'] = df['Industry'].str.replace('Food Production', 'FoodProduction')\n",
    "df['Industry'] = df['Industry'].str.replace('Health Care', 'HealthCare')\n",
    "\n",
    "# replace field that's entirely space (or empty) with NaN\n",
    "df['Industry'] = df['Industry'].replace(r'^\\s*$', np.nan, regex=True)\n",
    "\n",
    "df['Industry'].value_counts()"
   ]
  },
  {
   "cell_type": "code",
   "execution_count": 25,
   "metadata": {},
   "outputs": [],
   "source": [
    "def aggregate_industry_used_by_financial_department(linkedin_industry, hubspot_industry):\n",
    "    industries = linkedin_industry + ' ' + hubspot_industry\n",
    "    \n",
    "    mappings = [\n",
    "        {\n",
    "            'words': ['Design', 'Software', 'Engineering', 'Maritime', 'Architecture'],\n",
    "            'industry': 'Design & Engineering'\n",
    "        },\n",
    "        {\n",
    "            'words': ['Insurance'],\n",
    "            'industry': 'Insurance'\n",
    "        },\n",
    "        {\n",
    "            'words': ['Philanthropy', 'Non-profit', 'NonProfit', 'Government', 'Civic', 'Social', 'Military', 'Defense', 'Utilities', 'Religious', 'Political'],\n",
    "            'industry': 'Non Profit'\n",
    "        },\n",
    "        {\n",
    "            'words': ['Travel', 'Hospitality'],\n",
    "            'industry': 'Travel and Hospitality'\n",
    "        },\n",
    "        {\n",
    "            'words': ['E-commerce', 'Internet', 'Import'],\n",
    "            'industry': 'Ecommerce'\n",
    "        },\n",
    "        {\n",
    "            'words': ['Oil', 'Energy', 'Renewable'],\n",
    "            'industry': 'Energy'\n",
    "        },\n",
    "        {\n",
    "            'words': ['Financial', 'Finance', 'Accounting', 'Capital', 'Investment', 'Banking'],\n",
    "            'industry': 'Financial Services'\n",
    "        },\n",
    "        {\n",
    "            'words': ['Technology', 'Telecommunications', 'Development', 'Information', 'Security', 'Biotechnology', 'Computer'],\n",
    "            'industry': 'Technology'\n",
    "        },\n",
    "        {\n",
    "            'words': ['Industrial', 'Construction', 'Building', 'Transportation', 'Chemicals'],\n",
    "            'industry': 'Industrial'\n",
    "        },\n",
    "        {\n",
    "            'words': ['Automotive', 'Machinery', 'Manufacturing', 'Aerospace', 'Equipment', 'Electronics', 'Forest'],\n",
    "            'industry': 'Manufacturing'\n",
    "        },\n",
    "        {\n",
    "            'words': ['Education', 'E-learning', 'Research', 'Training', 'Think', 'Coaching'],\n",
    "            'industry': 'Education'\n",
    "        },\n",
    "        {\n",
    "            'words': ['Entertainment', 'Museum', 'Art', 'Arts', 'Events', 'Sports', 'Sport', 'Fitness', 'Gaming', 'Game', 'Gambling', 'Libraries', 'Animation', 'Photography'],\n",
    "            'industry': 'Entertainment'\n",
    "        },\n",
    "        {\n",
    "            'words': ['Medicine', 'Health', 'HealthCare', 'Medical', 'Pharmaceuticals'],\n",
    "            'industry': 'Healthcare'\n",
    "        },\n",
    "        {\n",
    "            'words': ['Law', 'Legal'],\n",
    "            'industry': 'Legal'\n",
    "        },\n",
    "        {\n",
    "            'words': ['Estate'],\n",
    "            'industry': 'Real Estate'\n",
    "        },\n",
    "        {\n",
    "            'words': ['Media', 'Publishing', 'Writing', 'Printing'],\n",
    "            'industry': 'Media'\n",
    "        },\n",
    "        {\n",
    "            'words': ['Human', 'Communications', 'Public', 'Management', 'Staffing', 'Logistics', 'Marketing', 'Services', 'Executive'],\n",
    "            'industry': 'Professional Services'\n",
    "        },\n",
    "        {\n",
    "            'words': ['Retail', 'Goods', 'Consumer', 'Furniture', 'Cosmetics', 'Fashion', 'Wine', 'Beverages', 'Restaurants', 'Wholesale'],\n",
    "            'industry': 'Retail'\n",
    "        },\n",
    "        {\n",
    "            'words': ['Agriculture', 'FoodProduction'],\n",
    "            'industry': 'Agriculture'\n",
    "        }\n",
    "    ]\n",
    "\n",
    "    for mapping in mappings:\n",
    "        if any(word in industries for word in mapping['words']):\n",
    "            return mapping['industry']\n",
    "\n",
    "    return industries"
   ]
  },
  {
   "cell_type": "code",
   "execution_count": 26,
   "metadata": {},
   "outputs": [
    {
     "output_type": "execute_result",
     "data": {
      "text/plain": "Design & Engineering      222\nTechnology                104\nEducation                  92\nProfessional Services      59\nFinancial Services         42\nNon Profit                 30\nEntertainment              27\nHealthcare                 18\nRetail                     18\nEcommerce                  14\nManufacturing              12\nMedia                      12\nInsurance                  11\nReal Estate                 9\nTravel and Hospitality      7\nLegal                       7\nIndustrial                  7\nEnergy                      4\nName: Aggregated Industry, dtype: int64"
     },
     "metadata": {},
     "execution_count": 26
    }
   ],
   "source": [
    "df['LinkedIn Industry'] = df['LinkedIn Industry'].fillna('')\n",
    "df['Industry'] = df['Industry'].fillna('')\n",
    "df['Aggregated Industry'] = np.vectorize(aggregate_industry_used_by_financial_department)(df['LinkedIn Industry'], df['Industry'])\n",
    "\n",
    "df['Aggregated Industry'] = df['Aggregated Industry'].replace(' ', np.nan)\n",
    "\n",
    "df['Aggregated Industry'].value_counts().head(25)"
   ]
  },
  {
   "cell_type": "markdown",
   "metadata": {},
   "source": [
    "# Generalize Headquartes"
   ]
  },
  {
   "cell_type": "code",
   "execution_count": 27,
   "metadata": {},
   "outputs": [],
   "source": [
    "def generalize_headquarter(linkedin_hq):\n",
    "    linkedin_hq = linkedin_hq.replace('California', 'CA')\n",
    "    linkedin_hq = linkedin_hq.replace('Florida', 'FL')\n",
    "    linkedin_hq = linkedin_hq.replace('Ohio', 'OH')\n",
    "    linkedin_hq = linkedin_hq.replace('Illinois', 'IL')\n",
    "    linkedin_hq = linkedin_hq.replace('Pennslyvania', 'PA')\n",
    "    linkedin_hq = linkedin_hq.replace('Virginia', 'VA')\n",
    "    linkedin_hq = linkedin_hq.replace('Arkansas', 'AR')\n",
    "    linkedin_hq = linkedin_hq.replace('North Carolina', 'NC')\n",
    "    linkedin_hq = linkedin_hq.replace('Massachusetts', 'MA')\n",
    "    linkedin_hq = linkedin_hq.replace('TX - Texas', 'TX').replace('Texas', 'TX')\n",
    "    linkedin_hq = linkedin_hq.replace('England', 'UK').replace('Essex', 'UK').replace('Cambridgeshire', 'UK')\n",
    "    \n",
    "    mappings = [\n",
    "        {\n",
    "            'words': ['london'],\n",
    "            'hq': 'London, UK'\n",
    "        },\n",
    "        {\n",
    "            'words': ['new york', 'brooklyn', 'ny, ny'],\n",
    "            'hq': 'New York, NY'\n",
    "        },\n",
    "        {\n",
    "            'words': ['san francisco'],\n",
    "            'hq': 'San Francisco, CA'\n",
    "        },\n",
    "        {\n",
    "            'words': ['berlin'],\n",
    "            'hq': 'Berlin, Germany'\n",
    "        },\n",
    "        {\n",
    "            'words': ['paris'],\n",
    "            'hq': 'Paris, France'\n",
    "        },\n",
    "        {\n",
    "            'words': ['warszawa', 'warsaw'],\n",
    "            'hq': 'Warsaw, Poland'\n",
    "        },\n",
    "        {\n",
    "            'words': ['toronto'],\n",
    "            'hq': 'Toronto, Ontario'\n",
    "        },\n",
    "        {\n",
    "            'words': ['bristol'],\n",
    "            'hq': 'Bristol'\n",
    "        },\n",
    "        {\n",
    "            'words': ['manchester'],\n",
    "            'hq': 'Manchester, UK'\n",
    "        },\n",
    "        {\n",
    "            'words': ['guildford'],\n",
    "            'hq': 'Guildford, UK'\n",
    "        },\n",
    "        {\n",
    "            'words': ['boston'],\n",
    "            'hq': 'Boston, MA'\n",
    "        },\n",
    "        {\n",
    "            'words': ['singapore'],\n",
    "            'hq': 'Singapore'\n",
    "        },\n",
    "        {\n",
    "            'words': ['new delhi'],\n",
    "            'hq': 'New Delhi'\n",
    "        },\n",
    "        {\n",
    "            'words': ['chicago'],\n",
    "            'hq': 'Chicago, IL'\n",
    "        },\n",
    "        {\n",
    "            'words': ['austin'],\n",
    "            'hq': 'Austin, TX'\n",
    "        },\n",
    "        {\n",
    "            'words': ['seattle'],\n",
    "            'hq': 'Seattle, WA'\n",
    "        },\n",
    "        {\n",
    "            'words': ['madison'],\n",
    "            'hq': 'Madison, WI'\n",
    "        },\n",
    "        {\n",
    "            'words': ['washington'],\n",
    "            'hq': 'Washington, DC'\n",
    "        },\n",
    "        {\n",
    "            'words': ['atlanta'],\n",
    "            'hq': 'Atlanta, GA'\n",
    "        },\n",
    "        {\n",
    "            'words': ['northbrook'],\n",
    "            'hq': 'Northbrook, IL'\n",
    "        },\n",
    "        {\n",
    "            'words': ['nashville'],\n",
    "            'hq': 'Nashville, TN'\n",
    "        },\n",
    "        {\n",
    "            'words': ['fremont'],\n",
    "            'hq': 'Fremont, CA'\n",
    "        },\n",
    "        {\n",
    "            'words': ['irvine'],\n",
    "            'hq': 'Irvine, CA'\n",
    "        },\n",
    "        {\n",
    "            'words': ['dallas'],\n",
    "            'hq': 'Dallas, TX'\n",
    "        },\n",
    "        {\n",
    "            'words': ['miami'],\n",
    "            'hq': 'Miami, FL'\n",
    "        },\n",
    "        {\n",
    "            'words': ['ann arbor'],\n",
    "            'hq': 'Ann Arbor, MI'\n",
    "        },\n",
    "        {\n",
    "            'words': ['lancaster'],\n",
    "            'hq': 'Lancaster, PA'\n",
    "        },\n",
    "        {\n",
    "            'words': ['philadelphia'],\n",
    "            'hq': 'Philadelphia, PA'\n",
    "        },\n",
    "        {\n",
    "            'words': ['indianapolis'],\n",
    "            'hq': 'Indianapolis, IN'\n",
    "        },\n",
    "        {\n",
    "            'words': ['bangalore'],\n",
    "            'hq': 'Bangalore, Karnataka'\n",
    "        },\n",
    "        {\n",
    "            'words': ['san jose'],\n",
    "            'hq': 'San Jose, CA'\n",
    "        },\n",
    "        {\n",
    "            'words': ['mc lean', 'mclean'],\n",
    "            'hq': 'Mc Lean, VA'\n",
    "        },\n",
    "        {\n",
    "            'words': ['st. louis', 'st louis'],\n",
    "            'hq': 'St. Louis, MO'\n",
    "        },\n",
    "        ]\n",
    "\n",
    "    for mapping in mappings:\n",
    "        if any(word in linkedin_hq.lower() for word in mapping['words']):\n",
    "            return mapping['hq']\n",
    "\n",
    "    return linkedin_hq"
   ]
  },
  {
   "cell_type": "code",
   "execution_count": 28,
   "metadata": {},
   "outputs": [
    {
     "output_type": "execute_result",
     "data": {
      "text/plain": "Chicago, IL               87\nNew York, NY              47\nLondon, UK                39\nSan Francisco, CA         20\nAtlanta, GA                9\nAustin, TX                 9\nAhmedabad, Gujarat         6\nParis, France              6\nSeattle, WA                6\nLos Angeles, CA            6\nMadison, WI                5\nWashington, DC             5\nPhiladelphia, PA           4\nSt. Louis, MO              4\nBoston, MA                 4\nHouston, TX                4\nIndianapolis, IN           3\nBerlin, Germany            3\nPune, Maharashtra          3\nBangalore, Karnataka       3\nNaperville, IL             3\nHannover, Lower Saxony     3\nCharlotte, NC              3\nFremont, CA                3\nBristol                    3\nToronto, Ontario           3\nCincinnati, OH             3\nIrvine, CA                 3\nWarsaw, Poland             3\nSan Jose, CA               3\nNew Delhi                  2\nMunich                     2\nLibertyville, IL           2\nCairo                      2\nMilwaukee, WI              2\nSanta Clara, CA            2\nMenlo Park, CA             2\nLake Forest, IL            2\nAnn Arbor, MI              2\nOakland, CA                2\nPittsburgh, PA             2\nSchaumburg, IL             2\nBethesda, MD               2\nLittle Rock, AR            2\nSofia, Sofia               2\nVadodara, Gujarat          2\nLancaster, PA              2\nCambridge, MA              2\nGlendale, CA               2\nDublin, OH                 2\nManchester, UK             2\nMc Lean, VA                2\nSan Rafael, CA             2\nJaipur, Rajasthan          2\nTeaneck, NJ                2\nNashville, TN              2\nNewark, Delaware           2\nPortland, Oregon           2\nCupertino, CA              2\nEvanston, IL               2\nName: LinkedIn headquarter, dtype: int64"
     },
     "metadata": {},
     "execution_count": 28
    }
   ],
   "source": [
    "df['LinkedIn headquarter'] = df['LinkedIn headquarter'].fillna('')\n",
    "\n",
    "df['LinkedIn headquarter'] = np.vectorize(generalize_headquarter)(df['LinkedIn headquarter'])\n",
    "\n",
    "df['LinkedIn headquarter'] = df['LinkedIn headquarter'].replace(' ', np.nan).replace('', np.nan)\n",
    "df['LinkedIn headquarter'].value_counts().head(60) #.head(150).iloc[::-1]"
   ]
  },
  {
   "cell_type": "code",
   "execution_count": 29,
   "metadata": {},
   "outputs": [
    {
     "output_type": "execute_result",
     "data": {
      "text/plain": "1 follower    1\nName: LinkedIn headquarter, dtype: int64"
     },
     "metadata": {},
     "execution_count": 29
    }
   ],
   "source": [
    "phrase='follower'\n",
    "df['LinkedIn headquarter'] = df['LinkedIn headquarter'].fillna('')\n",
    "df[df['LinkedIn headquarter'].str.contains(phrase)]['LinkedIn headquarter'].value_counts().head(60)"
   ]
  },
  {
   "cell_type": "markdown",
   "metadata": {},
   "source": [
    "# Merge with existing data!"
   ]
  },
  {
   "cell_type": "code",
   "execution_count": 30,
   "metadata": {},
   "outputs": [
    {
     "output_type": "execute_result",
     "data": {
      "text/plain": "Associated Company ID      639\nAssociated Company         639\nDirector                   467\nHubspot url                639\nLinkedIn url               603\nLinkedIn size              580\nLinkedIn specialties       427\nLinkedIn Industry          596\nIndustry                   235\nAggregated Industry        639\nDeal Stage                 639\nLinkedIn website           569\nLinkedIn favicon             0\nLinkedIn temporary logo    533\nLinkedIn headquarter       551\nUnnamed: 16                  0\nLinkedIn site favicon      569\ndtype: int64"
     },
     "metadata": {},
     "execution_count": 30
    }
   ],
   "source": [
    "data_file = os.path.join(data_folder, 'companies-with-extended-linkedin-data-and-aggregated-findep-industry-and-directors.csv')\n",
    "\n",
    "existing_companies = pd.read_csv(data_file, index_col=0)\n",
    "existing_companies.count()"
   ]
  },
  {
   "cell_type": "code",
   "execution_count": 31,
   "metadata": {},
   "outputs": [
    {
     "output_type": "execute_result",
     "data": {
      "text/plain": "Company ID                 639\nCompany Name               639\nDirector                   467\nHubspot url                639\nLinkedIn url               603\nLinkedIn website           569\nLinkedIn size              580\nLinkedIn specialties       427\nLinkedIn Industry          596\nIndustry                   235\nAggregated Industry        639\nLinkedIn headquarter       551\nLinkedIn temporary logo    533\nPhone Number               639\ndtype: int64"
     },
     "metadata": {},
     "execution_count": 31
    }
   ],
   "source": [
    "df1 = existing_companies[['Associated Company ID', 'Associated Company', 'Director', 'Hubspot url', 'LinkedIn url','LinkedIn website', 'LinkedIn size', 'LinkedIn specialties', 'LinkedIn Industry', 'Industry', 'Aggregated Industry', 'LinkedIn headquarter', 'LinkedIn temporary logo']]\n",
    "df1['Phone Number']=''\n",
    "df1 = df1.rename(columns={\"Associated Company ID\": \"Company ID\"})\n",
    "df1 = df1.rename(columns={\"Associated Company\": \"Company Name\"})\n",
    "df1.count()"
   ]
  },
  {
   "cell_type": "code",
   "execution_count": 32,
   "metadata": {},
   "outputs": [
    {
     "output_type": "execute_result",
     "data": {
      "text/plain": "Chicago, IL                      136\nLondon, UK                        54\nNew York, NY                      35\nLos Angeles, CA                   14\nSan Francisco, CA                 14\nWashington, DC                     9\nSeattle, WA                        7\n9 Global Locations, Worldwide      6\nBoston, MA                         5\nDeerfield, IL                      4\nIrvine, CA                         4\nSanta Monica, CA                   4\nPhiladelphia, PA                   3\nMadison, WI                        3\nMiami, FL                          3\nTempe, AZ                          3\nDenver, Colorado                   2\nZurich                             2\nWaltham, MA                        2\nEnglewood, Colorado                2\nDearborn, Michigan                 2\nNorthbrook, IL                     2\nPlano, TX                          2\nPasadena, CA                       2\nAuckland, Auckland                 2\nCosta Mesa, CA                     2\nIndianapolis, IN                   2\nNashville, TN                      2\nParis, France                      2\nRolling Meadows, IL                2\nToronto, Ontario                   2\nHouston, TX                        2\nEvanston, IL                       2\nMachesney Park, IL                 2\nAkron, OH                          2\nCleveland, OH                      2\nSanta Barbara, CA                  2\nMinneapolis, MN                    2\nSan Jose, CA                       2\nAustin, TX                         2\nBurbank, CA                        2\nGreenville, South Carolina         2\nDenver, CO                         2\nOakland, CA                        2\nAtlanta, GA                        2\nRaleigh, NC                        2\nCA                                 1\nChampaign, IL                      1\nCharlotte, NC                      1\nHomewood, AL                       1\nEncino, CA                         1\nBrookfield, WI                     1\nCape Town, Western Cape            1\nChula Vista, CA                    1\nKonawa, Oklahoma                   1\nZagreb                             1\nSan Diego, CA                      1\nNewbury, Berkshire                 1\nCairo, Cairo                       1\nHove, East Sussex                  1\nName: LinkedIn headquarter, dtype: int64"
     },
     "metadata": {},
     "execution_count": 32
    }
   ],
   "source": [
    "df1['LinkedIn headquarter'] = df1['LinkedIn headquarter'].fillna('')\n",
    "\n",
    "df1['LinkedIn headquarter'] = np.vectorize(generalize_headquarter)(df1['LinkedIn headquarter'])\n",
    "\n",
    "df1['LinkedIn headquarter'] = df1['LinkedIn headquarter'].replace(' ', np.nan).replace('', np.nan)\n",
    "df1['LinkedIn headquarter'].value_counts().head(60) "
   ]
  },
  {
   "cell_type": "code",
   "execution_count": 33,
   "metadata": {},
   "outputs": [
    {
     "output_type": "execute_result",
     "data": {
      "text/plain": "Zurich             2\nLake Zurich, IL    1\nName: LinkedIn headquarter, dtype: int64"
     },
     "metadata": {},
     "execution_count": 33
    }
   ],
   "source": [
    "phrase='Zurich'\n",
    "df1['LinkedIn headquarter'] = df1['LinkedIn headquarter'].fillna('')\n",
    "df1[df1['LinkedIn headquarter'].str.contains(phrase)]['LinkedIn headquarter'].value_counts().head(60)"
   ]
  },
  {
   "cell_type": "code",
   "execution_count": 34,
   "metadata": {},
   "outputs": [
    {
     "output_type": "execute_result",
     "data": {
      "text/plain": "Company ID                 701\nCompany Name               701\nDirector                   674\nPhone Number               560\nHubspot url                701\nLinkedIn url               701\nLinkedIn website           686\nLinkedIn size              683\nLinkedIn specialties       544\nLinkedIn Industry          701\nIndustry                   701\nAggregated Industry        695\nLinkedIn headquarter       701\nLinkedIn temporary logo    657\ndtype: int64"
     },
     "metadata": {},
     "execution_count": 34
    }
   ],
   "source": [
    "df2 = df[['Company ID', 'Company Name', 'Director', 'Phone Number','Hubspot url', 'LinkedIn url','LinkedIn website', 'LinkedIn size', 'LinkedIn specialties', 'LinkedIn Industry', 'Industry', 'Aggregated Industry', 'LinkedIn headquarter', 'LinkedIn temporary logo']]\n",
    "df2['Company ID'] = df2['Company ID'].apply(str)\n",
    "df2.count()"
   ]
  },
  {
   "cell_type": "code",
   "execution_count": 35,
   "metadata": {},
   "outputs": [
    {
     "output_type": "stream",
     "name": "stdout",
     "text": "<class 'pandas.core.frame.DataFrame'>\nInt64Index: 1340 entries, 0 to 700\nData columns (total 14 columns):\nAggregated Industry        1340 non-null object\nCompany ID                 1340 non-null object\nCompany Name               1340 non-null object\nDirector                   1340 non-null object\nHubspot url                1340 non-null object\nIndustry                   1340 non-null object\nLinkedIn Industry          1340 non-null object\nLinkedIn headquarter       1340 non-null object\nLinkedIn size              1340 non-null object\nLinkedIn specialties       1340 non-null object\nLinkedIn temporary logo    1340 non-null object\nLinkedIn url               1340 non-null object\nLinkedIn website           1340 non-null object\nPhone Number               1340 non-null object\ndtypes: object(14)\nmemory usage: 157.0+ KB\n"
    }
   ],
   "source": [
    "joined_companies = pd.concat([df1, df2])\n",
    "joined_companies['LinkedIn headquarter'] = joined_companies['LinkedIn headquarter'].replace('1 follower', np.nan)\n",
    "joined_companies=joined_companies.fillna('')\n",
    "joined_companies.info()"
   ]
  },
  {
   "cell_type": "code",
   "execution_count": 36,
   "metadata": {},
   "outputs": [
    {
     "output_type": "execute_result",
     "data": {
      "text/plain": "Aggregated Industry        1340\nCompany ID                 1340\nCompany Name               1340\nDirector                   1340\nHubspot url                1340\nIndustry                   1340\nLinkedIn Industry          1340\nLinkedIn headquarter       1340\nLinkedIn size              1340\nLinkedIn specialties       1340\nLinkedIn temporary logo    1340\nLinkedIn url               1340\nLinkedIn website           1340\nPhone Number               1340\ndtype: int64"
     },
     "metadata": {},
     "execution_count": 36
    }
   ],
   "source": [
    "joined_companies.count()"
   ]
  },
  {
   "cell_type": "code",
   "execution_count": 37,
   "metadata": {},
   "outputs": [
    {
     "output_type": "execute_result",
     "data": {
      "text/plain": "       Aggregated Industry  Company ID               Company Name  \\\n0               Non Profit  1005828045        Big Radical Limited   \n1               Healthcare  1006470667               psygro.co.za   \n2               Healthcare  1006849789  Care Coordination Systems   \n3               Healthcare  1011074056           KOS Services LLC   \n4               Technology  1015911460                Jellyvision   \n...                    ...         ...                        ...   \n1335  Design & Engineering   597686649          4C Insights, Inc.   \n1336             Education   730444815          DePaul University   \n1337  Design & Engineering   598254423            Collective Idea   \n1338  Design & Engineering  3312503697                     StockX   \n1339            Non Profit  1764191793         Los Angeles County   \n\n                                 Director  \\\n0                               Nick Dyer   \n1                                           \n2                           Doug Bradbury   \n3                                           \n4                                           \n...                                   ...   \n1335                          Ryan Verner   \n1336                           Paul Pagel   \n1337                          Ryan Verner   \n1338      Jenn Imamura (Deactivated User)   \n1339  Lydia Lindenberg (Deactivated User)   \n\n                                            Hubspot url  \\\n0     https://app.hubspot.com/contacts/4012159/compa...   \n1     https://app.hubspot.com/contacts/4012159/compa...   \n2     https://app.hubspot.com/contacts/4012159/compa...   \n3     https://app.hubspot.com/contacts/4012159/compa...   \n4     https://app.hubspot.com/contacts/4012159/compa...   \n...                                                 ...   \n1335  https://app.hubspot.com/contacts/4012159/compa...   \n1336  https://app.hubspot.com/contacts/4012159/compa...   \n1337  https://app.hubspot.com/contacts/4012159/compa...   \n1338  https://app.hubspot.com/contacts/4012159/compa...   \n1339  https://app.hubspot.com/contacts/4012159/compa...   \n\n                       Industry                  LinkedIn Industry  \\\n0                     NonProfit              Management Consulting   \n1                                               Mental Health Care   \n2                    HealthCare             Hospital & Health Care   \n3                                                 Medical Practice   \n4                                Information Technology & Services   \n...                         ...                                ...   \n1335          Computer Software            Marketing & Advertising   \n1336           Higher Education                   Higher Education   \n1337          Computer Software                  Computer Software   \n1338          Computer Software                           Internet   \n1339  Government Administration          Government Administration   \n\n     LinkedIn headquarter LinkedIn size  \\\n0              London, UK         11-50   \n1                                51-200   \n2               Akron, OH          2-10   \n3             Chicago, IL       201-500   \n4             Chicago, IL       201-500   \n...                   ...           ...   \n1335          Chicago, IL        51-200   \n1336          Chicago, IL   1,001-5,000   \n1337          Holland, MI         11-50   \n1338    Detroit, Michigan     501-1,000   \n1339                            10,001+   \n\n                                   LinkedIn specialties  \\\n0     Innovation, Consultancy, design sprints, techn...   \n1                                                         \n2     Community Health, Pathways, HUB, Pathways Conn...   \n3                                                         \n4     Benefits Communication, Interactive Conversati...   \n...                                                 ...   \n1335  social media intelligence, analytics and measu...   \n1336  Service_learning, entrepreneurship, MBA, accou...   \n1337  Web application development, iOS development, ...   \n1338           Operations, Internet, e-Commerce, Retail   \n1339                                                      \n\n                                LinkedIn temporary logo  \\\n0     https://media-exp1.licdn.com/dms/image/C4E0BAQ...   \n1     https://media-exp1.licdn.com/dms/image/C560BAQ...   \n2     https://media-exp1.licdn.com/dms/image/C4D0BAQ...   \n3                                                         \n4     https://media-exp1.licdn.com/dms/image/C4E0BAQ...   \n...                                                 ...   \n1335  https://media-exp1.licdn.com/dms/image/C4D0BAQ...   \n1336  https://media-exp1.licdn.com/dms/image/C4E0BAQ...   \n1337  https://media-exp1.licdn.com/dms/image/C4E0BAQ...   \n1338  https://media-exp1.licdn.com/dms/image/C4E0BAQ...   \n1339                                                      \n\n                                           LinkedIn url  \\\n0     https://www.linkedin.com/company/big-radical/a...   \n1        https://www.linkedin.com/company/psygro/about/   \n2     https://www.linkedin.com/company/beach-group/a...   \n3     https://www.linkedin.com/company/kos-services-...   \n4     https://www.linkedin.com/company/jellyvision/a...   \n...                                                 ...   \n1335  https://www.linkedin.com/company/4c-insights/a...   \n1336  https://www.linkedin.com/company/depaul-univer...   \n1337  https://www.linkedin.com/company/collective-id...   \n1338    https://www.linkedin.com/company/15261355/about   \n1339       https://www.linkedin.com/company/16076/about   \n\n                 LinkedIn website  Phone Number  \n0           http://bigradical.com                \n1            http://www.psygro.nl                \n2     https://www.ccspathways.com                \n3          http://kosservices.com                \n4      http://www.jellyvision.com                \n...                           ...           ...  \n1335   http://www.4Cinsights.com/  312-756-7771  \n1336            http://depaul.edu    3123628000  \n1337    http://collectiveidea.com    6164992122  \n1338           https://stockx.com  313-373-3000  \n1339                                 3104195384  \n\n[1340 rows x 14 columns]",
      "text/html": "<div>\n<style scoped>\n    .dataframe tbody tr th:only-of-type {\n        vertical-align: middle;\n    }\n\n    .dataframe tbody tr th {\n        vertical-align: top;\n    }\n\n    .dataframe thead th {\n        text-align: right;\n    }\n</style>\n<table border=\"1\" class=\"dataframe\">\n  <thead>\n    <tr style=\"text-align: right;\">\n      <th></th>\n      <th>Aggregated Industry</th>\n      <th>Company ID</th>\n      <th>Company Name</th>\n      <th>Director</th>\n      <th>Hubspot url</th>\n      <th>Industry</th>\n      <th>LinkedIn Industry</th>\n      <th>LinkedIn headquarter</th>\n      <th>LinkedIn size</th>\n      <th>LinkedIn specialties</th>\n      <th>LinkedIn temporary logo</th>\n      <th>LinkedIn url</th>\n      <th>LinkedIn website</th>\n      <th>Phone Number</th>\n    </tr>\n  </thead>\n  <tbody>\n    <tr>\n      <td>0</td>\n      <td>Non Profit</td>\n      <td>1005828045</td>\n      <td>Big Radical Limited</td>\n      <td>Nick Dyer</td>\n      <td>https://app.hubspot.com/contacts/4012159/compa...</td>\n      <td>NonProfit</td>\n      <td>Management Consulting</td>\n      <td>London, UK</td>\n      <td>11-50</td>\n      <td>Innovation, Consultancy, design sprints, techn...</td>\n      <td>https://media-exp1.licdn.com/dms/image/C4E0BAQ...</td>\n      <td>https://www.linkedin.com/company/big-radical/a...</td>\n      <td>http://bigradical.com</td>\n      <td></td>\n    </tr>\n    <tr>\n      <td>1</td>\n      <td>Healthcare</td>\n      <td>1006470667</td>\n      <td>psygro.co.za</td>\n      <td></td>\n      <td>https://app.hubspot.com/contacts/4012159/compa...</td>\n      <td></td>\n      <td>Mental Health Care</td>\n      <td></td>\n      <td>51-200</td>\n      <td></td>\n      <td>https://media-exp1.licdn.com/dms/image/C560BAQ...</td>\n      <td>https://www.linkedin.com/company/psygro/about/</td>\n      <td>http://www.psygro.nl</td>\n      <td></td>\n    </tr>\n    <tr>\n      <td>2</td>\n      <td>Healthcare</td>\n      <td>1006849789</td>\n      <td>Care Coordination Systems</td>\n      <td>Doug Bradbury</td>\n      <td>https://app.hubspot.com/contacts/4012159/compa...</td>\n      <td>HealthCare</td>\n      <td>Hospital &amp; Health Care</td>\n      <td>Akron, OH</td>\n      <td>2-10</td>\n      <td>Community Health, Pathways, HUB, Pathways Conn...</td>\n      <td>https://media-exp1.licdn.com/dms/image/C4D0BAQ...</td>\n      <td>https://www.linkedin.com/company/beach-group/a...</td>\n      <td>https://www.ccspathways.com</td>\n      <td></td>\n    </tr>\n    <tr>\n      <td>3</td>\n      <td>Healthcare</td>\n      <td>1011074056</td>\n      <td>KOS Services LLC</td>\n      <td></td>\n      <td>https://app.hubspot.com/contacts/4012159/compa...</td>\n      <td></td>\n      <td>Medical Practice</td>\n      <td>Chicago, IL</td>\n      <td>201-500</td>\n      <td></td>\n      <td></td>\n      <td>https://www.linkedin.com/company/kos-services-...</td>\n      <td>http://kosservices.com</td>\n      <td></td>\n    </tr>\n    <tr>\n      <td>4</td>\n      <td>Technology</td>\n      <td>1015911460</td>\n      <td>Jellyvision</td>\n      <td></td>\n      <td>https://app.hubspot.com/contacts/4012159/compa...</td>\n      <td></td>\n      <td>Information Technology &amp; Services</td>\n      <td>Chicago, IL</td>\n      <td>201-500</td>\n      <td>Benefits Communication, Interactive Conversati...</td>\n      <td>https://media-exp1.licdn.com/dms/image/C4E0BAQ...</td>\n      <td>https://www.linkedin.com/company/jellyvision/a...</td>\n      <td>http://www.jellyvision.com</td>\n      <td></td>\n    </tr>\n    <tr>\n      <td>...</td>\n      <td>...</td>\n      <td>...</td>\n      <td>...</td>\n      <td>...</td>\n      <td>...</td>\n      <td>...</td>\n      <td>...</td>\n      <td>...</td>\n      <td>...</td>\n      <td>...</td>\n      <td>...</td>\n      <td>...</td>\n      <td>...</td>\n      <td>...</td>\n    </tr>\n    <tr>\n      <td>1335</td>\n      <td>Design &amp; Engineering</td>\n      <td>597686649</td>\n      <td>4C Insights, Inc.</td>\n      <td>Ryan Verner</td>\n      <td>https://app.hubspot.com/contacts/4012159/compa...</td>\n      <td>Computer Software</td>\n      <td>Marketing &amp; Advertising</td>\n      <td>Chicago, IL</td>\n      <td>51-200</td>\n      <td>social media intelligence, analytics and measu...</td>\n      <td>https://media-exp1.licdn.com/dms/image/C4D0BAQ...</td>\n      <td>https://www.linkedin.com/company/4c-insights/a...</td>\n      <td>http://www.4Cinsights.com/</td>\n      <td>312-756-7771</td>\n    </tr>\n    <tr>\n      <td>1336</td>\n      <td>Education</td>\n      <td>730444815</td>\n      <td>DePaul University</td>\n      <td>Paul Pagel</td>\n      <td>https://app.hubspot.com/contacts/4012159/compa...</td>\n      <td>Higher Education</td>\n      <td>Higher Education</td>\n      <td>Chicago, IL</td>\n      <td>1,001-5,000</td>\n      <td>Service_learning, entrepreneurship, MBA, accou...</td>\n      <td>https://media-exp1.licdn.com/dms/image/C4E0BAQ...</td>\n      <td>https://www.linkedin.com/company/depaul-univer...</td>\n      <td>http://depaul.edu</td>\n      <td>3123628000</td>\n    </tr>\n    <tr>\n      <td>1337</td>\n      <td>Design &amp; Engineering</td>\n      <td>598254423</td>\n      <td>Collective Idea</td>\n      <td>Ryan Verner</td>\n      <td>https://app.hubspot.com/contacts/4012159/compa...</td>\n      <td>Computer Software</td>\n      <td>Computer Software</td>\n      <td>Holland, MI</td>\n      <td>11-50</td>\n      <td>Web application development, iOS development, ...</td>\n      <td>https://media-exp1.licdn.com/dms/image/C4E0BAQ...</td>\n      <td>https://www.linkedin.com/company/collective-id...</td>\n      <td>http://collectiveidea.com</td>\n      <td>6164992122</td>\n    </tr>\n    <tr>\n      <td>1338</td>\n      <td>Design &amp; Engineering</td>\n      <td>3312503697</td>\n      <td>StockX</td>\n      <td>Jenn Imamura (Deactivated User)</td>\n      <td>https://app.hubspot.com/contacts/4012159/compa...</td>\n      <td>Computer Software</td>\n      <td>Internet</td>\n      <td>Detroit, Michigan</td>\n      <td>501-1,000</td>\n      <td>Operations, Internet, e-Commerce, Retail</td>\n      <td>https://media-exp1.licdn.com/dms/image/C4E0BAQ...</td>\n      <td>https://www.linkedin.com/company/15261355/about</td>\n      <td>https://stockx.com</td>\n      <td>313-373-3000</td>\n    </tr>\n    <tr>\n      <td>1339</td>\n      <td>Non Profit</td>\n      <td>1764191793</td>\n      <td>Los Angeles County</td>\n      <td>Lydia Lindenberg (Deactivated User)</td>\n      <td>https://app.hubspot.com/contacts/4012159/compa...</td>\n      <td>Government Administration</td>\n      <td>Government Administration</td>\n      <td></td>\n      <td>10,001+</td>\n      <td></td>\n      <td></td>\n      <td>https://www.linkedin.com/company/16076/about</td>\n      <td></td>\n      <td>3104195384</td>\n    </tr>\n  </tbody>\n</table>\n<p>1340 rows × 14 columns</p>\n</div>"
     },
     "metadata": {},
     "execution_count": 37
    }
   ],
   "source": [
    "df_to_save=joined_companies.reset_index(drop=True)\n",
    "\n",
    "target_file = os.path.join(data_folder, 'merged-existing-and-hubspot-companies-with-linkedin-links-aggregated.csv')\n",
    "# df_to_save.to_csv(target_file, index=True)\n",
    "\n",
    "df_to_save"
   ]
  },
  {
   "cell_type": "code",
   "execution_count": 38,
   "metadata": {},
   "outputs": [
    {
     "output_type": "execute_result",
     "data": {
      "text/plain": "11-50           302\n2-10            239\n51-200          215\n10,001+         143\n1,001-5,000     115\n201-500         110\n501-1,000        80\n                 77\n5,001-10,000     44\n0-1              15\nName: LinkedIn size, dtype: int64"
     },
     "metadata": {},
     "execution_count": 38
    }
   ],
   "source": [
    "df_to_save['LinkedIn size'].value_counts().head(60) "
   ]
  },
  {
   "cell_type": "code",
   "execution_count": null,
   "metadata": {},
   "outputs": [],
   "source": []
  }
 ],
 "metadata": {
  "language_info": {
   "codemirror_mode": {
    "name": "ipython",
    "version": 3
   },
   "file_extension": ".py",
   "mimetype": "text/x-python",
   "name": "python",
   "nbconvert_exporter": "python",
   "pygments_lexer": "ipython3",
   "version": "3.7.4-final"
  },
  "orig_nbformat": 2,
  "kernelspec": {
   "name": "python37464bitanaconda3virtualenvd52db71446784f42972ec097c4b2c8ef",
   "display_name": "Python 3.7.4 64-bit ('anaconda3': virtualenv)"
  }
 },
 "nbformat": 4,
 "nbformat_minor": 2
}